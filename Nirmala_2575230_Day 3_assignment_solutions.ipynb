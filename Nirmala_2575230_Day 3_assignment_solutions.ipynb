{
 "cells": [
  {
   "cell_type": "markdown",
   "id": "dc5d485c",
   "metadata": {},
   "source": [
    "# 8. Assume that you are developing a student gradebook system for a school. The system should allow teachers to input student grades for various subjects, store the data in files, and provide students with the ability to view their grades.\n",
    "\n",
    "Design a Python program that accomplishes the following tasks:\n",
    "\n",
    "i. Teachers should be able to input grades for students in different subjects.\n",
    "\n",
    "ii. Store the student grade data in separate text files for each subject.\n",
    "\n",
    "iii. Students should be able to view their grades for each subject.\n",
    "\n",
    "iv. Implement error handling for file operations, such as file not found or permission issues."
   ]
  },
  {
   "cell_type": "code",
   "execution_count": 10,
   "id": "0bd6d3bd",
   "metadata": {
    "scrolled": true
   },
   "outputs": [
    {
     "name": "stdout",
     "output_type": "stream",
     "text": [
      "\n",
      "Student Gradebook System\n",
      "1. Input Grades\n",
      "2. View Grades\n",
      "3. Exit\n",
      "Enter your choice (1/2/3): 1\n",
      "Enter the subject: Math\n",
      "Enter student name: ramu\n",
      "Enter Math grade for ramu: 80\n",
      "Grade for ramu in Math has been recorded.\n",
      "\n",
      "Student Gradebook System\n",
      "1. Input Grades\n",
      "2. View Grades\n",
      "3. Exit\n",
      "Enter your choice (1/2/3): 1\n",
      "Enter the subject: Math\n",
      "Enter student name: Raj\n",
      "Enter Math grade for Raj: 90\n",
      "Grade for Raj in Math has been recorded.\n",
      "\n",
      "Student Gradebook System\n",
      "1. Input Grades\n",
      "2. View Grades\n",
      "3. Exit\n",
      "Enter your choice (1/2/3): 2\n",
      "Enter the subject: math\n",
      "Grades for math:\n",
      "ramu: 80\n",
      "Raj: 90\n",
      "\n",
      "Student Gradebook System\n",
      "1. Input Grades\n",
      "2. View Grades\n",
      "3. Exit\n",
      "Enter your choice (1/2/3): 3\n",
      "Goodbye!\n"
     ]
    }
   ],
   "source": [
    "import os\n",
    "\n",
    "\n",
    "def input_grades(subject):\n",
    "    try:\n",
    "        file_name = f\"{subject}.txt\"\n",
    "        with open(file_name, \"a\") as file:\n",
    "            student_name = input(\"Enter student name: \")\n",
    "            grade = input(f\"Enter {subject} grade for {student_name}: \")\n",
    "            file.write(f\"{student_name}: {grade}\\n\")\n",
    "        print(f\"Grade for {student_name} in {subject} has been recorded.\")\n",
    "    except IOError as e:\n",
    "        print(f\"Error: {e}\")\n",
    "\n",
    "\n",
    "def view_grades(subject):\n",
    "    try:\n",
    "        file_name = f\"{subject}.txt\"\n",
    "        if not os.path.exists(file_name):\n",
    "            print(f\"No grades recorded for {subject} yet.\")\n",
    "            return\n",
    "\n",
    "        with open(file_name, \"r\") as file:\n",
    "            print(f\"Grades for {subject}:\")\n",
    "            for line in file:\n",
    "                print(line.strip())\n",
    "    except IOError as e:\n",
    "        print(f\"Error: {e}\")\n",
    "\n",
    "\n",
    "while True:\n",
    "    print(\"\\nStudent Gradebook System\")\n",
    "    print(\"1. Input Grades\")\n",
    "    print(\"2. View Grades\")\n",
    "    print(\"3. Exit\")\n",
    "\n",
    "    choice = input(\"Enter your choice (1/2/3): \")\n",
    "\n",
    "    if choice == \"1\":\n",
    "        subject = input(\"Enter the subject: \")\n",
    "        input_grades(subject)\n",
    "    elif choice == \"2\":\n",
    "        subject = input(\"Enter the subject: \")\n",
    "        view_grades(subject)\n",
    "    elif choice == \"3\":\n",
    "        break\n",
    "    else:\n",
    "        print(\"Invalid choice. Please enter 1, 2, or 3.\")\n",
    "\n",
    "print(\"Goodbye!\")"
   ]
  },
  {
   "cell_type": "markdown",
   "id": "be460f22",
   "metadata": {},
   "source": [
    "# 2. Print all numbers present in the text file and print the number of blank spaces in that file.\n"
   ]
  },
  {
   "cell_type": "code",
   "execution_count": 14,
   "id": "eeeeabda",
   "metadata": {},
   "outputs": [
    {
     "name": "stdout",
     "output_type": "stream",
     "text": [
      "Numbers in the file: 13\n",
      "Number of blank spaces: 87\n"
     ]
    }
   ],
   "source": [
    "source_file_path = \"test1_file\"\n",
    "def program(source_file_path):\n",
    "    try:\n",
    "        with open(test1_file, 'r') as file:\n",
    "            text = file.read()\n",
    "            numbers = []\n",
    "            spaces_count = 0\n",
    "            \n",
    "            for character in text:\n",
    "                if character.isdigit():\n",
    "                    numbers.append(character)\n",
    "                elif character.isspace():\n",
    "                    spaces_count += 1\n",
    "            numbers_str = ''.join(numbers)\n",
    "            print(\"Numbers in the file:\", numbers_str)\n",
    "            print(\"Number of blank spaces:\", spaces_count)\n",
    "    \n",
    "    except FileNotFoundError:\n",
    "        print(\"File not found.\")\n",
    "    except Exception as e:\n",
    "        print(f\"An error occurred: {str(e)}\")\n",
    "        \n",
    "file_path = 'test1_file'  \n",
    "program(test1_file)"
   ]
  },
  {
   "cell_type": "markdown",
   "id": "566d8b23",
   "metadata": {},
   "source": [
    "# 5. Text File Search and Replace: You have a text file with a large amount of text, and you want to search for specific words or phrases and replace them with new content.\n",
    "\n",
    "a. Write Python code to search for and replace text within a text file.\n",
    "\n",
    "b. How would you handle cases where you need to perform multiple replacements in a single pass?"
   ]
  },
  {
   "cell_type": "code",
   "execution_count": 15,
   "id": "eca486e7",
   "metadata": {},
   "outputs": [
    {
     "name": "stdout",
     "output_type": "stream",
     "text": [
      "Search and replace complete. Output written to output5.txt\n"
     ]
    }
   ],
   "source": [
    "def search_replace_in_file(input_file, output_file, search_text, replace_text):\n",
    "    try:\n",
    "       \n",
    "        with open(input_file, 'r') as infile:\n",
    "            \n",
    "            file_content = infile.read()\n",
    "\n",
    "      \n",
    "        modified_content = file_content.replace(search_text, replace_text)\n",
    "\n",
    "       \n",
    "        with open(output_file, 'w') as outfile:\n",
    "          \n",
    "            outfile.write(modified_content)\n",
    "\n",
    "        print(\"Search and replace complete. Output written to\", output_file)\n",
    "    except Exception as e:\n",
    "        print(\"An error occurred:\", str(e))\n",
    "\n",
    "\n",
    "input_file = \"input5.txt\"   \n",
    "output_file = \"output5.txt\" \n",
    "search_text = \"to\"   \n",
    "replace_text = \"toooo\"  \n",
    "search_replace_in_file(input_file, output_file, search_text, replace_text)"
   ]
  },
  {
   "cell_type": "code",
   "execution_count": null,
   "id": "5d42e1a4",
   "metadata": {},
   "outputs": [],
   "source": [
    "def multiple_search_replace_in_file(input_file, output_file, replacements):\n",
    "    try:\n",
    "        with open(input_file, 'r') as infile:\n",
    "            file_content = infile.read()\n",
    "\n",
    "        for search_text, replace_text in replacements.items():\n",
    "            file_content = file_content.replace(search_text, replace_text)\n",
    "\n",
    "        with open(output_file, 'w') as outfile:\n",
    "            outfile.write(file_content)\n",
    "\n",
    "        print(\"Multiple search and replace complete. Output written to\", output_file)\n",
    "    except Exception as e:\n",
    "        print(\"An error occurred:\", str(e))\n",
    "        \n",
    "input_file = \"input5.txt\"  \n",
    "output_file = \"output5.txt\" \n",
    "replacements = {\n",
    "    \"has\": \"hasssss\"\n",
    "}\n",
    "multiple_search_replace_in_file(input_file, output_file, replacements)"
   ]
  },
  {
   "cell_type": "markdown",
   "id": "e54d92e7",
   "metadata": {},
   "source": [
    "# 7.You are given a text file named input.txt containing a list of words, one word per line. Your task is to create a Python program that reads the contents of input.txt, processes the words, and writes the result to an output file named output.txt.\n",
    "a. The program should perform the following operations:\n",
    "\n",
    "i. Read the words from input.txt.\n",
    "\n",
    "ii. For each word in the input file, calculate the length of the word and store it in a dictionary where the word is the key, and the length is the value.\n",
    "\n",
    "iii. Write the word-length dictionary to output.txt in the following format:\n",
    "\n",
    "Word 1 : Length 1 Word 2 : Length 2 ...\n",
    "\n",
    "Iv)Close both input and output files properly.\n",
    "\n",
    "v) Write Python code to accomplish this task. Ensure proper error handling for file operations.\n",
    "\n",
    "Sample Input(\"input.txt') apple Banana Cherry Date\n",
    "\n",
    "Sample output ( 'output.txt') Apple : 5 banana : 6 Cherry : 6 date : 4"
   ]
  },
  {
   "cell_type": "code",
   "execution_count": 19,
   "id": "7521d0df",
   "metadata": {},
   "outputs": [],
   "source": [
    " with open('input.txt', 'w') as file:\n",
    "    file.write(\"Apple.\\n\")\n",
    "    file.write(\"Box.\\n\")\n",
    "    file.write(\"Cat\\n\")\n",
    "    file.write(\"Dog\\n\")\n",
    "\n",
    "with open('output.txt', 'w') as file:\n",
    "    pass"
   ]
  },
  {
   "cell_type": "code",
   "execution_count": 20,
   "id": "5772fc7f",
   "metadata": {},
   "outputs": [
    {
     "name": "stdout",
     "output_type": "stream",
     "text": [
      "Processing completed. Check 'output.txt' for results.\n"
     ]
    }
   ],
   "source": [
    "7.input_file_name = 'input.txt'\n",
    "output_file_name = 'output.txt'\n",
    "\n",
    "try:\n",
    "    with open(input_file_name, 'r') as input_file:\n",
    "        word_length_dict = {} \n",
    "\n",
    "        for line in input_file:\n",
    "            word = line.strip()  \n",
    "            length = len(word)   \n",
    "            \n",
    "            word_length_dict[word] = length\n",
    "            \n",
    "    with open(output_file_name, 'w') as output_file:\n",
    "        for word, length in word_length_dict.items():\n",
    "            output_file.write(f\"{word}: {length}\\n\")\n",
    "\n",
    "    print(\"Processing completed. Check 'output.txt' for results.\")\n",
    "\n",
    "except FileNotFoundError:\n",
    "    print(f\"Error: {input_file_name} not found.\")\n",
    "except Exception as e:\n",
    "    print(f\"An error occurred: {str(e)}\")"
   ]
  },
  {
   "cell_type": "markdown",
   "id": "8144c214",
   "metadata": {},
   "source": [
    " # 3.Write a function called sed that takes as arguments a pattern string, a replacement string, and two filenames; it should read the first file and write the contents into the second file (creating it if necessary). If the pattern string appears anywhere in the file, it should be replaced with the replacement string. If an error occurs while opening, reading, writing, or closing files, your program should catch the exception, print an error message, and exit."
   ]
  },
  {
   "cell_type": "code",
   "execution_count": 32,
   "id": "1141b0d9",
   "metadata": {},
   "outputs": [],
   "source": [
    "with open ('xinput.txt', 'w') as file:\n",
    "    file.write(\"Snow on the beach.\\n\")\n",
    "    file.write(\"Mastermind.\\n\")\n",
    "    file.write(\"Karma\\n\")\n",
    "    file.write(\"Sweet Nothing\\n\")\n",
    "with open ('xoutput.txt' , 'w') as file: \n",
    "    ass\n",
    "    \n",
    "    \n",
    "pattern = \"Snow\"\n",
    "replacement = \"Mountain\"\n",
    "input_file = \"xinput.txt\"\n",
    "output_file = \"xoutput.txt\"\n"
   ]
  },
  {
   "cell_type": "code",
   "execution_count": 33,
   "id": "774dc824",
   "metadata": {},
   "outputs": [
    {
     "name": "stdout",
     "output_type": "stream",
     "text": [
      "Replacement complete. Output written to output.txt\n"
     ]
    }
   ],
   "source": [
    "def sed(pattern, replacement, input_file, output_file):\n",
    "    try:\n",
    "        with open('xinput.txt', 'r') as infile:\n",
    "            file_content = infile.read()\n",
    "            \n",
    "        new_content = file_content.replace(pattern, replacement)\n",
    "\n",
    "        with open(output_file, 'w') as outfile:\n",
    "            outfile.write(new_content)\n",
    "\n",
    "        print(\"Replacement complete. Output written to\", output_file)\n",
    "    except Exception as e:\n",
    "        print(\"An error occurred:\", str(e))\n",
    "\n",
    "try:\n",
    "    pattern = \"old_pattern\"\n",
    "    replacement = \"new_pattern\"\n",
    "    input_file = \"input.txt\"\n",
    "    output_file = \"output.txt\"\n",
    "    sed(pattern, replacement, input_file, output_file)\n",
    "except KeyboardInterrupt:\n",
    "    print(\"\\nOperation aborted by the user.\")\n",
    "except SystemExit:\n",
    "    print(\"\\nOperation terminated.\")"
   ]
  },
  {
   "cell_type": "markdown",
   "id": "0f2d8838",
   "metadata": {},
   "source": [
    "# 6. Write a Python script that concatenates the contents of multiple text files into a single output file. Allow the user to specify the input files and the output file."
   ]
  },
  {
   "cell_type": "code",
   "execution_count": null,
   "id": "96909e88",
   "metadata": {},
   "outputs": [],
   "source": [
    "def concatenate_text_files(input_files, output_file):\n",
    "    try:\n",
    "        \n",
    "        concatenated_content = \"\"\n",
    "\n",
    "       \n",
    "        for file_path in input_files:\n",
    "            with open(file_path, 'r') as file:\n",
    "                file_content = file.read()\n",
    "                concatenated_content += file_content\n",
    "\n",
    "        \n",
    "        with open(output_file, 'w') as output:\n",
    "            output.write(concatenated_content)\n",
    "\n",
    "        print(\"Concatenation complete. Output written to\", output_file)\n",
    "    except Exception as e:\n",
    "        print(\"An error occurred:\", str(e))\n",
    "\n",
    "\n",
    "input_files = []\n",
    "while True:\n",
    "    file_path = input(\"Enter the path of an input text file (leave empty to finish): \")\n",
    "    if not file_path:\n",
    "        break\n",
    "    input_files.append(file_path)\n",
    "\n",
    "if not input_files:\n",
    "    print(\"No input files specified. Exiting.\")\n",
    "else:\n",
    "    output_file = input(\"Enter the path of the output text file: \")\n",
    "\n",
    "  \n",
    "    concatenate_text_files(input_files, output_file)"
   ]
  },
  {
   "cell_type": "markdown",
   "id": "578e3b6d",
   "metadata": {},
   "source": [
    "# 4. Log File Analysis: You have a log file containing records of user activities on a website. Each line in the file represents a log entry with details like timestamp, user ID, and action performed. Your task is to analyze this log file."
   ]
  },
  {
   "cell_type": "code",
   "execution_count": null,
   "id": "7b7a7c46",
   "metadata": {},
   "outputs": [],
   "source": [
    "from collections import Counter\n",
    "\n",
    "def analyze_log_file(log_file_path):\n",
    "    unique_users = set()\n",
    "    action_counts = Counter()\n",
    "\n",
    "    try:\n",
    "        with open(log_file_path, 'r') as log_file:\n",
    "            for line in log_file:\n",
    "                components = line.strip().split(',')\n",
    "                if len(components) == 3:\n",
    "                    timestamp, user_id, action = components\n",
    "                    # Update unique users\n",
    "                    unique_users.add(user_id)\n",
    "                    # Update action counts\n",
    "                    action_counts[action] += 1\n",
    "\n",
    "        print(\"Number of unique users:\", len(unique_users))\n",
    "        most_common_action, most_common_count = action_counts.most_common(1)[0]\n",
    "        print(\"Most common action:\", most_common_action)\n",
    "        print(\"Count of the most common action:\", most_common_count)\n",
    "\n",
    "    except Exception as e:\n",
    "        print(\"An error occurred:\", str(e))\n",
    "\n",
    "log_file_path = \"your_log_file.txt\" \n",
    "analyze_log_file(log_file_path)"
   ]
  },
  {
   "cell_type": "markdown",
   "id": "a15b6242",
   "metadata": {},
   "source": [
    "# 1 Write a python function that copies a file reading and writing up to 50 characters at a time.\n",
    "\n",
    "\n",
    "def copy_file(test1_file, test2_file):\n",
    "    try:\n",
    "        with open(test1_file, 'rb') as source,open(test2_file, 'wb') as destination:\n",
    "                while True:\n",
    "                    # Read up to 50 characters (bytes) from the source file\n",
    "                    chunk = source.read(50)\n",
    "                    if not chunk:\n",
    "                        break  # End of file\n",
    "\n",
    "                    # Write the data to the destination file\n",
    "                    destination.write(chunk)\n",
    "    except FileNotFoundError:\n",
    "        print(f\"Error: File not found - {src_file}\")\n",
    "    except Exception as e:\n",
    "        print(f\"Error: {e}\")\n",
    "\n",
    "test1_file = \"test1.txt\"\n",
    "test2_file = \"test2.txt\"\n",
    "copy_file(test1_file, test2_file)\n",
    "print(f\"File '{test1_file}' copied to '{test2_file}'\")"
   ]
  }
 ],
 "metadata": {
  "kernelspec": {
   "display_name": "Python 3 (ipykernel)",
   "language": "python",
   "name": "python3"
  },
  "language_info": {
   "codemirror_mode": {
    "name": "ipython",
    "version": 3
   },
   "file_extension": ".py",
   "mimetype": "text/x-python",
   "name": "python",
   "nbconvert_exporter": "python",
   "pygments_lexer": "ipython3",
   "version": "3.10.9"
  }
 },
 "nbformat": 4,
 "nbformat_minor": 5
}
