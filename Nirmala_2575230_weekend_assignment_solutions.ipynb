{
 "cells": [
  {
   "cell_type": "markdown",
   "id": "032f575a",
   "metadata": {},
   "source": [
    "# 2. Create a Python function that checks if two given strings are anagrams of each other."
   ]
  },
  {
   "cell_type": "code",
   "execution_count": 9,
   "id": "f4c7380d",
   "metadata": {},
   "outputs": [
    {
     "name": "stdout",
     "output_type": "stream",
     "text": [
      "Enter the first string: tina\n",
      "Enter the second string: yum\n",
      "'tina' and 'yum' are not anagrams.\n"
     ]
    }
   ],
   "source": [
    "def are_anagrams(str1, str2):\n",
    "    # Remove spaces and convert to lowercase to make the comparison case-insensitive and space-insensitive\n",
    "    str1 = str1.replace(\" \", \"\").lower()\n",
    "    str2 = str2.replace(\" \", \"\").lower()\n",
    "\n",
    "    # Check if the sorted versions of the strings are equal\n",
    "    return sorted(str1) == sorted(str2)\n",
    "\n",
    "# Ask the user for input\n",
    "string1 = input(\"Enter the first string: \")\n",
    "string2 = input(\"Enter the second string: \")\n",
    "\n",
    "# Check if the provided strings are anagrams\n",
    "result = are_anagrams(string1, string2)\n",
    "\n",
    "# Display the result\n",
    "if result:\n",
    "    print(f\"'{string1}' and '{string2}' are anagrams.\")\n",
    "else:\n",
    "    print(f\"'{string1}' and '{string2}' are not anagrams.\")"
   ]
  },
  {
   "cell_type": "markdown",
   "id": "5431770e",
   "metadata": {},
   "source": [
    "# 1. Case Study: Online Shopping Cart Exception Handling\n",
    "You are working as a Python developer for an e-commerce company, and your team is responsible for building and maintaining the shopping cart module of the website. Customers can add items to their cart, view the cart contents, and proceed to checkout.\n",
    "\n",
    "Recently, there have been reports of unexpected crashes and errors when customers interact with their shopping carts. Your task is to investigate these issues and improve the exception handling in the shopping cart code to make it more robust.\n",
    "\n",
    "Requirements and Scenarios:\n",
    "\n",
    "Scenario 1 - Adding Items to Cart:\n",
    "\n",
    "When a customer adds an item to their cart, they provide the product ID and quantity. Handle exceptions that may occur during this process, such as:\n",
    "\n",
    "i. Product ID not found in the product catalog.\n",
    "\n",
    "il. Invalid quantity (e.g., negative quantity or non-integer input).\n",
    "\n",
    "Scenario 2 - Viewing Cart Contents:\n",
    "\n",
    "When a customer views their cart, display the list of items and their quantities. Handle exceptions that may occur during this process, such as:\n",
    "\n",
    "i. Empty cart (no items added).\n",
    "\n",
    "ii. Unexpected errors (e.g., network issues when fetching cart data).\n",
    "\n",
    "Scenario 3- Proceeding to Checkout:\n",
    "\n",
    "When a customer proceeds to checkout, validate the cart and process the payment. Handle exceptions that may occur during this process, such as:\n",
    "\n",
    "i. Insufficient stock for some items in the cart.\n",
    "\n",
    "ii. Payment gateway errors.\n",
    "\n",
    "iii. Customer payment method declined.\n",
    "\n",
    "Your Tasks:\n",
    "\n",
    "Review the existing shopping cart code to identify potential areas where exceptions may occur.\n",
    "\n",
    "Enhance the exception handling in the code by adding appropriate try, except, and finally blocks to handle exceptions gracefully. Provide helpful error messages to the user where applicable.\n",
    "\n",
    "Ensure that the program continues to run smoothly even when exceptions occur, and customers receive informative feedback.\n",
    "\n",
    "Test the shopping cart thoroughly with different scenarios to ensure that it handles exceptions correctly"
   ]
  },
  {
   "cell_type": "code",
   "execution_count": 37,
   "id": "b3f77871",
   "metadata": {},
   "outputs": [
    {
     "name": "stdout",
     "output_type": "stream",
     "text": [
      "Error: Product ID not found in the catalog\n",
      "Error: Product ID not found in the catalog\n",
      "Product ID: 123, Quantity: 2\n",
      "Thank you for shopping with us!\n"
     ]
    }
   ],
   "source": [
    "class ProductCatalog:\n",
    "    def __init__(self):\n",
    "        self.products = {} \n",
    "\n",
    "    def add_product(self, product_id, stock_quantity):\n",
    "        self.products[product_id] = stock_quantity\n",
    "\n",
    "    def find_product(self, product_id):\n",
    "        if product_id in self.products:\n",
    "            return self.products[product_id]\n",
    "        else:\n",
    "            raise ValueError(\"Product ID not found in the catalog\")\n",
    "\n",
    "class ShoppingCart:\n",
    "    def __init__(self):\n",
    "        self.cart = {}  \n",
    "\n",
    "    def add_item(self, product_id, quantity, catalog):\n",
    "        try:\n",
    "            stock_quantity = catalog.find_product(product_id)\n",
    "            if quantity <= 0 or not isinstance(quantity, int):\n",
    "                raise ValueError(\"Invalid quantity. Please enter a positive integer.\")\n",
    "            if stock_quantity < quantity:\n",
    "                raise ValueError(\"Insufficient stock for this item.\")\n",
    "            if product_id in self.cart:\n",
    "                self.cart[product_id] += quantity\n",
    "            else:\n",
    "                self.cart[product_id] = quantity\n",
    "        except ValueError as e:\n",
    "            print(f\"Error: {e}\")\n",
    "\n",
    "    def view_cart(self):\n",
    "        try:\n",
    "            if not self.cart:\n",
    "                raise ValueError(\"Cart is empty.\")\n",
    "            for product_id, quantity in self.cart.items():\n",
    "                print(f\"Product ID: {product_id}, Quantity: {quantity}\")\n",
    "        except ValueError as e:\n",
    "            print(f\"Error: {e}\")\n",
    "\n",
    "    def checkout(self):\n",
    "        try:\n",
    "            self.cart = {}\n",
    "        except Exception as e:\n",
    "            print(f\"Error during checkout: {e}\")\n",
    "        finally:\n",
    "            print(\"Thank you for shopping with us!\")\n",
    "\n",
    "catalog = ProductCatalog()\n",
    "catalog.add_product(\"123\", 10)\n",
    "cart = ShoppingCart()\n",
    "\n",
    "cart.add_item(\"123\", 2, catalog) \n",
    "cart.add_item(\"456\", -1, catalog) \n",
    "cart.add_item(\"789\", 5, catalog)  \n",
    "\n",
    "# Scenario 2: Viewing cart contents\n",
    "cart.view_cart()  # Should display the cart items\n",
    "\n",
    "# Scenario 3: Proceeding to checkout\n",
    "cart.checkout()"
   ]
  },
  {
   "cell_type": "markdown",
   "id": "df512936",
   "metadata": {},
   "source": [
    "# 3 Create a Python function that checks if two given strings are anagrams of each other."
   ]
  },
  {
   "cell_type": "code",
   "execution_count": 12,
   "id": "f6d83194",
   "metadata": {},
   "outputs": [
    {
     "name": "stdout",
     "output_type": "stream",
     "text": [
      "Enter the first string: listen\n",
      "Enter the second string: silent\n",
      "'listen' and 'silent' are anagrams.\n"
     ]
    }
   ],
   "source": [
    "def are_anagrams(str1, str2):\n",
    "    # Remove spaces and convert to lowercase to make the comparison case-insensitive and space-insensitive\n",
    "    str1 = str1.replace(\" \", \"\").lower()\n",
    "    str2 = str2.replace(\" \", \"\").lower()\n",
    "\n",
    "    # Check if the sorted versions of the strings are equal\n",
    "    return sorted(str1) == sorted(str2)\n",
    "\n",
    "# Ask the user for input\n",
    "string1 = input(\"Enter the first string: \")\n",
    "string2 = input(\"Enter the second string: \")\n",
    "\n",
    "# Check if the provided strings are anagrams\n",
    "result = are_anagrams(string1, string2)\n",
    "\n",
    "# Display the result\n",
    "if result:\n",
    "    print(f\"'{string1}' and '{string2}' are anagrams.\")\n",
    "else:\n",
    "    print(f\"'{string1}' and '{string2}' are not anagrams.\")"
   ]
  },
  {
   "cell_type": "markdown",
   "id": "f4246be3",
   "metadata": {},
   "source": [
    "# 4. Case Study: Online Bookstore Database Connectivity\n",
    "\n",
    "You are a Python developer working on the backend of an online bookstore website. The website's database stores information about books, customers, orders, and inventory. Your task is to develop and maintain the database connectivity and interaction components.\n",
    "\n",
    "Requirements and Scenarios:\n",
    "\n",
    "Scenario 1-Customer Registration:\n",
    "\n",
    "When a new customer registers on the website, their information (name, email, password) should be stored in the database.\n",
    "\n",
    "Handle exceptions that may occur during the registration process, such as:\n",
    "\n",
    "1. Duplicate email addresses.\n",
    "\n",
    "2. Database connection errors.\n",
    "\n",
    "Scenario 2-Book Inventory Management:\n",
    "\n",
    "Implement functionality to add new books to the inventory, update existing book details, and delete books.\n",
    "\n",
    "Handle exceptions that may occur during these operations, such as:\n",
    "\n",
    "1. Invalid book data.\n",
    "\n",
    "2. Database errors when updating or deleting books.\n",
    "\n",
    "Scenario 3-Customer Orders:\n",
    "\n",
    "Allow customers to place orders for books. Each order includes customer details and a list of ordered books.\n",
    "\n",
    "Handle exceptions that may occur during order placement, such as:\n",
    "\n",
    "1. Insufficient stock for some books.\n",
    "2. Database errors when recording orders\n",
    "Scenario \n",
    "\n",
    "4-Order History:\n",
    "\n",
    "Customers should be able to view their order history, which includes details of past orders.\n",
    "\n",
    "Handle exceptions that may occur when retrieving order history, such as:\n",
    "\n",
    "1. No orders found for the customer.\n",
    "\n",
    "2. Database connection issues. \n",
    " \n",
    "YOur tasks :\n",
    "\n",
    "1. Review the existing database interaction code to identify potential areas where exceptions may occur.\n",
    "\n",
    "2. Enhance the exception handling in the code by adding appropriate try, except, and finally blocks to handle exceptions gracefully. Provide helpful error messages to the user where applicable.\n",
    "\n",
    "3. Ensure that the program continues to run smoothly even when exceptions occur, and customers receive informative feedback.\n",
    "\n",
    "4. Implement database queries and transactions following best practices to maintain data integrity.\n",
    "\n",
    "5. Test the website's database interactions thoroughly with different scenarios to ensure that it handles exceptions correctly.\n",
    "\n",
    "6. Read a text file containing a list of names or numbers, sort the data, and write the sorted data back to a new file.\n",
    "\n",
    "7. Write a Python script that compares two text files and identifies the differences between them, including added, modified, and deleted lines\n",
    "\n",
    "8.Develop a Python program that compresses a large text file using a compression algorithm (e.g., gzip) and then decompresses it back to its original form.\n",
    "\n",
    "9. Read a binary file (e.g., an image or audio file) in Python and perform an operation, such as resizing an image or modifying audio data.\n",
    "\n",
    "10. Write a python program to Combine the contents of multiple text files into a single file using Python. Each file should be appended to the end of the resulting file.\n",
    "\n",
    "11. Create a Python script that accepts a text file as a command-line argument and counts the number of words, lines, and characters in the file..\n",
    "\n",
    "12. Build a command-line calculator that accepts a mathematical expression as a string argument and evaluates it, then prints the result.\n",
    "\n",
    "13. Implement a Python script that takes a CSV file and two column names as command-line arguments. The script should calculate the average of values in one column and store the result in another column in the same file.\n",
    "14. Write a Python script that takes two integer command-line arguments and prints their sum.\n",
    "\n",
    "15. Create a custom Python module that includes functions to calculate the factorial of a number and to check if a number is prime. Import and use this module in another Python script.\n",
    "\n",
    "16. Create a Python module named calculator.py that contains functions for each of the four operations (addition, subtraction, multiplication, and division). Each function should take two arguments, perform the respective operation, and return the result."
   ]
  },
  {
   "cell_type": "code",
   "execution_count": 38,
   "id": "e4acd921",
   "metadata": {},
   "outputs": [
    {
     "name": "stdout",
     "output_type": "stream",
     "text": [
      "Enter your name: veena\n",
      "Enter your email: veena12@gmail.com\n",
      "Enter your password: veena12\n",
      "Email address is already registered.\n"
     ]
    }
   ],
   "source": [
    "import mysql.connector\n",
    "\n",
    "try:\n",
    "    db = mysql.connector.connect(\n",
    "        host=\"127.0.0.1\",\n",
    "        user=\"task\",\n",
    "        password=\"nimmi\",\n",
    "        database=\"email\"\n",
    "    )\n",
    "    cursor = db.cursor()\n",
    "\n",
    "    # User input for registration\n",
    "    name = input(\"Enter your name: \")\n",
    "    email = input(\"Enter your email: \")\n",
    "    password = input(\"Enter your password: \")\n",
    "\n",
    "    # Check if the email is already registered\n",
    "    cursor.execute(\"SELECT * FROM Customers WHERE email = %s\", (email,))\n",
    "    existing_user = cursor.fetchone()\n",
    "\n",
    "    if existing_user:\n",
    "        print(\"Email address is already registered.\")\n",
    "    else:\n",
    "        # Insert new customer into Customers table\n",
    "        cursor.execute(\"INSERT INTO Customers (name, email, password) VALUES (%s, %s, %s)\", (name, email, password))\n",
    "        db.commit()\n",
    "        print(\"Registration successful!\")\n",
    "\n",
    "except mysql.connector.Error as e:\n",
    "    print(\"MySQL Error:\", e)\n",
    "except Exception as e:\n",
    "    print(\"Error:\", e)\n",
    "finally:\n",
    "    db.close()"
   ]
  },
  {
   "cell_type": "code",
   "execution_count": 39,
   "id": "39e8f562",
   "metadata": {},
   "outputs": [
    {
     "name": "stdout",
     "output_type": "stream",
     "text": [
      "Enter your name: prathamesh\n",
      "Enter your email: prathameshnaik12@gmail.com\n",
      "Enter your password: nimmi\n",
      "Registration successful!\n"
     ]
    }
   ],
   "source": [
    "import mysql.connector\n",
    "\n",
    "try:\n",
    "    db = mysql.connector.connect(\n",
    "        host=\"127.0.0.1\",\n",
    "        user=\"task\",\n",
    "        password=\"nimmi\",\n",
    "        database=\"email\"\n",
    "    )\n",
    "    cursor = db.cursor()\n",
    "\n",
    "    # User input for registration\n",
    "    name = input(\"Enter your name: \")\n",
    "    email = input(\"Enter your email: \")\n",
    "    password = input(\"Enter your password: \")\n",
    "\n",
    "    # Check if the email is already registered\n",
    "    cursor.execute(\"SELECT * FROM Customers WHERE email = %s\", (email,))\n",
    "    existing_user = cursor.fetchone()\n",
    "\n",
    "    if existing_user:\n",
    "        print(\"Email address is already registered.\")\n",
    "    else:\n",
    "        # Insert new customer into Customers table\n",
    "        cursor.execute(\"INSERT INTO Customers (name, email, password) VALUES (%s, %s, %s)\", (name, email, password))\n",
    "        db.commit()\n",
    "        print(\"Registration successful!\")\n",
    "\n",
    "except mysql.connector.Error as e:\n",
    "    print(\"MySQL Error:\", e)\n",
    "except Exception as e:\n",
    "    print(\"Error:\", e)\n",
    "finally:\n",
    "    db.close()"
   ]
  },
  {
   "cell_type": "code",
   "execution_count": 40,
   "id": "c68ad2b1",
   "metadata": {},
   "outputs": [
    {
     "name": "stdout",
     "output_type": "stream",
     "text": [
      "Book added to inventory successfully!\n",
      "Book added to inventory successfully!\n",
      "Book added to inventory successfully!\n"
     ]
    }
   ],
   "source": [
    "def add_book(title, author, price, stock_quantity):\n",
    "    try:\n",
    "        # Establish a database connection\n",
    "        db = mysql.connector.connect(\n",
    "        host=\"127.0.0.1\",\n",
    "        user=\"task\",\n",
    "        password=\"nimmi\",\n",
    "        database=\"email\"\n",
    "        )\n",
    "\n",
    "        # Create a cursor object\n",
    "        cursor = db.cursor()\n",
    "\n",
    "        # Insert the new book into the Books table\n",
    "        cursor.execute(\"INSERT INTO Books (title, author, price, stock_quantity) VALUES (%s, %s, %s, %s)\",\n",
    "                       (title, author, price, stock_quantity))\n",
    "        db.commit()\n",
    "        print(\"Book added to inventory successfully!\")\n",
    "\n",
    "    except mysql.connector.Error as e:\n",
    "        print(\"MySQL Error:\", e)\n",
    "    except Exception as e:\n",
    "        print(\"Error:\", e)\n",
    "    #finally:\n",
    "        # Close the database connection\n",
    "        #db.close()\n",
    "        \n",
    "add_book(\"On Earth We're Briefly Gorgeous\", \"Ocean Vuong\", 70, 12)\n",
    "add_book(\"Night sky with exit wounds\", \"Ocean Vuong\", 280, 1)\n",
    "add_book(\"time is a mother\", \"Ocean Vuong\", 250, 8)"
   ]
  },
  {
   "cell_type": "code",
   "execution_count": 42,
   "id": "f94fd0d9",
   "metadata": {},
   "outputs": [
    {
     "name": "stdout",
     "output_type": "stream",
     "text": [
      "(1, 'Three men in a boat', 'no idea', Decimal('280.00'), 12)\n",
      "(2, \"On Earth We're Briefly Gorgeous\", 'Ocean Vuong', Decimal('70.00'), 12)\n",
      "(3, 'Night sky with exit wounds', 'Ocean Vuong', Decimal('280.00'), 1)\n",
      "(4, 'time is a mother', 'Ocean Vuong', Decimal('250.00'), 8)\n"
     ]
    }
   ],
   "source": [
    "db = mysql.connector.connect(\n",
    "        host=\"127.0.0.1\",\n",
    "        user=\"task\",\n",
    "        password=\"nimmi\",\n",
    "        database=\"email\"\n",
    "        )\n",
    "cursor = db.cursor()\n",
    "cursor.execute(\"select * from books\")\n",
    "for i in cursor:\n",
    "    print(i)"
   ]
  },
  {
   "cell_type": "code",
   "execution_count": 43,
   "id": "4aac4293",
   "metadata": {},
   "outputs": [
    {
     "name": "stdout",
     "output_type": "stream",
     "text": [
      "1\n",
      "Book details updated successfully!\n"
     ]
    }
   ],
   "source": [
    "#Update books.\n",
    "cursor = db.cursor()\n",
    "\n",
    "cursor.execute(\"UPDATE Books SET author = 'OCEAN VOUNG' WHERE book_id = 3\")\n",
    "db.commit()\n",
    "print(cursor.rowcount)\n",
    "print(\"Book details updated successfully!\")"
   ]
  },
  {
   "cell_type": "code",
   "execution_count": 44,
   "id": "9545cde4",
   "metadata": {},
   "outputs": [
    {
     "name": "stdout",
     "output_type": "stream",
     "text": [
      "(1, 'Three men in a boat', 'no idea', Decimal('280.00'), 12)\n",
      "(2, \"On Earth We're Briefly Gorgeous\", 'Ocean Vuong', Decimal('70.00'), 12)\n",
      "(3, 'Night sky with exit wounds', 'OCEAN VOUNG', Decimal('280.00'), 1)\n",
      "(4, 'time is a mother', 'Ocean Vuong', Decimal('250.00'), 8)\n"
     ]
    }
   ],
   "source": [
    "cursor = db.cursor()\n",
    "cursor.execute(\"select * from books\")\n",
    "for i in cursor:\n",
    "    print(i)"
   ]
  },
  {
   "cell_type": "code",
   "execution_count": 45,
   "id": "e109a33f",
   "metadata": {},
   "outputs": [
    {
     "name": "stdout",
     "output_type": "stream",
     "text": [
      "1\n",
      "Book details deleted successfully!\n"
     ]
    }
   ],
   "source": [
    "#Delete books.\n",
    "cursor = db.cursor()\n",
    "\n",
    "cursor.execute(\"Delete from books WHERE book_id = 2\")\n",
    "db.commit()\n",
    "print(cursor.rowcount)\n",
    "print(\"Book details deleted successfully!\")"
   ]
  },
  {
   "cell_type": "code",
   "execution_count": 46,
   "id": "63cbef42",
   "metadata": {},
   "outputs": [
    {
     "name": "stdout",
     "output_type": "stream",
     "text": [
      "Enter your customer ID: 1\n",
      "Enter the book ID you want to order: 4\n",
      "Enter the quantity: 1\n",
      "Order placed successfully!\n"
     ]
    }
   ],
   "source": [
    "#Scenario 3\n",
    "\n",
    "import mysql.connector\n",
    "\n",
    "try:\n",
    "    db = mysql.connector.connect(\n",
    "        host=\"127.0.0.1\",\n",
    "        user=\"task\",\n",
    "        password=\"nimmi\",\n",
    "        database=\"email\"\n",
    "    )\n",
    "\n",
    "    # Create a cursor object\n",
    "    cursor = db.cursor()\n",
    "\n",
    "    # User input for order\n",
    "    customer_id = int(input(\"Enter your customer ID: \"))\n",
    "    book_id = int(input(\"Enter the book ID you want to order: \"))\n",
    "    quantity = int(input(\"Enter the quantity: \"))\n",
    "\n",
    "    # Check if there is enough stock\n",
    "    cursor.execute(\"SELECT stock_quantity FROM Books WHERE book_id = %s\", (book_id,))\n",
    "    stock_quantity = cursor.fetchone()[0]\n",
    "\n",
    "    if quantity > stock_quantity:\n",
    "        print(\"Insufficient stock for this book.\")\n",
    "    else:\n",
    "        # Calculate total amount and insert order\n",
    "        cursor.execute(\"SELECT price FROM Books WHERE book_id = %s\", (book_id,))\n",
    "        price = cursor.fetchone()[0]\n",
    "        total_amount = price * quantity\n",
    "\n",
    "        cursor.execute(\"INSERT INTO bookOrders (customer_id, order_date, total_amount) VALUES (%s, NOW(), %s)\",\n",
    "                       (customer_id, total_amount))\n",
    "        order_id = cursor.lastrowid\n",
    "        cursor.execute(\"INSERT INTO bookOrderDetails (order_id, book_id, quantity, subtotal) VALUES (%s, %s, %s, %s)\",\n",
    "                       (order_id, book_id, quantity, total_amount))\n",
    "        db.commit()\n",
    "        print(\"Order placed successfully!\")\n",
    "\n",
    "except mysql.connector.Error as e:\n",
    "    print(\"MySQL Error:\", e)\n",
    "except Exception as e:\n",
    "    print(\"Error:\", e)\n",
    "finally:\n",
    "    # Close the database connection\n",
    "    db.close()"
   ]
  },
  {
   "cell_type": "code",
   "execution_count": 47,
   "id": "b683f5e1",
   "metadata": {},
   "outputs": [
    {
     "name": "stdout",
     "output_type": "stream",
     "text": [
      "Enter your customer ID: 1\n",
      "Order History:\n",
      "Order ID: 1, Date: 2023-09-17, Book: time is a mother, Quantity: 1, Subtotal: 250.00\n"
     ]
    }
   ],
   "source": [
    "#scenario 4: order history\n",
    "import mysql.connector\n",
    "\n",
    "try:\n",
    "    db = mysql.connector.connect(\n",
    "        host=\"127.0.0.1\",\n",
    "        user=\"task\",\n",
    "        password=\"nimmi\",\n",
    "        database=\"email\"\n",
    "    )\n",
    "\n",
    "    cursor = db.cursor()\n",
    "\n",
    "    customer_id = int(input(\"Enter your customer ID: \"))\n",
    "\n",
    "    cursor.execute(\"SELECT bookOrders.order_id, order_date, Books.title, quantity, subtotal FROM Customers \"\n",
    "                   \"JOIN bookOrders ON Customers.customer_id = bookOrders.customer_id \"\n",
    "                   \"JOIN bookOrderDetails ON bookOrders.order_id = bookOrderDetails.order_id \"\n",
    "                   \"JOIN Books ON bookOrderDetails.book_id = Books.book_id \"\n",
    "                   \"WHERE Customers.customer_id = %s\", (customer_id,))\n",
    "    order_history = cursor.fetchall()\n",
    "\n",
    "    if not order_history:\n",
    "        print(\"No orders found for this customer.\")\n",
    "    else:\n",
    "        print(\"Order History:\")\n",
    "        for order in order_history:\n",
    "            order_id, order_date, book_title, quantity, subtotal = order\n",
    "            print(f\"Order ID: {order_id}, Date: {order_date}, Book: {book_title}, Quantity: {quantity}, Subtotal: {subtotal}\")\n",
    "\n",
    "except mysql.connector.Error as e:\n",
    "    print(\"MySQL Error:\", e)\n",
    "except Exception as e:\n",
    "    print(\"Error:\", e)\n",
    "finally:\n",
    "    db.close()"
   ]
  },
  {
   "cell_type": "markdown",
   "id": "9aac92f1",
   "metadata": {},
   "source": [
    "# 6. Read a text file containing a list of names or numbers, sort the data, and write the sorted data back to a new file."
   ]
  },
  {
   "cell_type": "code",
   "execution_count": 16,
   "id": "adb988ed",
   "metadata": {},
   "outputs": [
    {
     "name": "stdout",
     "output_type": "stream",
     "text": [
      "Data sorted and written to sample.txt\n"
     ]
    }
   ],
   "source": [
    "input_file = \"simp.txt\"\n",
    "output_file = \"sample.txt\"\n",
    "\n",
    "try:\n",
    "    with open(input_file, 'r') as file:\n",
    "        data = file.readlines()\n",
    "\n",
    "    sorted_data = sorted(data)\n",
    "    \n",
    "    with open(output_file, 'w') as file:\n",
    "        file.writelines(sorted_data)\n",
    "\n",
    "    print(f\"Data sorted and written to {output_file}\")\n",
    "\n",
    "except FileNotFoundError:\n",
    "    print(f\"File '{input_file}' not found.\")\n",
    "except Exception as e:\n",
    "    print(f\"An error occurred: {str(e)}\")"
   ]
  },
  {
   "cell_type": "markdown",
   "id": "c652fe85",
   "metadata": {},
   "source": [
    "# 7. Write a Python script that compares two text files and identifies the differences between them, including added, modified, and deleted lines"
   ]
  },
  {
   "cell_type": "code",
   "execution_count": 35,
   "id": "ea2be018",
   "metadata": {},
   "outputs": [
    {
     "name": "stdout",
     "output_type": "stream",
     "text": [
      "Added lines:\n",
      "A typical machine learning tasks are to provide a recommendation. Recommender systems are a common application\n",
      "\n",
      "Modified lines:\n",
      "\n",
      "Deleted lines:\n",
      "Machine learning is used in many different applications, from image and speech recognition to natural language processing, recommendation systems, fraud detection, portfolio optimization, automated task, and so on. Machine learning models are also used to power autonomous vehicles, drones, and robots, making them more intelligent and adaptable to changing environments.\n"
     ]
    }
   ],
   "source": [
    "import difflib\n",
    "\n",
    "def compare_files(file1, file2):\n",
    "    with open(file1, 'r') as f1, open(file2, 'r') as f2:\n",
    "        lines1 = f1.readlines()\n",
    "        lines2 = f2.readlines()\n",
    "\n",
    "        differ = difflib.Differ()\n",
    "        diff = differ.compare(lines1, lines2)\n",
    "\n",
    "        added = []\n",
    "        modified = []\n",
    "        deleted = []\n",
    "\n",
    "        for line in diff:\n",
    "            if line.startswith('+ '):\n",
    "                added.append(line[2:])\n",
    "            elif line.startswith('- '):\n",
    "                deleted.append(line[2:])\n",
    "            elif line.startswith('? '):\n",
    "                modified.append(line[2:])\n",
    "\n",
    "        return added, modified, deleted\n",
    "\n",
    "if __name__ == '__main__':\n",
    "    file1 = 'file1.txt'\n",
    "    file2 = 'file2.txt'\n",
    "\n",
    "    added, modified, deleted = compare_files(file1, file2)\n",
    "\n",
    "    print(\"Added lines:\")\n",
    "    for line in added:\n",
    "        print(line.strip())\n",
    "\n",
    "    print(\"\\nModified lines:\")\n",
    "    for line in modified:\n",
    "        print(line.strip())\n",
    "\n",
    "    print(\"\\nDeleted lines:\")\n",
    "    for line in deleted:\n",
    "        print(line.strip())\n"
   ]
  },
  {
   "cell_type": "markdown",
   "id": "b6f07a9e",
   "metadata": {},
   "source": [
    "# 14. Write a Python script that takes two integer command-line arguments and prints their sum"
   ]
  },
  {
   "cell_type": "code",
   "execution_count": 21,
   "id": "dc88a342",
   "metadata": {},
   "outputs": [
    {
     "name": "stdout",
     "output_type": "stream",
     "text": [
      "Enter the first integer: 12\n",
      "Enter the second integer: 34\n",
      "The sum of 12 and 34 is 46\n"
     ]
    }
   ],
   "source": [
    "14. # Get two integers from the user\n",
    "integer1 = int(input(\"Enter the first integer: \"))\n",
    "integer2 = int(input(\"Enter the second integer: \"))\n",
    "\n",
    "# Calculate and print the sum\n",
    "result = integer1 + integer2\n",
    "print(f\"The sum of {integer1} and {integer2} is {result}\")"
   ]
  },
  {
   "cell_type": "markdown",
   "id": "ffc81c00",
   "metadata": {},
   "source": [
    "# 16 Create a Python module named calculator.py that contains functions for each of the four operations (addition, subtraction, multiplication, and division). Each function should take two arguments, perform the respective operation, and return the result."
   ]
  },
  {
   "cell_type": "code",
   "execution_count": 24,
   "id": "63aa8923",
   "metadata": {},
   "outputs": [],
   "source": [
    "def add(a, b):\n",
    "    \"\"\"Addition\"\"\"\n",
    "    return a + b\n",
    "\n",
    "def subtract(a, b):\n",
    "    \"\"\"Subtraction\"\"\"\n",
    "    return a - b\n",
    "\n",
    "def multiply(a, b):\n",
    "    \"\"\"Multiplication\"\"\"\n",
    "    return a * b\n",
    "\n",
    "def divide(a, b):\n",
    "    \"\"\"Division\"\"\"\n",
    "    if b == 0:\n",
    "        raise ValueError(\"Division by zero is not allowed.\")\n",
    "    return a / b"
   ]
  },
  {
   "cell_type": "code",
   "execution_count": 25,
   "id": "26b53d2d",
   "metadata": {},
   "outputs": [
    {
     "name": "stdout",
     "output_type": "stream",
     "text": [
      "Division result: 2.0\n",
      "Sum result: 15\n",
      "Difference result: 5\n",
      "Product result: 50\n"
     ]
    }
   ],
   "source": [
    "import calculator\n",
    "\n",
    "a = 10\n",
    "b = 5\n",
    "\n",
    "# Perform calculations using functions from the calculator module\n",
    "sum_result = calculator.add(a, b)\n",
    "difference_result = calculator.subtract(a, b)\n",
    "product_result = calculator.multiply(a, b)\n",
    "try:\n",
    "    division_result = calculator.divide(a, b)\n",
    "    print(f\"Division result: {division_result}\")\n",
    "except ValueError as e:\n",
    "    print(e)\n",
    "\n",
    "print(f\"Sum result: {sum_result}\")\n",
    "print(f\"Difference result: {difference_result}\")\n",
    "print(f\"Product result: {product_result}\")"
   ]
  },
  {
   "cell_type": "markdown",
   "id": "594c04d8",
   "metadata": {},
   "source": [
    "# 8. Develop a Python program that compresses a large text file using a compression algorithm (e.g., gzip) and then decompresses it back to its original form."
   ]
  },
  {
   "cell_type": "code",
   "execution_count": 36,
   "id": "dbdcc299",
   "metadata": {},
   "outputs": [
    {
     "name": "stdout",
     "output_type": "stream",
     "text": [
      "File \"large_text_file.txt\" compressed to \"compressed_file.gz\".\n",
      "File \"compressed_file.gz\" decompressed to \"decompressed_file.txt\".\n"
     ]
    }
   ],
   "source": [
    "import gzip\n",
    "\n",
    "def compress_file(input_file, compressed_file):\n",
    "    with open(input_file, 'rb') as f_in, gzip.open(compressed_file, 'wb') as f_out:\n",
    "        f_out.writelines(f_in)\n",
    "\n",
    "def decompress_file(compressed_file, output_file):\n",
    "    with gzip.open(compressed_file, 'rb') as f_in, open(output_file, 'wb') as f_out:\n",
    "        f_out.writelines(f_in)\n",
    "\n",
    "if __name__ == '__main__':\n",
    "    input_file = 'large_text_file.txt'\n",
    "    compressed_file = 'compressed_file.gz'\n",
    "    decompressed_file = 'decompressed_file.txt'\n",
    "\n",
    "    # Compress the file\n",
    "    compress_file(input_file, compressed_file)\n",
    "    print(f'File \"{input_file}\" compressed to \"{compressed_file}\".')\n",
    "\n",
    "    # Decompress the file\n",
    "    decompress_file(compressed_file, decompressed_file)\n",
    "    print(f'File \"{compressed_file}\" decompressed to \"{decompressed_file}\".')\n"
   ]
  },
  {
   "cell_type": "markdown",
   "id": "068c8add",
   "metadata": {},
   "source": [
    "# 9. Read a binary file (e.g., an image or audio file) in Python and perform an operation, such as resizing an image or modifying audio data.\n"
   ]
  },
  {
   "cell_type": "code",
   "execution_count": 50,
   "id": "e0bf6eb4",
   "metadata": {},
   "outputs": [
    {
     "name": "stdout",
     "output_type": "stream",
     "text": [
      "Image resized and saved as 'resized.jpg'\n"
     ]
    }
   ],
   "source": [
    "from PIL import Image\n",
    "\n",
    "def resize_image(input_image_path, output_image_path, new_width, new_height):\n",
    "    try:\n",
    "        image = Image.open(input_image_path)\n",
    "\n",
    "        resized_image = image.resize((new_width, new_height))\n",
    "\n",
    "        resized_image.save(output_image_path)\n",
    "\n",
    "        print(f\"Image resized and saved as '{output_image_path}'\")\n",
    "\n",
    "    except FileNotFoundError:\n",
    "        print(f\"File '{input_image_path}' not found.\")\n",
    "    except Exception as e:\n",
    "        print(f\"An error occurred: {str(e)}\")\n",
    "\n",
    "input_image_path = \"input_image.jpg\"\n",
    "output_image_path = \"resized.jpg\"\n",
    "\n",
    "new_width = 800\n",
    "new_height = 600\n",
    "\n",
    "resize_image(input_image_path, output_image_path, new_width, new_height)"
   ]
  },
  {
   "cell_type": "markdown",
   "id": "4bd22029",
   "metadata": {},
   "source": [
    "# 10. Write a python program to Combine the contents of multiple text files into a single file using Python. Each file should be appended to the end of the resul"
   ]
  },
  {
   "cell_type": "code",
   "execution_count": 51,
   "id": "cebee647",
   "metadata": {},
   "outputs": [
    {
     "name": "stdout",
     "output_type": "stream",
     "text": [
      "Contents of 3 files combined into 'output.txt'\n"
     ]
    }
   ],
   "source": [
    "input_files = [\"file1.txt\", \"file2.txt\", \"input.txt\"]\n",
    "\n",
    "output_file = \"output.txt\"\n",
    "\n",
    "try:\n",
    "    with open(output_file, 'a') as outfile:\n",
    "        for input_file in input_files:\n",
    "            try:\n",
    "                with open(input_file, 'r') as infile:\n",
    "                    outfile.write(infile.read())\n",
    "                    outfile.write('\\n')\n",
    "\n",
    "            except FileNotFoundError:\n",
    "                print(f\"File '{input_file}' not found.\")\n",
    "            except Exception as e:\n",
    "                print(f\"An error occurred while processing '{input_file}': {str(e)}\")\n",
    "\n",
    "    print(f\"Contents of {len(input_files)} files combined into '{output_file}'\")\n",
    "\n",
    "except Exception as e:\n",
    "    print(f\"An error occurred: {str(e)}\")"
   ]
  },
  {
   "cell_type": "markdown",
   "id": "900083ef",
   "metadata": {},
   "source": [
    "# 11. Create a Python script that accepts a text file as a command-line argument and counts the number of words, lines, and characters in the file."
   ]
  },
  {
   "cell_type": "code",
   "execution_count": null,
   "id": "679ad906",
   "metadata": {},
   "outputs": [],
   "source": [
    "import sys\n",
    "\n",
    "def count_stats(file_path):\n",
    "    with open(file_path, 'r') as file:\n",
    "        content = file.read()\n",
    "        word_count = len(content.split())\n",
    "        line_count = content.count('\\n') + 1  # Add 1 for the last line\n",
    "        char_count = len(content)\n",
    "\n",
    "        return word_count, line_count, char_count\n",
    "\n",
    "if __name__ == '__main__':\n",
    "    if len(sys.argv) != 2:\n",
    "        print(\"Usage: python count_stats.py <file_path>\")\n",
    "        sys.exit(1)\n",
    "\n",
    "    file_path = sys.argv[1]\n",
    "\n",
    "    try:\n",
    "        word_count, line_count, char_count = count_stats(file_path)\n",
    "        print(f\"Word count: {word_count}\")\n",
    "        print(f\"Line count: {line_count}\")\n",
    "        print(f\"Character count: {char_count}\")\n",
    "    except FileNotFoundError:\n",
    "        print(f\"Error: File '{file_path}' not found.\")\n",
    "    except Exception as e:\n",
    "        print(f\"Error: {e}\")\n"
   ]
  },
  {
   "cell_type": "code",
   "execution_count": null,
   "id": "16de3d84",
   "metadata": {},
   "outputs": [],
   "source": [
    "C:\\Users\\Nirmala\\Documents\\AIML>python count_stats.py sample.txt\n",
    "Word count: 5\n",
    "Line count: 1\n",
    "Character count: 32\n",
    "\n",
    "C:\\Users\\Nirmala\\Documents\\AIML>\n",
    "\n"
   ]
  },
  {
   "cell_type": "markdown",
   "id": "9a48c4c8",
   "metadata": {},
   "source": [
    "# 12. Build a command-line calculator that accepts a mathematical expression as a string argument and evaluates it, then prints the result."
   ]
  },
  {
   "cell_type": "code",
   "execution_count": 53,
   "id": "6ffdf296",
   "metadata": {},
   "outputs": [
    {
     "name": "stdout",
     "output_type": "stream",
     "text": [
      "Enter the value of 'a': 3\n",
      "Enter the value of 'b': 56\n",
      "Result: 59\n"
     ]
    }
   ],
   "source": [
    "def calculate(expression):\n",
    "    try:\n",
    "        result = eval(expression)\n",
    "        print(f\"Result: {result}\")\n",
    "    except Exception as e:\n",
    "        print(f\"Error: {str(e)}\")\n",
    "\n",
    "# Get values for 'a' and 'b' from the user\n",
    "a = input(\"Enter the value of 'a': \")\n",
    "b = input(\"Enter the value of 'b': \")\n",
    "\n",
    "# Build the mathematical expression with 'a' and 'b'\n",
    "math_expression = f\"{a} + {b}\"\n",
    "\n",
    "# Calculate and display the result\n",
    "calculate(math_expression)"
   ]
  },
  {
   "cell_type": "markdown",
   "id": "decf0adc",
   "metadata": {},
   "source": [
    "# 13. Implement a Python script that takes a CSV file and two column names as command-line arguments. The script should calculate the average of values in one column and store the result in another column in the same file."
   ]
  },
  {
   "cell_type": "code",
   "execution_count": null,
   "id": "b58c9892",
   "metadata": {},
   "outputs": [],
   "source": [
    "import csv\n",
    "import sys\n",
    "\n",
    "def calculate_average(input_file, output_file, input_column, output_column):\n",
    "    with open(input_file, 'r') as file:\n",
    "        reader = csv.DictReader(file)\n",
    "        data = list(reader)\n",
    "\n",
    "        total = sum(float(row[input_column]) for row in data)\n",
    "        average = total / len(data)\n",
    "\n",
    "        for row in data:\n",
    "            row[output_column] = f'{average:.2f}'\n",
    "\n",
    "        fieldnames = reader.fieldnames + [output_column]\n",
    "\n",
    "        with open(output_file, 'w', newline='') as out_file:\n",
    "            writer = csv.DictWriter(out_file, fieldnames=fieldnames)\n",
    "            writer.writeheader()\n",
    "            writer.writerows(data)\n",
    "\n",
    "if __name__ == '__main__':\n",
    "    if len(sys.argv) != 5:\n",
    "        print(\"Usage: python calculate_average.py <input_file> <output_file> <input_column> <output_column>\")\n",
    "        sys.exit(1)\n",
    "\n",
    "    input_file = sys.argv[1]\n",
    "    output_file = sys.argv[2]\n",
    "    input_column = sys.argv[3]\n",
    "    output_column = sys.argv[4]\n",
    "\n",
    "    try:\n",
    "        calculate_average(input_file, output_file, input_column, output_column)\n",
    "        print(f\"Average calculated and stored in '{output_file}' under column '{output_column}'.\")\n",
    "    except Exception as e:\n",
    "        print(f\"Error: {e}\")\n"
   ]
  },
  {
   "cell_type": "markdown",
   "id": "c0d62254",
   "metadata": {},
   "source": [
    "# 15. Create a custom Python module that includes functions to calculate the factorial of a number and to check if a number is prime. Import and use this module in another Python script."
   ]
  },
  {
   "cell_type": "code",
   "execution_count": null,
   "id": "9473cea1",
   "metadata": {},
   "outputs": [],
   "source": [
    "def factorial(n):\n",
    "    if n == 0:\n",
    "        return 1\n",
    "    else:\n",
    "        return n * factorial(n-1)\n",
    "\n",
    "def is_prime(n):\n",
    "    if n < 2:\n",
    "        return False\n",
    "    for i in range(2, int(n**0.5) + 1):\n",
    "        if n % i == 0:\n",
    "            return False\n",
    "    return True\n"
   ]
  },
  {
   "cell_type": "code",
   "execution_count": 55,
   "id": "26319414",
   "metadata": {},
   "outputs": [
    {
     "name": "stdout",
     "output_type": "stream",
     "text": [
      "The factorial of 5 is: 120\n",
      "5 is a prime number\n"
     ]
    }
   ],
   "source": [
    "import mymath\n",
    "\n",
    "num = 5\n",
    "\n",
    "# Calculate factorial\n",
    "fact = mymath.factorial(num)\n",
    "print(f\"The factorial of {num} is: {fact}\")\n",
    "\n",
    "# Check if a number is prime\n",
    "prime_check = mymath.is_prime(num)\n",
    "if prime_check:\n",
    "    print(f\"{num} is a prime number\")\n",
    "else:\n",
    "    print(f\"{num} is not a prime number\")\n"
   ]
  }
 ],
 "metadata": {
  "kernelspec": {
   "display_name": "Python 3 (ipykernel)",
   "language": "python",
   "name": "python3"
  },
  "language_info": {
   "codemirror_mode": {
    "name": "ipython",
    "version": 3
   },
   "file_extension": ".py",
   "mimetype": "text/x-python",
   "name": "python",
   "nbconvert_exporter": "python",
   "pygments_lexer": "ipython3",
   "version": "3.10.9"
  }
 },
 "nbformat": 4,
 "nbformat_minor": 5
}
