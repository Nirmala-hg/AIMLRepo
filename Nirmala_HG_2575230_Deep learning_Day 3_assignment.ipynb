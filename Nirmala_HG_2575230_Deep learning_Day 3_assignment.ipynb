{
 "cells": [
  {
   "cell_type": "markdown",
   "metadata": {},
   "source": [
    "# MLP for the two circles problem"
   ]
  },
  {
   "cell_type": "code",
   "execution_count": null,
   "metadata": {},
   "outputs": [],
   "source": [
    "from keras.datasets import mnist\n",
    "from keras.models import Sequential\n",
    "from keras.layers import Dense\n",
    "from keras.optimizers import SGD\n",
    "from matplotlib import pyplot\n",
    "import matplotlib.pyplot as plt\n",
    "from keras.layers import BatchNormalization"
   ]
  },
  {
   "cell_type": "code",
   "execution_count": 5,
   "metadata": {},
   "outputs": [],
   "source": [
    "batch_size=128\n",
    "num_classes=10\n",
    "epochs=20"
   ]
  },
  {
   "cell_type": "code",
   "execution_count": 3,
   "metadata": {},
   "outputs": [
    {
     "name": "stdout",
     "output_type": "stream",
     "text": [
      "Shape-x:\t (60000, 28, 28)\n",
      "Shape-y:\t (60000,)\n"
     ]
    }
   ],
   "source": [
    "(xtrain,ytrain),(xtest,ytest)=mnist.load_data()\n",
    "print('Shape-x:\\t',xtrain.shape)\n",
    "print('Shape-y:\\t',ytrain.shape)"
   ]
  },
  {
   "cell_type": "code",
   "execution_count": 6,
   "metadata": {},
   "outputs": [
    {
     "name": "stdout",
     "output_type": "stream",
     "text": [
      "Shape-x-train:\t (60000, 784)\n",
      "Shape-x-Test:\t (10000, 784)\n"
     ]
    }
   ],
   "source": [
    "xtrain=xtrain.reshape(60000,784)\n",
    "xtest=xtest.reshape(10000,784)\n",
    "print('Shape-x-train:\\t',xtrain.shape)\n",
    "print('Shape-x-Test:\\t',xtest.shape)"
   ]
  },
  {
   "cell_type": "code",
   "execution_count": 7,
   "metadata": {},
   "outputs": [],
   "source": [
    "xtrain=xtrain.astype('float32')\n",
    "xtest=xtest.astype('float32')"
   ]
  },
  {
   "cell_type": "code",
   "execution_count": 8,
   "metadata": {},
   "outputs": [],
   "source": [
    "xtrain=xtrain/255.\n",
    "xtest=xtest/255."
   ]
  },
  {
   "cell_type": "code",
   "execution_count": 9,
   "metadata": {},
   "outputs": [
    {
     "name": "stdout",
     "output_type": "stream",
     "text": [
      "60000 train samples\n",
      "10000 test samples\n"
     ]
    }
   ],
   "source": [
    "print(xtrain.shape[0],'train samples')\n",
    "print(xtest.shape[0],'test samples')\n"
   ]
  },
  {
   "cell_type": "code",
   "execution_count": 10,
   "metadata": {},
   "outputs": [],
   "source": [
    "import keras\n",
    "ytrain=keras.utils.to_categorical(ytrain,num_classes)\n",
    "ytest=keras.utils.to_categorical(ytest,num_classes)\n"
   ]
  },
  {
   "cell_type": "code",
   "execution_count": 11,
   "metadata": {},
   "outputs": [
    {
     "data": {
      "text/plain": [
       "(60000, 10)"
      ]
     },
     "execution_count": 11,
     "metadata": {},
     "output_type": "execute_result"
    }
   ],
   "source": [
    "ytrain.shape"
   ]
  },
  {
   "cell_type": "code",
   "execution_count": null,
   "metadata": {},
   "outputs": [],
   "source": [
    "# Sequential Model"
   ]
  },
  {
   "cell_type": "code",
   "execution_count": 12,
   "metadata": {},
   "outputs": [],
   "source": [
    "model=Sequential()\n",
    "model.add(Dense(512,activation='relu',input_shape=(784,)))\n",
    "model.add(Dense(512,activation='relu'))\n",
    "model.add(BatchNormalization())\n",
    "model.add(Dense(num_classes,activation='softmax'))\n",
    "optm=SGD(learning_rate=0.01,momentum=0.9)\n",
    "\n",
    "model.compile(loss='binary_crossentropy',optimizer=optm,metrics=['accuracy'])"
   ]
  },
  {
   "cell_type": "code",
   "execution_count": 13,
   "metadata": {},
   "outputs": [
    {
     "name": "stdout",
     "output_type": "stream",
     "text": [
      "Model: \"sequential\"\n",
      "_________________________________________________________________\n",
      " Layer (type)                Output Shape              Param #   \n",
      "=================================================================\n",
      " dense (Dense)               (None, 512)               401920    \n",
      "                                                                 \n",
      " dense_1 (Dense)             (None, 512)               262656    \n",
      "                                                                 \n",
      " batch_normalization (Batch  (None, 512)               2048      \n",
      " Normalization)                                                  \n",
      "                                                                 \n",
      " dense_2 (Dense)             (None, 10)                5130      \n",
      "                                                                 \n",
      "=================================================================\n",
      "Total params: 671754 (2.56 MB)\n",
      "Trainable params: 670730 (2.56 MB)\n",
      "Non-trainable params: 1024 (4.00 KB)\n",
      "_________________________________________________________________\n"
     ]
    }
   ],
   "source": [
    "model.summary()"
   ]
  },
  {
   "cell_type": "code",
   "execution_count": 14,
   "metadata": {},
   "outputs": [
    {
     "name": "stdout",
     "output_type": "stream",
     "text": [
      "Epoch 1/20\n",
      "1875/1875 [==============================] - 21s 11ms/step - loss: 0.0827 - accuracy: 0.9234 - val_loss: 0.0294 - val_accuracy: 0.9610\n",
      "Epoch 2/20\n",
      "1875/1875 [==============================] - 20s 10ms/step - loss: 0.0274 - accuracy: 0.9647 - val_loss: 0.0215 - val_accuracy: 0.9709\n",
      "Epoch 3/20\n",
      "1875/1875 [==============================] - 20s 11ms/step - loss: 0.0196 - accuracy: 0.9763 - val_loss: 0.0181 - val_accuracy: 0.9744\n",
      "Epoch 4/20\n",
      "1875/1875 [==============================] - 20s 10ms/step - loss: 0.0152 - accuracy: 0.9819 - val_loss: 0.0160 - val_accuracy: 0.9775\n",
      "Epoch 5/20\n",
      "1875/1875 [==============================] - 19s 10ms/step - loss: 0.0121 - accuracy: 0.9867 - val_loss: 0.0145 - val_accuracy: 0.9791\n",
      "Epoch 6/20\n",
      "1875/1875 [==============================] - 20s 10ms/step - loss: 0.0101 - accuracy: 0.9891 - val_loss: 0.0139 - val_accuracy: 0.9795\n",
      "Epoch 7/20\n",
      "1875/1875 [==============================] - 20s 10ms/step - loss: 0.0082 - accuracy: 0.9925 - val_loss: 0.0130 - val_accuracy: 0.9815\n",
      "Epoch 8/20\n",
      "1875/1875 [==============================] - 20s 10ms/step - loss: 0.0068 - accuracy: 0.9941 - val_loss: 0.0125 - val_accuracy: 0.9833\n",
      "Epoch 9/20\n",
      "1875/1875 [==============================] - 19s 10ms/step - loss: 0.0059 - accuracy: 0.9958 - val_loss: 0.0124 - val_accuracy: 0.9819\n",
      "Epoch 10/20\n",
      "1875/1875 [==============================] - 20s 10ms/step - loss: 0.0049 - accuracy: 0.9970 - val_loss: 0.0125 - val_accuracy: 0.9828\n",
      "Epoch 11/20\n",
      "1875/1875 [==============================] - 19s 10ms/step - loss: 0.0043 - accuracy: 0.9974 - val_loss: 0.0121 - val_accuracy: 0.9828\n",
      "Epoch 12/20\n",
      "1875/1875 [==============================] - 20s 10ms/step - loss: 0.0036 - accuracy: 0.9984 - val_loss: 0.0119 - val_accuracy: 0.9844\n",
      "Epoch 13/20\n",
      "1875/1875 [==============================] - 20s 10ms/step - loss: 0.0031 - accuracy: 0.9985 - val_loss: 0.0120 - val_accuracy: 0.9830\n",
      "Epoch 14/20\n",
      "1875/1875 [==============================] - 20s 11ms/step - loss: 0.0027 - accuracy: 0.9992 - val_loss: 0.0116 - val_accuracy: 0.9831\n",
      "Epoch 15/20\n",
      "1875/1875 [==============================] - 20s 10ms/step - loss: 0.0025 - accuracy: 0.9990 - val_loss: 0.0120 - val_accuracy: 0.9841\n",
      "Epoch 16/20\n",
      "1875/1875 [==============================] - 20s 11ms/step - loss: 0.0022 - accuracy: 0.9994 - val_loss: 0.0116 - val_accuracy: 0.9839\n",
      "Epoch 17/20\n",
      "1875/1875 [==============================] - 20s 11ms/step - loss: 0.0018 - accuracy: 0.9997 - val_loss: 0.0118 - val_accuracy: 0.9841\n",
      "Epoch 18/20\n",
      "1875/1875 [==============================] - 20s 11ms/step - loss: 0.0017 - accuracy: 0.9996 - val_loss: 0.0115 - val_accuracy: 0.9837\n",
      "Epoch 19/20\n",
      "1875/1875 [==============================] - 20s 11ms/step - loss: 0.0016 - accuracy: 0.9998 - val_loss: 0.0117 - val_accuracy: 0.9849\n",
      "Epoch 20/20\n",
      "1875/1875 [==============================] - 20s 11ms/step - loss: 0.0015 - accuracy: 0.9998 - val_loss: 0.0119 - val_accuracy: 0.9836\n"
     ]
    }
   ],
   "source": [
    "history=model.fit(xtrain,ytrain,validation_data=(xtest,ytest),epochs=20,verbose=1)\n"
   ]
  },
  {
   "cell_type": "code",
   "execution_count": 15,
   "metadata": {},
   "outputs": [
    {
     "name": "stdout",
     "output_type": "stream",
     "text": [
      "1875/1875 [==============================] - 11s 6ms/step - loss: 6.8954e-04 - accuracy: 0.9999\n",
      "313/313 [==============================] - 2s 6ms/step - loss: 0.0119 - accuracy: 0.9836\n",
      "Train Accuracy:\t 0.9999499917030334\n",
      "\n",
      "Test Accuracy:\t 0.9836000204086304\n"
     ]
    }
   ],
   "source": [
    "_,train_acc=model.evaluate(xtrain,ytrain,verbose=1)\n",
    "_,test_acc=model.evaluate(xtest,ytest,verbose=1)\n",
    "print('Train Accuracy:\\t',train_acc)\n",
    "print()\n",
    "print('Test Accuracy:\\t',test_acc)"
   ]
  },
  {
   "cell_type": "code",
   "execution_count": 16,
   "metadata": {},
   "outputs": [
    {
     "data": {
      "image/png": "[encoded data removed]",
      "text/plain": [
       "<Figure size 640x480 with 1 Axes>"
      ]
     },
     "metadata": {},
     "output_type": "display_data"
    }
   ],
   "source": [
    "pyplot.plot(history.history['accuracy'],label='train')\n",
    "pyplot.plot(history.history['val_accuracy'],label='test')\n",
    "pyplot.legend()\n",
    "pyplot.show()"
   ]
  },
  {
   "cell_type": "code",
   "execution_count": 17,
   "metadata": {},
   "outputs": [
    {
     "data": {
      "image/png": "[encoded data removed]",
      "text/plain": [
       "<Figure size 640x480 with 1 Axes>"
      ]
     },
     "metadata": {},
     "output_type": "display_data"
    }
   ],
   "source": [
    "pyplot.plot(history.history['loss'],label='train')\n",
    "pyplot.plot(history.history['val_loss'],label='test')\n",
    "pyplot.legend()\n",
    "pyplot.show()\n"
   ]
  },
  {
   "cell_type": "code",
   "execution_count": null,
   "metadata": {},
   "outputs": [
    {
     "name": "stdout",
     "output_type": "stream",
     "text": [
      "Trial 30 Complete [00h 01m 29s]\n",
      "val_accuracy: 0.9782000184059143\n",
      "\n",
      "Best val_accuracy So Far: 0.9793000221252441\n",
      "Total elapsed time: 00h 20m 31s\n",
      "Epoch 1/10\n",
      "1875/1875 [==============================] - 10s 5ms/step - loss: 0.2910 - accuracy: 0.9147 - val_loss: 0.1402 - val_accuracy: 0.9572\n",
      "Epoch 2/10\n",
      "1875/1875 [==============================] - 9s 5ms/step - loss: 0.1440 - accuracy: 0.9556 - val_loss: 0.0971 - val_accuracy: 0.9703\n",
      "Epoch 3/10\n",
      "1875/1875 [==============================] - 9s 5ms/step - loss: 0.1059 - accuracy: 0.9679 - val_loss: 0.0867 - val_accuracy: 0.9743\n",
      "Epoch 4/10\n",
      "1875/1875 [==============================] - 9s 5ms/step - loss: 0.0897 - accuracy: 0.9714 - val_loss: 0.0768 - val_accuracy: 0.9779\n",
      "Epoch 5/10\n",
      "1875/1875 [==============================] - 9s 5ms/step - loss: 0.0747 - accuracy: 0.9769 - val_loss: 0.0738 - val_accuracy: 0.9774\n",
      "Epoch 6/10\n",
      "1875/1875 [==============================] - 9s 5ms/step - loss: 0.0665 - accuracy: 0.9781 - val_loss: 0.0701 - val_accuracy: 0.9796\n",
      "Epoch 7/10\n",
      "1875/1875 [==============================] - 9s 5ms/step - loss: 0.0577 - accuracy: 0.9816 - val_loss: 0.0697 - val_accuracy: 0.9792\n",
      "Epoch 8/10\n",
      "1875/1875 [==============================] - 9s 5ms/step - loss: 0.0527 - accuracy: 0.9829 - val_loss: 0.0672 - val_accuracy: 0.9798\n",
      "Epoch 9/10\n",
      "1356/1875 [====================>.........] - ETA: 2s - loss: 0.0505 - accuracy: 0.9831"
     ]
    }
   ],
   "source": [
    "import tensorflow as tf\n",
    "from tensorflow import keras\n",
    "from tensorflow.keras import layers\n",
    "from kerastuner.tuners import Hyperband\n",
    "from kerastuner.engine.hyperparameters import HyperParameter\n",
    "\n",
    "# Load and preprocess the MNIST dataset\n",
    "(x_train, y_train), (x_test, y_test) = keras.datasets.mnist.load_data()\n",
    "x_train, x_test = x_train / 255.0, x_test / 255.0\n",
    "\n",
    "# Define the model-building function\n",
    "def build_model(hp):\n",
    "    model = keras.Sequential()\n",
    "    model.add(layers.Flatten(input_shape=(28, 28)))\n",
    "\n",
    "    # Tune the number of hidden layers and units\n",
    "    for i in range(hp.Int('num_layers', 1, 3)):\n",
    "        model.add(layers.Dense(units=hp.Int(f'units_{i}', 32, 128, step=32), activation='relu'))\n",
    "        model.add(layers.Dropout(0.2))\n",
    "\n",
    "    model.add(layers.Dense(10, activation='softmax'))\n",
    "\n",
    "    # Compile the model with a tunable learning rate\n",
    "    model.compile(\n",
    "        optimizer=keras.optimizers.Adam(learning_rate=hp.Choice('learning_rate', values=[1e-2, 1e-3, 1e-4])),\n",
    "        loss='sparse_categorical_crossentropy',\n",
    "        metrics=['accuracy']\n",
    "    )\n",
    "\n",
    "    return model\n",
    "\n",
    "# Instantiate the tuner and perform hyperparameter tuning\n",
    "tuner = Hyperband(\n",
    "    build_model,\n",
    "    objective='val_accuracy',\n",
    "    max_epochs=10,\n",
    "    factor=3,\n",
    "    directory='keras_tuner_dir',\n",
    "    project_name='mnist_hyperband'\n",
    ")\n",
    "\n",
    "tuner.search(x_train, y_train, epochs=10, validation_data=(x_test,y_test))\n",
    "\n",
    "# Get the best hyperparameters\n",
    "best_hps = tuner.get_best_hyperparameters(num_trials=1)[0]\n",
    "\n",
    "# Build the model with the best hyperparameters\n",
    "best_model = tuner.hypermodel.build(best_hps)\n",
    "\n",
    "# Train the model with the best hyperparameters\n",
    "best_model.fit(x_train, y_train, epochs=10, validation_data=(x_test, y_test))"
   ]
  },
  {
   "cell_type": "code",
   "execution_count": 19,
   "metadata": {},
   "outputs": [
    {
     "name": "stdout",
     "output_type": "stream",
     "text": [
      "Collecting keras-tuner\n",
      "  Using cached keras_tuner-1.4.6-py3-none-any.whl (128 kB)\n",
      "Requirement already satisfied: packaging in c:\\users\\nirmala\\anaconda3\\lib\\site-packages (from keras-tuner) (23.1)\n",
      "Collecting kt-legacy\n",
      "  Using cached kt_legacy-1.0.5-py3-none-any.whl (9.6 kB)\n",
      "Requirement already satisfied: requests in c:\\users\\nirmala\\anaconda3\\lib\\site-packages (from keras-tuner) (2.31.0)\n",
      "Requirement already satisfied: keras in c:\\users\\nirmala\\anaconda3\\lib\\site-packages (from keras-tuner) (2.14.0)\n",
      "Requirement already satisfied: urllib3<3,>=1.21.1 in c:\\users\\nirmala\\anaconda3\\lib\\site-packages (from requests->keras-tuner) (1.26.16)\n",
      "Requirement already satisfied: idna<4,>=2.5 in c:\\users\\nirmala\\anaconda3\\lib\\site-packages (from requests->keras-tuner) (3.4)\n",
      "Requirement already satisfied: certifi>=2017.4.17 in c:\\users\\nirmala\\anaconda3\\lib\\site-packages (from requests->keras-tuner) (2023.7.22)\n",
      "Requirement already satisfied: charset-normalizer<4,>=2 in c:\\users\\nirmala\\anaconda3\\lib\\site-packages (from requests->keras-tuner) (2.0.4)\n",
      "Installing collected packages: kt-legacy, keras-tuner\n",
      "Successfully installed keras-tuner-1.4.6 kt-legacy-1.0.5\n",
      "Note: you may need to restart the kernel to use updated packages.\n"
     ]
    }
   ],
   "source": [
    "pip install keras-tuner\n"
   ]
  },
  {
   "cell_type": "code",
   "execution_count": null,
   "metadata": {},
   "outputs": [],
   "source": []
  }
 ],
 "metadata": {
  "kernelspec": {
   "display_name": "Python 3 (ipykernel)",
   "language": "python",
   "name": "python3"
  },
  "language_info": {
   "codemirror_mode": {
    "name": "ipython",
    "version": 3
   },
   "file_extension": ".py",
   "mimetype": "text/x-python",
   "name": "python",
   "nbconvert_exporter": "python",
   "pygments_lexer": "ipython3",
   "version": "3.10.13"
  }
 },
 "nbformat": 4,
 "nbformat_minor": 4
}
