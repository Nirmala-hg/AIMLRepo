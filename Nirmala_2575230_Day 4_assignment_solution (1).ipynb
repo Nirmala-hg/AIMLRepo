{
 "cells": [
  {
   "cell_type": "markdown",
   "id": "8f82c6cd",
   "metadata": {},
   "source": [
    "# 1. Write a python program with Exception handling to input marks for five subjects Physics, Chemistry, Biology, Mathematics, and Computer. Calculate the percentage and grade according to the following:\n",
    "\n",
    "i) Percentage >= 90%: Grade A\n",
    "\n",
    "ii) Percentage >= 80%: Grade B\n",
    "\n",
    "Percentage >= 70%: Grade C\n",
    "\n",
    "iv) Percentage >= 60%: Grade D\n",
    "\n",
    "v) Percentage >= 40%: Grade E\n",
    "\n",
    "vi) Percentage <40%: Grade F"
   ]
  },
  {
   "cell_type": "code",
   "execution_count": 1,
   "id": "9e4ce3f2",
   "metadata": {},
   "outputs": [
    {
     "name": "stdout",
     "output_type": "stream",
     "text": [
      "Enter Physics marks: 70\n",
      "Enter Chemistry marks: 50\n",
      "Enter Biology marks: 35\n",
      "Enter Mathematics marks: 90\n",
      "Enter Computer marks: 22\n",
      "Percentage: 53.40%\n",
      "Grade: E\n"
     ]
    }
   ],
   "source": [
    "try:\n",
    "    physics = float(input(\"Enter Physics marks: \"))\n",
    "    chemistry = float(input(\"Enter Chemistry marks: \"))\n",
    "    biology = float(input(\"Enter Biology marks: \"))\n",
    "    mathematics = float(input(\"Enter Mathematics marks: \"))\n",
    "    computer = float(input(\"Enter Computer marks: \"))\n",
    "    \n",
    "    total_marks = physics + chemistry + biology + mathematics + computer\n",
    "    percentage = (total_marks / 500) * 100\n",
    "    \n",
    "    if percentage >= 90:\n",
    "        grade = \"A\"\n",
    "    elif percentage >= 80:\n",
    "        grade = \"B\"\n",
    "    elif percentage >= 70:\n",
    "        grade = \"C\"\n",
    "    elif percentage >= 60:\n",
    "        grade = \"D\"\n",
    "    elif percentage >= 40:\n",
    "        grade = \"E\"\n",
    "    else:\n",
    "        grade = \"F\"\n",
    "        \n",
    "    print(f\"Percentage: {percentage:.2f}%\")\n",
    "    print(f\"Grade: {grade}\")\n",
    "\n",
    "except ValueError:\n",
    "    print(\"Invalid input. Please enter valid numerical marks for each subject.\")\n",
    "except Exception as e:\n",
    "    print(f\"An error occurred: {str(e)}\")"
   ]
  },
  {
   "cell_type": "markdown",
   "id": "7dfa13dc",
   "metadata": {},
   "source": [
    "# 2.Write a python program with Exception handling to input electricity unit charges and calculate the total electricity bill according to the given condition:\n",
    "\n",
    "i) For the first 50 units Rs. 0.50/unit\n",
    "\n",
    "ii) For the next 100 units Rs. 0.75/unit\n",
    "\n",
    "For the next 100 units Rs. 1.20/unit\n",
    "\n",
    "iv) For units above 250 Rs. 1.50/unit\n",
    "\n",
    "v) An additional surcharge of 20% is added to the bill.\n"
   ]
  },
  {
   "cell_type": "code",
   "execution_count": 2,
   "id": "aaa018eb",
   "metadata": {},
   "outputs": [
    {
     "name": "stdout",
     "output_type": "stream",
     "text": [
      "Enter electricity unit charges: 100\n",
      "Total Electricity Bill: Rs. 75.00\n"
     ]
    }
   ],
   "source": [
    "while True:\n",
    "    try:\n",
    "        units = float(input(\"Enter electricity unit charges: \"))\n",
    "\n",
    "        if units < 0:\n",
    "            raise ValueError(\"Electricity units cannot be negative.\")\n",
    "\n",
    "        total_bill = 0\n",
    "        surcharge_percentage = 20\n",
    "\n",
    "        if units <= 50:\n",
    "            total_bill = units * 0.50\n",
    "        elif units <= 150:\n",
    "            total_bill = 50 * 0.50 + (units - 50) * 0.75\n",
    "        elif units <= 250:\n",
    "            total_bill = 50 * 0.50 + 100 * 0.75 + (units - 150) * 1.20\n",
    "        else:\n",
    "            total_bill = 50 * 0.50 + 100 * 0.75 + 100 * 1.20 + (units - 250) * 1.50\n",
    "\n",
    "        surcharge_amount = (surcharge_percentage / 100) * total_bill\n",
    "\n",
    "        total_bill += surcharge_amount\n",
    "\n",
    "        print(f\"Total Electricity Bill: Rs. {total_bill:.2f}\")\n",
    "\n",
    "        break\n",
    "\n",
    "    except ValueError as ve:\n",
    "        print(f\"Invalid input: {ve}. Please enter valid numerical unit charges.\")\n",
    "    except Exception as e:\n",
    "        print(f\"An error occurred: {str(e)}\")"
   ]
  },
  {
   "cell_type": "markdown",
   "id": "cb084427",
   "metadata": {},
   "source": [
    "# 3. Write a python program with Exception handling to input the week number and print the weekday."
   ]
  },
  {
   "cell_type": "code",
   "execution_count": 3,
   "id": "55a0bd04",
   "metadata": {},
   "outputs": [
    {
     "name": "stdout",
     "output_type": "stream",
     "text": [
      "Enter the week number (1-7): 4\n",
      "Weekday for week number 4 is Thursday\n"
     ]
    }
   ],
   "source": [
    "while True:\n",
    "    try:\n",
    "        week_number = int(input(\"Enter the week number (1-7): \"))\n",
    "\n",
    "        if week_number < 1 or week_number > 7:\n",
    "            raise ValueError(\"Week number should be between 1 and 7.\")\n",
    "\n",
    "        weekdays = [\"Monday\", \"Tuesday\", \"Wednesday\", \"Thursday\", \"Friday\", \"Saturday\", \"Sunday\"]\n",
    "\n",
    "        print(f\"Weekday for week number {week_number} is {weekdays[week_number - 1]}\")\n",
    "\n",
    "        break\n",
    "\n",
    "    except ValueError as ve:\n",
    "        print(f\"Invalid input: {ve}. Please enter a valid week number (1-7).\")\n",
    "    except Exception as e:\n",
    "        print(f\"An error occurred: {str(e)}\")"
   ]
  },
  {
   "cell_type": "markdown",
   "id": "99385b9a",
   "metadata": {},
   "source": [
    "# 5.Write a Python program for finding the most frequent words in a text read from a file .\n",
    "\n",
    "i) Initially open the text file in read mode.\n",
    "\n",
    "ii) Make all the letters in the document into lowercase letters and split the words in each line.\n",
    "\n",
    "iii) Get the words in an order.\n",
    "\n",
    "iv) Sort the words for finding the most frequent words in the file."
   ]
  },
  {
   "cell_type": "code",
   "execution_count": 4,
   "id": "827fc68b",
   "metadata": {},
   "outputs": [
    {
     "name": "stdout",
     "output_type": "stream",
     "text": [
      "and: 5 times\n",
      "from: 5 times\n",
      "fruits: 4 times\n",
      "of: 4 times\n",
      "the: 4 times\n"
     ]
    }
   ],
   "source": [
    "def most_frequent_words(file_name):\n",
    "    # Step i: Open the text file in read mode\n",
    "    with open(file_name, 'r') as file:\n",
    "        text = file.read()\n",
    "\n",
    "    # Step ii: Convert all letters to lowercase and split the words\n",
    "    words = text.lower().split()\n",
    "\n",
    "    # Step iii: Get the words in order\n",
    "    word_order = {}\n",
    "\n",
    "    for word in words:\n",
    "        if word.isalpha():  # Check if the word contains only letters\n",
    "            if word in word_order:\n",
    "                word_order[word] += 1\n",
    "            else:\n",
    "                word_order[word] = 1\n",
    "\n",
    "    # Step iv: Sort the words by frequency\n",
    "    sorted_words = sorted(word_order.items(), key=lambda x: x[1], reverse=True)\n",
    "\n",
    "    return sorted_words\n",
    "\n",
    "\n",
    "file_name = 'max.txt'  # Replace with the name of your text file\n",
    "frequent_words = most_frequent_words(file_name)\n",
    "\n",
    "# Display the 5 most frequent words\n",
    "for word, frequency in frequent_words[:5]:\n",
    "    print(f'{word}: {frequency} times')"
   ]
  }
 ],
 "metadata": {
  "kernelspec": {
   "display_name": "Python 3 (ipykernel)",
   "language": "python",
   "name": "python3"
  },
  "language_info": {
   "codemirror_mode": {
    "name": "ipython",
    "version": 3
   },
   "file_extension": ".py",
   "mimetype": "text/x-python",
   "name": "python",
   "nbconvert_exporter": "python",
   "pygments_lexer": "ipython3",
   "version": "3.10.9"
  }
 },
 "nbformat": 4,
 "nbformat_minor": 5
}
