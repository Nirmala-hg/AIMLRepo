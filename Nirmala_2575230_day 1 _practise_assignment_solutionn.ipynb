{
 "cells": [
  {
   "cell_type": "markdown",
   "id": "4ea8a769",
   "metadata": {},
   "source": [
    "# 1.Manipulate using a list.\n",
    "i) To add new elements to the end of the list\n",
    "ii)To reverse elements in the list\n",
    "iii) To display the same list of elements multiple times\n",
    "iv) To concatenate two list\n",
    "v) To sort the elements in the list in ascending order\n"
   ]
  },
  {
   "cell_type": "code",
   "execution_count": 1,
   "id": "ece88632",
   "metadata": {},
   "outputs": [
    {
     "data": {
      "text/plain": [
       "[1, 2, 3, 4, 5]"
      ]
     },
     "execution_count": 1,
     "metadata": {},
     "output_type": "execute_result"
    }
   ],
   "source": [
    "# Initialise a list\n",
    "c = [1, 2, 3, 4, 5]\n",
    "c\n",
    "\n"
   ]
  },
  {
   "cell_type": "code",
   "execution_count": 2,
   "id": "8430d94c",
   "metadata": {},
   "outputs": [
    {
     "data": {
      "text/plain": [
       "[1, 2, 3, 4, 5, 7]"
      ]
     },
     "execution_count": 2,
     "metadata": {},
     "output_type": "execute_result"
    }
   ],
   "source": [
    "# 1. To add single new element to the end of the list\n",
    "c.append(7)\n",
    "c"
   ]
  },
  {
   "cell_type": "code",
   "execution_count": 5,
   "id": "837b9884",
   "metadata": {},
   "outputs": [
    {
     "name": "stdout",
     "output_type": "stream",
     "text": [
      "After added - list elements are:\\n, c\n"
     ]
    }
   ],
   "source": [
    "# 1. To add multiple new elements to the end of the list\n",
    "b = [9 , 10, 11 , 12]\n",
    "c.extend(b)\n",
    "print(\"After added - list elements are:\\\\n, c\")"
   ]
  },
  {
   "cell_type": "code",
   "execution_count": 6,
   "id": "2dad1c5f",
   "metadata": {},
   "outputs": [
    {
     "name": "stdout",
     "output_type": "stream",
     "text": [
      "After added - list elements are : [1, 2, 3, 4, 5, 7, 9, 10, 11, 12, 9, 10, 11, 12, 9, 10, 11, 12, 9, 10, 11, 12]\n"
     ]
    }
   ],
   "source": [
    "#To add multiple new elements to the end of the list\n",
    "b = [9 , 10, 11 , 12]\n",
    "c.extend(b)\n",
    "print(\"After added - list elements are :\",c)"
   ]
  },
  {
   "cell_type": "code",
   "execution_count": 7,
   "id": "ff805b94",
   "metadata": {},
   "outputs": [
    {
     "name": "stdout",
     "output_type": "stream",
     "text": [
      "2. list after reversing : [12, 11, 10, 9, 12, 11, 10, 9, 12, 11, 10, 9, 12, 11, 10, 9, 7, 5, 4, 3, 2, 1]\n"
     ]
    }
   ],
   "source": [
    "# 2. Reverse elements in list \n",
    "c.reverse()\n",
    "print(\"2. list after reversing :\",c)"
   ]
  },
  {
   "cell_type": "code",
   "execution_count": 8,
   "id": "bdf73384",
   "metadata": {},
   "outputs": [
    {
     "ename": "NameError",
     "evalue": "name 'a' is not defined",
     "output_type": "error",
     "traceback": [
      "\u001b[1;31m---------------------------------------------------------------------------\u001b[0m",
      "\u001b[1;31mNameError\u001b[0m                                 Traceback (most recent call last)",
      "Cell \u001b[1;32mIn[8], line 3\u001b[0m\n\u001b[0;32m      1\u001b[0m \u001b[38;5;66;03m# 3. Display the same list of elements multiple times\u001b[39;00m\n\u001b[0;32m      2\u001b[0m nun_times \u001b[38;5;241m=\u001b[39m \u001b[38;5;241m3\u001b[39m\n\u001b[1;32m----> 3\u001b[0m result_list \u001b[38;5;241m=\u001b[39m \u001b[43ma\u001b[49m \u001b[38;5;241m*\u001b[39m nun_times\n\u001b[0;32m      4\u001b[0m \u001b[38;5;28mprint\u001b[39m(\u001b[38;5;124m\"\u001b[39m\u001b[38;5;124m3. List displayed \u001b[39m\u001b[38;5;124m{\u001b[39m\u001b[38;5;124m num_times} times : \u001b[39m\u001b[38;5;124m\"\u001b[39m , result_list)\n",
      "\u001b[1;31mNameError\u001b[0m: name 'a' is not defined"
     ]
    }
   ],
   "source": [
    "# 3. Display the same list of elements multiple times\n",
    "nun_times = 3\n",
    "result_list = a * nun_times\n",
    "print(\"3. List displayed { num_times} times : \" , result_list)"
   ]
  },
  {
   "cell_type": "code",
   "execution_count": 9,
   "id": "52eff166",
   "metadata": {},
   "outputs": [
    {
     "data": {
      "text/plain": [
       "[12, 11, 10, 9, 12, 11, 10, 9, 12, 11, 10, 9, 12, 11, 10, 9, 7, 5, 4, 3, 2, 1]"
      ]
     },
     "execution_count": 9,
     "metadata": {},
     "output_type": "execute_result"
    }
   ],
   "source": [
    "# 3. Display the same list of elements multiple times\n",
    "c\n"
   ]
  },
  {
   "cell_type": "code",
   "execution_count": 10,
   "id": "bcfcd573",
   "metadata": {},
   "outputs": [
    {
     "name": "stdout",
     "output_type": "stream",
     "text": [
      "[1, 2, 3, 4, 5, 7, 9, 10, 11, 12]\n",
      "[1, 2, 3, 4, 5, 7, 9, 10, 11, 12]\n",
      "[1, 2, 3, 4, 5, 7, 9, 10, 11, 12]\n"
     ]
    }
   ],
   "source": [
    "# 3. Display the same list of elements multiple times\n",
    "c = [ 1, 2, 3, 4, 5, 7, 9, 10 , 11, 12 ]\n",
    "\n",
    "# Define how many times you want to display the list\n",
    "num_times = 3\n",
    "\n",
    "# Loop through the range of num_times\n",
    "for _ in range(num_times):\n",
    "    print(c)\n"
   ]
  },
  {
   "cell_type": "code",
   "execution_count": 11,
   "id": "92b7f166",
   "metadata": {},
   "outputs": [
    {
     "name": "stdout",
     "output_type": "stream",
     "text": [
      "[1, 2, 3, 4, 5, 6]\n"
     ]
    }
   ],
   "source": [
    "# 4 To concatenate two list\n",
    "list1 = [1, 2, 3]\n",
    "list2 = [4, 5, 6]\n",
    "\n",
    "# Concatenate the two lists\n",
    "concatenated_list = list1 + list2\n",
    "\n",
    "# Print the concatenated list\n",
    "print(concatenated_list)\n",
    "\n"
   ]
  },
  {
   "cell_type": "code",
   "execution_count": 12,
   "id": "46d41791",
   "metadata": {},
   "outputs": [
    {
     "name": "stdout",
     "output_type": "stream",
     "text": [
      "List sorted in ascending order : [1, 2, 3, 4, 5, 7, 9, 10, 11, 12]\n"
     ]
    }
   ],
   "source": [
    "#5 To sort the elements in the list in ascending order\n",
    "c.sort()\n",
    "print(\"List sorted in ascending order :\",c"
   ]
  },
  {
   "cell_type": "markdown",
   "id": "7462c08b",
   "metadata": {},
   "source": [
    "# 2. Write a python program to do in the tuples\n",
    "i) Manipulate using tuples\n",
    "ii) To add new elements to the end of the tuples\n",
    "iii) To reverse elements in the list\n",
    "iv) To display the elements of the same tuple multiple times\n",
    "v) To concatenate two tuples\n",
    "vi) To sort the elements in the list in ascending order"
   ]
  },
  {
   "cell_type": "code",
   "execution_count": 13,
   "id": "603f993e",
   "metadata": {},
   "outputs": [
    {
     "name": "stdout",
     "output_type": "stream",
     "text": [
      "Manipulated Tuple 1: (1, 2, 3, 4, 5, 6)\n",
      "Manipulated Tuple 2: ('a', 'b', 'c', 'd', 'e', 'f')\n",
      "Reversed Tuple 1: (6, 5, 4, 3, 2, 1)\n",
      "Reversed Tuple 2: ('f', 'e', 'd', 'c', 'b', 'a')\n",
      "Multiplied Tuple 1: (1, 2, 3, 4, 5, 6, 1, 2, 3, 4, 5, 6, 1, 2, 3, 4, 5, 6)\n",
      "Concatenated Tuple: (1, 2, 3, 4, 5, 6, 'a', 'b', 'c', 'd', 'e', 'f')\n",
      "Sorted Tuple 1: [1, 2, 3, 4, 5, 6]\n",
      "Sorted Tuple 2: ['a', 'b', 'c', 'd', 'e', 'f']\n"
     ]
    }
   ],
   "source": [
    "# 1.  Manipulate using tuples\n",
    "\n",
    " # i) Manipulate using tuples\n",
    "tuple1 = (1, 2, 3, 4, 5)\n",
    "tuple2 = ('a', 'b', 'c', 'd', 'e')\n",
    "\n",
    "# ii) Add new elements to the end of the tuples\n",
    "tuple1 = tuple1 + (6,)\n",
    "tuple2 = tuple2 + ('f',)\n",
    "\n",
    "# iii) Reverse elements in the list\n",
    "reversed_tuple1 = tuple1[::-1]\n",
    "reversed_tuple2 = tuple2[::-1]\n",
    "\n",
    "# iv) Display the elements of the same tuple multiple times\n",
    "multiplied_tuple1 = tuple1 * 3\n",
    "\n",
    "# v) Concatenate two tuples\n",
    "concatenated_tuple = tuple1 + tuple2\n",
    "\n",
    "# vi) Sort the elements in the list in ascending order\n",
    "sorted_tuple1 = sorted(tuple1)\n",
    "sorted_tuple2 = sorted(tuple2)\n",
    "\n",
    "# Print results\n",
    "print(f\"Manipulated Tuple 1: {tuple1}\")\n",
    "print(f\"Manipulated Tuple 2: {tuple2}\")\n",
    "print(f\"Reversed Tuple 1: {reversed_tuple1}\")\n",
    "print(f\"Reversed Tuple 2: {reversed_tuple2}\")\n",
    "print(f\"Multiplied Tuple 1: {multiplied_tuple1}\")\n",
    "print(f\"Concatenated Tuple: {concatenated_tuple}\")\n",
    "print(f\"Sorted Tuple 1: {sorted_tuple1}\")\n",
    "print(f\"Sorted Tuple 2: {sorted_tuple2}\")\n",
    "\n"
   ]
  },
  {
   "cell_type": "markdown",
   "id": "212f940a",
   "metadata": {},
   "source": [
    "# 3. Write a python program to implement the following using list\n",
    "i)Create a list with integers(minimum 10 numbers)\n",
    "ii) How to display the last number in the list\n",
    "iii) Command for displaying the values from the list [0:4]\n",
    "iv) Command for displaying the values from the list [2:]\n",
    "v) Command for displaying the values from the list [ :6]"
   ]
  },
  {
   "cell_type": "code",
   "execution_count": 14,
   "id": "efec8867",
   "metadata": {},
   "outputs": [
    {
     "name": "stdout",
     "output_type": "stream",
     "text": [
      "The last number in the list is: 10\n",
      "The values from index 0 to 3 are: [1, 2, 3, 4]\n",
      "The values from index 2 to the end are: [3, 4, 5, 6, 7, 8, 9, 10]\n",
      "The values from the beginning to index 5 are: [1, 2, 3, 4, 5, 6]\n"
     ]
    }
   ],
   "source": [
    "# i) Create a list with integers\n",
    "my_list = [1, 2, 3, 4, 5, 6, 7, 8, 9, 10]\n",
    "\n",
    "# ii) Display the last number in the list\n",
    "last_number = my_list[-1]\n",
    "print(f\"The last number in the list is: {last_number}\")\n",
    "\n",
    "# iii) Display values from the list [0:4]\n",
    "subset_1 = my_list[0:4]\n",
    "print(f\"The values from index 0 to 3 are: {subset_1}\")\n",
    "\n",
    "# iv) Display values from the list [2:]\n",
    "subset_2 = my_list[2:]\n",
    "print(f\"The values from index 2 to the end are: {subset_2}\")\n",
    "\n",
    "# v) Display values from the list [:6]\n",
    "subset_3 = my_list[:6]\n",
    "print(f\"The values from the beginning to index 5 are: {subset_3}\")\n"
   ]
  },
  {
   "cell_type": "markdown",
   "id": "43736561",
   "metadata": {},
   "source": [
    "# 4 .Write a python program : tuple1=(10, 50, 20, 40 , 30)\n",
    "i) To display the elements 10 and 50 from tuple 1\n",
    "ii) To display the length of a tuple 1\n",
    "iii)To find the minimum element from tuple 1\n",
    "iv) To add all elements in the tuple 1\n",
    "v) To display the same tuple 1 multiple times\n"
   ]
  },
  {
   "cell_type": "code",
   "execution_count": 15,
   "id": "a5dea105",
   "metadata": {},
   "outputs": [
    {
     "name": "stdout",
     "output_type": "stream",
     "text": [
      "Elements 10 and 50 from tuple 1: 10 50\n",
      "Length of tuple 1: 5\n",
      "Minimum element from tuple 1: 10\n",
      "Sum of elements in tuple 1: 150\n",
      "Displaying tuple 1 3 times:\n",
      "(10, 50, 20, 40, 30)\n",
      "(10, 50, 20, 40, 30)\n",
      "(10, 50, 20, 40, 30)\n"
     ]
    }
   ],
   "source": [
    "# Define the tuple\n",
    "tuple1 = (10, 50, 20, 40, 30)\n",
    "\n",
    "# i) To display the elements 10 and 50 from tuple 1\n",
    "print(\"Elements 10 and 50 from tuple 1:\", tuple1[0], tuple1[1])\n",
    "\n",
    "# ii) To display the length of tuple 1\n",
    "print(\"Length of tuple 1:\", len(tuple1))\n",
    "\n",
    "# iii) To find the minimum element from tuple 1\n",
    "min_element = min(tuple1)\n",
    "print(\"Minimum element from tuple 1:\", min_element)\n",
    "\n",
    "# iv) To add all elements in tuple 1\n",
    "sum_elements = sum(tuple1)\n",
    "print(\"Sum of elements in tuple 1:\", sum_elements)\n",
    "\n",
    "# v) To display the same tuple 1 multiple times\n",
    "num_times = 3  # Number of times to display\n",
    "print(f\"Displaying tuple 1 {num_times} times:\")\n",
    "for _ in range(num_times):\n",
    "    print(tuple1)\n"
   ]
  },
  {
   "cell_type": "markdown",
   "id": "3562b531",
   "metadata": {},
   "source": [
    "# 5. Write a python program\n",
    "\n",
    "1. To calculate the length of a string.\n",
    "2. To reverse words in a string.\n",
    "3. To display the same string multiple times.\n",
    "4. To concatenate two strings.\n",
    "5. str1=\"South India\", Using string slicing to display \"India\" "
   ]
  },
  {
   "cell_type": "code",
   "execution_count": 16,
   "id": "94c23bf2",
   "metadata": {},
   "outputs": [
    {
     "name": "stdout",
     "output_type": "stream",
     "text": [
      "Length of the string is: 13\n",
      "Reversed string: World! Hello,\n",
      "String repeated 3 times: Hello, World!Hello, World!Hello, World!\n",
      "Concatenated string: Hello, World! is amazing!\n",
      "Sliced string: India\n"
     ]
    }
   ],
   "source": [
    "# 1: Calculate the length of a string\n",
    "def calculate_length(string):\n",
    "    return len(string)\n",
    "\n",
    "#  2: Reverse words in a string\n",
    "def reverse_words(string):\n",
    "    words = string.split()\n",
    "    reversed_string = ' '.join(reversed(words))\n",
    "    return reversed_string\n",
    "\n",
    "# 3: Display the same string multiple times\n",
    "def display_multiple_times(string, times):\n",
    "    return string * times\n",
    "\n",
    "#  4: Concatenate two strings\n",
    "def concatenate_strings(str1, str2):\n",
    "    return str1 + str2\n",
    "\n",
    "# 5: Using string slicing to display \"India\"\n",
    "str1 = \"South India\"\n",
    "india = str1[6:]\n",
    "\n",
    "# Test the functions\n",
    "if __name__ == \"__main__\":\n",
    "    #  1\n",
    "    string = \"Hello, World!\"\n",
    "    length = calculate_length(string)\n",
    "    print(f\"Length of the string is: {length}\")\n",
    "\n",
    "    # 2\n",
    "    reversed_string = reverse_words(string)\n",
    "    print(f\"Reversed string: {reversed_string}\")\n",
    "\n",
    "    # 3\n",
    "    repeated_string = display_multiple_times(string, 3)\n",
    "    print(f\"String repeated 3 times: {repeated_string}\")\n",
    "\n",
    "    #  4\n",
    "    str2 = \" is amazing!\"\n",
    "    concatenated_string = concatenate_strings(string, str2)\n",
    "    print(f\"Concatenated string: {concatenated_string}\")\n",
    "\n",
    "    # 5\n",
    "    print(f\"Sliced string: {india}\")\n"
   ]
  },
  {
   "cell_type": "markdown",
   "id": "a4758038",
   "metadata": {},
   "source": [
    "# 6. Perform the following:\n",
    "\n",
    "1. Creating the directory.\n",
    "2. Accessing values and keys in the Dictionary.\n",
    "3. Updating the dictionary using a function.\n",
    "4. Clear and delete the dictionary values."
   ]
  },
  {
   "cell_type": "code",
   "execution_count": 20,
   "id": "3b543e57",
   "metadata": {},
   "outputs": [
    {
     "ename": "IndentationError",
     "evalue": "unindent does not match any outer indentation level (<tokenize>, line 37)",
     "output_type": "error",
     "traceback": [
      "\u001b[1;36m  File \u001b[1;32m<tokenize>:37\u001b[1;36m\u001b[0m\n\u001b[1;33m    update_dict(my_dict, 'key4', 'value4')\u001b[0m\n\u001b[1;37m    ^\u001b[0m\n\u001b[1;31mIndentationError\u001b[0m\u001b[1;31m:\u001b[0m unindent does not match any outer indentation level\n"
     ]
    }
   ],
   "source": [
    "# 1 Creating the directory\n",
    "\n",
    "import os\n",
    "\n",
    "# Specify the directory name\n",
    "directory_name = \"my_directory\"\n",
    "\n",
    "# Check if the directory already exists\n",
    "if not os.path.exists(directory_name):\n",
    "    os.makedirs(directory_name)\n",
    "    print(f\"Directory '{directory_name}' created successfully.\")\n",
    "else:\n",
    "    print(f\"Directory '{directory_name}' already exists.\") \n",
    "    \n",
    "    \n",
    "# 2  Accessing values and keys in the Dictionary.\n",
    "   \n",
    "my_dict = {'key1': 'value1', 'key2': 'value2', 'key3': 'value3'}\n",
    "\n",
    "# Accessing keys\n",
    "print(\"Keys:\")\n",
    "for key in my_dict.keys():\n",
    "    print(key)\n",
    "\n",
    "# Accessing values\n",
    "print(\"\\nValues:\")\n",
    "for value in my_dict.values():\n",
    "    print(value)\n",
    "\n",
    "    \n",
    "# 3  Updating the dictionary using a function.\n",
    "\n",
    "     def update_dict(my_dict, key, value):\n",
    "    my_dict[key] = value\n",
    "\n",
    "  # Example usage\n",
    "   update_dict(my_dict, 'key4', 'value4')\n",
    "    \n",
    "    \n",
    "# 4 Clear and delete the dictionary values.\n",
    "\n",
    "# Clear the dictionary\n",
    "my_dict.clear()\n",
    "\n",
    "# Check if the dictionary is empty\n",
    "if not bool(my_dict):\n",
    "    print(\"Dictionary is empty.\")\n",
    "else:\n",
    "    print(\"Dictionary is not empty.\")\n",
    "\n",
    "# Delete the dictionary\n",
    "del my_dict\n"
   ]
  },
  {
   "cell_type": "code",
   "execution_count": 21,
   "id": "7e12f8c5",
   "metadata": {},
   "outputs": [
    {
     "name": "stdout",
     "output_type": "stream",
     "text": [
      "Directory 'my_directory' created successfully.\n",
      "Keys:\n"
     ]
    },
    {
     "ename": "NameError",
     "evalue": "name 'my_dict' is not defined",
     "output_type": "error",
     "traceback": [
      "\u001b[1;31m---------------------------------------------------------------------------\u001b[0m",
      "\u001b[1;31mNameError\u001b[0m                                 Traceback (most recent call last)",
      "Cell \u001b[1;32mIn[21], line 17\u001b[0m\n\u001b[0;32m     15\u001b[0m \u001b[38;5;66;03m# Accessing keys\u001b[39;00m\n\u001b[0;32m     16\u001b[0m \u001b[38;5;28mprint\u001b[39m(\u001b[38;5;124m\"\u001b[39m\u001b[38;5;124mKeys:\u001b[39m\u001b[38;5;124m\"\u001b[39m)\n\u001b[1;32m---> 17\u001b[0m \u001b[38;5;28;01mfor\u001b[39;00m key \u001b[38;5;129;01min\u001b[39;00m \u001b[43mmy_dict\u001b[49m\u001b[38;5;241m.\u001b[39mkeys():\n\u001b[0;32m     18\u001b[0m     \u001b[38;5;28mprint\u001b[39m(key)\n\u001b[0;32m     20\u001b[0m \u001b[38;5;66;03m# Accessing values\u001b[39;00m\n",
      "\u001b[1;31mNameError\u001b[0m: name 'my_dict' is not defined"
     ]
    }
   ],
   "source": [
    "import os\n",
    "\n",
    "# Specify the directory name\n",
    "directory_name = \"my_directory\"\n",
    "\n",
    "# Check if the directory already exists\n",
    "if not os.path.exists(directory_name):\n",
    "    os.makedirs(directory_name)\n",
    "    print(f\"Directory '{directory_name}' created successfully.\")\n",
    "else:\n",
    "    print(f\"Directory '{directory_name}' already exists.\")\n",
    "\n",
    "    my_dict = {'key1': 'value1', 'key2': 'value2', 'key3': 'value3'}\n",
    "\n",
    "# Accessing keys\n",
    "print(\"Keys:\")\n",
    "for key in my_dict.keys():\n",
    "    print(key)\n",
    "\n",
    "# Accessing values\n",
    "print(\"\\nValues:\")\n",
    "for value in my_dict.values():\n",
    "    print(value)\n",
    "\n",
    "def update_dict(my_dict, key, value):\n",
    "    my_dict[key] = value\n",
    "\n",
    "# Example usage\n",
    "update_dict(my_dict, 'key4', 'value4')\n",
    "\n",
    "# Clear the dictionary\n",
    "my_dict.clear()\n",
    "\n",
    "# Check if the dictionary is empty\n",
    "if not bool(my_dict):\n",
    "    print(\"Dictionary is empty.\")\n",
    "else:\n",
    "    print(\"Dictionary is not empty.\")\n",
    "\n",
    "# Delete the dictionary\n",
    "del my_dict\n",
    "\n",
    "# Attempting to access the dictionary after deletion will raise an error\n",
    "# For example:\n",
    "# print(my_dict)  # This will raise a NameError\n"
   ]
  },
  {
   "cell_type": "code",
   "execution_count": 22,
   "id": "6f595f8e",
   "metadata": {},
   "outputs": [
    {
     "name": "stdout",
     "output_type": "stream",
     "text": [
      "1. Directory 'my_directory' already exists.\n",
      "2. Accessing values by keys:\n",
      "Name: John\n",
      "Age: 30\n",
      "City: New York\n",
      "Accessing keys:\n",
      "['name', 'age', 'city']\n",
      "\n",
      "3. Updated dictionary: {'name': 'John', 'age': 30, 'city': 'New York', 'occupation': 'Engineer'}\n",
      "\n",
      "4. Cleared dictionary: {}\n"
     ]
    }
   ],
   "source": [
    "# 1. Creating a directory (folder)\n",
    "import os\n",
    "\n",
    "# Specify the directory path\n",
    "directory_path = \"my_directory\"\n",
    "\n",
    "# Check if the directory already exists\n",
    "if not os.path.exists(directory_path):\n",
    "    # Create the directory\n",
    "    os.mkdir(directory_path)\n",
    "    print(f\"1. Created directory: {directory_path}\")\n",
    "else:\n",
    "    print(f\"1. Directory '{directory_path}' already exists.\")\n",
    "\n",
    "# 2. Accessing values and keys in the dictionary\n",
    "my_dict = {'name': 'John', 'age': 30, 'city': 'New York'}\n",
    "\n",
    "# Accessing values by keys\n",
    "print(\"2. Accessing values by keys:\")\n",
    "print(\"Name:\", my_dict['name'])\n",
    "print(\"Age:\", my_dict['age'])\n",
    "print(\"City:\", my_dict['city'])\n",
    "\n",
    "# Accessing keys\n",
    "print(\"Accessing keys:\")\n",
    "keys = my_dict.keys()\n",
    "print(list(keys))\n",
    "\n",
    "# 3. Updating the dictionary using a function\n",
    "def update_dictionary(dictionary, key, value):\n",
    "    dictionary[key] = value\n",
    "\n",
    "update_dictionary(my_dict, 'occupation', 'Engineer')\n",
    "print(\"\\n3. Updated dictionary:\", my_dict)\n",
    "\n",
    "# 4. Clear and delete the dictionary values\n",
    "# Clear all values in the dictionary\n",
    "my_dict.clear()\n",
    "print(\"\\n4. Cleared dictionary:\", my_dict)\n",
    "\n",
    "# Delete the dictionary\n",
    "del my_dict"
   ]
  },
  {
   "cell_type": "markdown",
   "id": "8f39926b",
   "metadata": {},
   "source": [
    "# 7  Python Program to insert a number to any position in a list"
   ]
  },
  {
   "cell_type": "code",
   "execution_count": 23,
   "id": "cb29f1e4",
   "metadata": {},
   "outputs": [
    {
     "name": "stdout",
     "output_type": "stream",
     "text": [
      "The modified list is: [1, 2, 6, 3, 4, 5]\n"
     ]
    }
   ],
   "source": [
    "def insert_number_to_position(lst, number, position):\n",
    "    lst.insert(position, number)\n",
    "    return lst\n",
    "\n",
    "# Example usage\n",
    "my_list = [1, 2, 3, 4, 5]\n",
    "new_number = 6\n",
    "insert_position = 2\n",
    "\n",
    "result_list = insert_number_to_position(my_list, new_number, insert_position)\n",
    "print(f\"The modified list is: {result_list}\")\n"
   ]
  },
  {
   "cell_type": "markdown",
   "id": "f5bb1ea2",
   "metadata": {},
   "source": [
    "# 8. Python program to delete an element froma list by index."
   ]
  },
  {
   "cell_type": "code",
   "execution_count": 24,
   "id": "421facae",
   "metadata": {},
   "outputs": [
    {
     "name": "stdout",
     "output_type": "stream",
     "text": [
      "Element 30 deleted successfully.\n",
      "[10, 20, 40, 50]\n"
     ]
    }
   ],
   "source": [
    "# Sample list\n",
    "my_list = [10, 20, 30, 40, 50]\n",
    "\n",
    "# Index of the element to be deleted\n",
    "index_to_delete = 2\n",
    "\n",
    "# Check if the index is valid\n",
    "if index_to_delete >= 0 and index_to_delete < len(my_list):\n",
    "    # Delete the element at the specified index using pop()\n",
    "    deleted_element = my_list.pop(index_to_delete)\n",
    "    print(f\"Element {deleted_element} deleted successfully.\")\n",
    "else:\n",
    "    print(\"Invalid index.\")\n",
    "\n",
    "# Print the updated list\n",
    "print(my_list)\n"
   ]
  },
  {
   "cell_type": "markdown",
   "id": "043728af",
   "metadata": {},
   "source": [
    "# 9.Write a program to display a number from 1 to 100."
   ]
  },
  {
   "cell_type": "code",
   "execution_count": 25,
   "id": "330c3b40",
   "metadata": {},
   "outputs": [
    {
     "name": "stdout",
     "output_type": "stream",
     "text": [
      "1\n",
      "2\n",
      "3\n",
      "4\n",
      "5\n",
      "6\n",
      "7\n",
      "8\n",
      "9\n",
      "10\n",
      "11\n",
      "12\n",
      "13\n",
      "14\n",
      "15\n",
      "16\n",
      "17\n",
      "18\n",
      "19\n",
      "20\n",
      "21\n",
      "22\n",
      "23\n",
      "24\n",
      "25\n",
      "26\n",
      "27\n",
      "28\n",
      "29\n",
      "30\n",
      "31\n",
      "32\n",
      "33\n",
      "34\n",
      "35\n",
      "36\n",
      "37\n",
      "38\n",
      "39\n",
      "40\n",
      "41\n",
      "42\n",
      "43\n",
      "44\n",
      "45\n",
      "46\n",
      "47\n",
      "48\n",
      "49\n",
      "50\n",
      "51\n",
      "52\n",
      "53\n",
      "54\n",
      "55\n",
      "56\n",
      "57\n",
      "58\n",
      "59\n",
      "60\n",
      "61\n",
      "62\n",
      "63\n",
      "64\n",
      "65\n",
      "66\n",
      "67\n",
      "68\n",
      "69\n",
      "70\n",
      "71\n",
      "72\n",
      "73\n",
      "74\n",
      "75\n",
      "76\n",
      "77\n",
      "78\n",
      "79\n",
      "80\n",
      "81\n",
      "82\n",
      "83\n",
      "84\n",
      "85\n",
      "86\n",
      "87\n",
      "88\n",
      "89\n",
      "90\n",
      "91\n",
      "92\n",
      "93\n",
      "94\n",
      "95\n",
      "96\n",
      "97\n",
      "98\n",
      "99\n",
      "100\n"
     ]
    }
   ],
   "source": [
    "for i in range(1, 101):\n",
    "    print(i)\n"
   ]
  },
  {
   "cell_type": "markdown",
   "id": "84a09a89",
   "metadata": {},
   "source": [
    "# 10 Write a Python program to find the sum of all items in a tuple."
   ]
  },
  {
   "cell_type": "code",
   "execution_count": 26,
   "id": "f2ee82c0",
   "metadata": {},
   "outputs": [
    {
     "name": "stdout",
     "output_type": "stream",
     "text": [
      "The sum of the tuple (1, 2, 3, 4, 5) is: 15\n"
     ]
    }
   ],
   "source": [
    "def sum_of_tuple_items(my_tuple):\n",
    "    total = sum(my_tuple)\n",
    "    return total\n",
    "\n",
    "# Example usage\n",
    "my_tuple = (1, 2, 3, 4, 5)\n",
    "result = sum_of_tuple_items(my_tuple)\n",
    "print(f\"The sum of the tuple {my_tuple} is: {result}\")"
   ]
  },
  {
   "cell_type": "markdown",
   "id": "18f9180a",
   "metadata": {},
   "source": [
    "# 12. A list of words is given. Find the words from the list that have their second character in uppercase.\n",
    "ls=['hello', 'Dear', 'hOw', 'ARe', 'You']"
   ]
  },
  {
   "cell_type": "code",
   "execution_count": 30,
   "id": "d16f4305",
   "metadata": {},
   "outputs": [
    {
     "name": "stdout",
     "output_type": "stream",
     "text": [
      "['hOw', 'ARe']\n"
     ]
    }
   ],
   "source": [
    "ls = ['hello', 'Dear', 'hOw', 'ARe', 'You']\n",
    "\n",
    "result = [word for word in ls if word[1].isupper()]\n",
    "\n",
    "print(result)\n"
   ]
  },
  {
   "cell_type": "markdown",
   "id": "dc1a451c",
   "metadata": {},
   "source": [
    "# Control Structure\n",
    "\n",
    "# 2. Write a Python code that calculates the salary of an employee. Prompt the user to enter the Basic Salary, HRA, TA, DA. Add these components to calculate the Gross Salary. Also deduct 10% of salary from the gross salary to be paid as a tax and display gross minus tax as net salary."
   ]
  },
  {
   "cell_type": "code",
   "execution_count": 35,
   "id": "975c4cab",
   "metadata": {},
   "outputs": [
    {
     "name": "stdout",
     "output_type": "stream",
     "text": [
      "Enter Basic Salary: 50000\n",
      "Enter HRA: 10000\n",
      "Enter TA: 5000\n",
      "Enter DA: 8000\n",
      "\n",
      "Gross Salary: 73000.0\n",
      "Tax (10%): 7300.0\n",
      "Net Salary: 65700.0\n"
     ]
    }
   ],
   "source": [
    "# Function to calculate gross salary\n",
    "def calculate_salary(basic_salary, hra, ta, da):\n",
    "    gross_salary = basic_salary + hra + ta + da\n",
    "    tax = 0.10 * gross_salary\n",
    "    net_salary = gross_salary - tax\n",
    "    return gross_salary, net_salary\n",
    "\n",
    "# Prompting user for input\n",
    "basic_salary = float(input(\"Enter Basic Salary: \"))\n",
    "hra = float(input(\"Enter HRA: \"))\n",
    "ta = float(input(\"Enter TA: \"))\n",
    "da = float(input(\"Enter DA: \"))\n",
    "\n",
    "# Calculating gross salary and net salary\n",
    "gross_salary, net_salary = calculate_salary(basic_salary, hra, ta, da)\n",
    "\n",
    "# Displaying the result\n",
    "print(f\"\\nGross Salary: {gross_salary}\")\n",
    "print(f\"Tax (10%): {0.10 * gross_salary}\")\n",
    "print(f\"Net Salary: {net_salary}\")\n"
   ]
  },
  {
   "cell_type": "markdown",
   "id": "ba543ab5",
   "metadata": {},
   "source": [
    "# 3 Write a Python program to search for a given string in the list"
   ]
  },
  {
   "cell_type": "code",
   "execution_count": 37,
   "id": "0e5703d1",
   "metadata": {},
   "outputs": [
    {
     "name": "stdout",
     "output_type": "stream",
     "text": [
      "The string \"apple\" is found at indices: [0, 3, 6]\n"
     ]
    }
   ],
   "source": [
    "def search_string_in_list(string_to_search, input_list):\n",
    "    # Initialize an empty list to store indices where the string is found\n",
    "    indices = []\n",
    "\n",
    "    # Iterate through the list\n",
    "    for i, item in enumerate(input_list):\n",
    "        # Check if the string_to_search is found in the item\n",
    "        if string_to_search in item:\n",
    "            # If found, append the index to the indices list\n",
    "            indices.append(i)\n",
    "\n",
    "    return indices\n",
    "\n",
    "# Example usage\n",
    "my_list = ['apple', 'banana', 'cherry', 'apple', 'date', 'kiwi', 'apple']\n",
    "search_string = 'apple'\n",
    "\n",
    "result_indices = search_string_in_list(search_string, my_list)\n",
    "\n",
    "if result_indices:\n",
    "    print(f'The string \"{search_string}\" is found at indices:', result_indices)\n",
    "else:\n",
    "    print(f'The string \"{search_string}\" is not found in the list.')\n"
   ]
  },
  {
   "cell_type": "markdown",
   "id": "81088383",
   "metadata": {},
   "source": [
    "# 4. Write a Python function that accepts a string and calculates the number of upper and lower case letters."
   ]
  },
  {
   "cell_type": "code",
   "execution_count": 38,
   "id": "a75f38ff",
   "metadata": {},
   "outputs": [
    {
     "name": "stdout",
     "output_type": "stream",
     "text": [
      "Number of uppercase letters: 2\n",
      "Number of lowercase letters: 8\n"
     ]
    }
   ],
   "source": [
    "def count_upper_lower(string):\n",
    "    upper_count = 0\n",
    "    lower_count = 0\n",
    "\n",
    "    for char in string:\n",
    "        if char.isupper():\n",
    "            upper_count += 1\n",
    "        elif char.islower():\n",
    "            lower_count += 1\n",
    "\n",
    "    return upper_count, lower_count\n",
    "\n",
    "# Example usage:\n",
    "input_string = \"Hello World\"\n",
    "upper, lower = count_upper_lower(input_string)\n",
    "print(f\"Number of uppercase letters: {upper}\")\n",
    "print(f\"Number of lowercase letters: {lower}\")\n"
   ]
  },
  {
   "cell_type": "markdown",
   "id": "5b990eaa",
   "metadata": {},
   "source": [
    "# 5. Write a program to display the sum of odd numbers and even numbers that fall between 12 and 37."
   ]
  },
  {
   "cell_type": "code",
   "execution_count": 39,
   "id": "6f00587e",
   "metadata": {},
   "outputs": [
    {
     "name": "stdout",
     "output_type": "stream",
     "text": [
      "Sum of odd numbers between 12 and 37: 325\n",
      "Sum of even numbers between 12 and 37: 312\n"
     ]
    }
   ],
   "source": [
    "def sum_odd_even(start, end):\n",
    "    odd_sum = 0\n",
    "    even_sum = 0\n",
    "\n",
    "    for num in range(start, end + 1):\n",
    "        if num % 2 == 0:\n",
    "            even_sum += num\n",
    "        else:\n",
    "            odd_sum += num\n",
    "\n",
    "    return odd_sum, even_sum\n",
    "\n",
    "start_num = 12\n",
    "end_num = 37\n",
    "\n",
    "odd_sum, even_sum = sum_odd_even(start_num, end_num)\n",
    "\n",
    "print(f\"Sum of odd numbers between {start_num} and {end_num}: {odd_sum}\")\n",
    "print(f\"Sum of even numbers between {start_num} and {end_num}: {even_sum}\")\n"
   ]
  },
  {
   "cell_type": "markdown",
   "id": "7feb9e40",
   "metadata": {},
   "source": [
    "# 6 Write a Python program to print the table of any number."
   ]
  },
  {
   "cell_type": "code",
   "execution_count": 40,
   "id": "952391ac",
   "metadata": {},
   "outputs": [
    {
     "name": "stdout",
     "output_type": "stream",
     "text": [
      "Enter the number for the table: 5\n",
      "Enter the range for the table: 10\n",
      "5 x 1 = 5\n",
      "5 x 2 = 10\n",
      "5 x 3 = 15\n",
      "5 x 4 = 20\n",
      "5 x 5 = 25\n",
      "5 x 6 = 30\n",
      "5 x 7 = 35\n",
      "5 x 8 = 40\n",
      "5 x 9 = 45\n",
      "5 x 10 = 50\n"
     ]
    }
   ],
   "source": [
    "def print_table(number, range_limit):\n",
    "    for i in range(1, range_limit + 1):\n",
    "        result = number * i\n",
    "        print(f\"{number} x {i} = {result}\")\n",
    "\n",
    "# Taking input from the user\n",
    "number = int(input(\"Enter the number for the table: \"))\n",
    "range_limit = int(input(\"Enter the range for the table: \"))\n",
    "\n",
    "# Calling the function to print the table\n",
    "print_table(number, range_limit)\n"
   ]
  },
  {
   "cell_type": "markdown",
   "id": "72f7cc70",
   "metadata": {},
   "source": [
    "# 7. Write a Python Program to sum the first 10 prime numbers."
   ]
  },
  {
   "cell_type": "code",
   "execution_count": 41,
   "id": "4039780a",
   "metadata": {},
   "outputs": [
    {
     "name": "stdout",
     "output_type": "stream",
     "text": [
      "The sum of the first 10 prime numbers is: 129\n"
     ]
    }
   ],
   "source": [
    "def is_prime(num):\n",
    "    if num < 2:\n",
    "        return False\n",
    "    for i in range(2, int(num**0.5) + 1):\n",
    "        if num % i == 0:\n",
    "            return False\n",
    "    return True\n",
    "\n",
    "def sum_first_n_primes(n):\n",
    "    primes = []\n",
    "    num = 2\n",
    "    while len(primes) < n:\n",
    "        if is_prime(num):\n",
    "            primes.append(num)\n",
    "        num += 1\n",
    "    return sum(primes)\n",
    "\n",
    "# Calculate the sum of the first 10 prime numbers\n",
    "sum_of_primes = sum_first_n_primes(10)\n",
    "\n",
    "print(f\"The sum of the first 10 prime numbers is: {sum_of_primes}\")\n"
   ]
  },
  {
   "cell_type": "markdown",
   "id": "374217ba",
   "metadata": {},
   "source": [
    "# 8. Write a Python Program to implement airthametic operations using nested if statements."
   ]
  },
  {
   "cell_type": "code",
   "execution_count": 43,
   "id": "e8dced3f",
   "metadata": {},
   "outputs": [
    {
     "name": "stdout",
     "output_type": "stream",
     "text": [
      "Enter the first number: 8\n",
      "Enter the second number: 4\n",
      "Enter an operator (+, -, *, /): *\n",
      "8.0 * 4.0 = 32.0\n"
     ]
    }
   ],
   "source": [
    "# Input two numbers and the operator\n",
    "num1 = float(input(\"Enter the first number: \"))\n",
    "num2 = float(input(\"Enter the second number: \"))\n",
    "operator = input(\"Enter an operator (+, -, *, /): \")\n",
    "\n",
    "# Perform arithmetic operations based on the operator\n",
    "if operator == \"+\":\n",
    "    result = num1 + num2\n",
    "    print(f\"{num1} + {num2} = {result}\")\n",
    "elif operator == \"-\":\n",
    "    result = num1 - num2\n",
    "    print(f\"{num1} - {num2} = {result}\")\n",
    "elif operator == \"*\":\n",
    "    result = num1 * num2\n",
    "    print(f\"{num1} * {num2} = {result}\")\n",
    "elif operator == \"/\":\n",
    "    # Check if the denominator (num2) is not zero\n",
    "    if num2 != 0:\n",
    "        result = num1 / num2\n",
    "        print(f\"{num1} / {num2} = {result}\")\n",
    "    else:\n",
    "        print(\"Error: Division by zero is not allowed\")\n",
    "else:\n",
    "    print(\"Invalid operator. Please enter +, -, *, or /.\")\n"
   ]
  },
  {
   "cell_type": "markdown",
   "id": "9b1ab7cb",
   "metadata": {},
   "source": [
    "# 9. Write a Python Program to Take the temperature in celcius and convert it to Fahrenheit."
   ]
  },
  {
   "cell_type": "code",
   "execution_count": 44,
   "id": "ed1d44b0",
   "metadata": {},
   "outputs": [
    {
     "name": "stdout",
     "output_type": "stream",
     "text": [
      "Enter the temperature in Celsius: 92\n",
      "92.0 degrees Celsius is equal to 197.6 degrees Fahrenheit.\n"
     ]
    }
   ],
   "source": [
    "def celsius_to_fahrenheit(celsius):\n",
    "    fahrenheit = (celsius * 9/5) + 32\n",
    "    return fahrenheit\n",
    "\n",
    "# Take user input for temperature in Celsius\n",
    "celsius = float(input(\"Enter the temperature in Celsius: \"))\n",
    "\n",
    "# Call the function to convert Celsius to Fahrenheit\n",
    "fahrenheit = celsius_to_fahrenheit(celsius)\n",
    "\n",
    "# Print the result\n",
    "print(f\"{celsius} degrees Celsius is equal to {fahrenheit} degrees Fahrenheit.\")\n"
   ]
  },
  {
   "cell_type": "markdown",
   "id": "c1acbb2b",
   "metadata": {},
   "source": [
    "# 10. Write a Python Program to find the max and min number in a list without using an inbuilt function."
   ]
  },
  {
   "cell_type": "code",
   "execution_count": 45,
   "id": "8eb3d7d8",
   "metadata": {},
   "outputs": [
    {
     "name": "stdout",
     "output_type": "stream",
     "text": [
      "Maximum number: 9\n",
      "Minimum number: 1\n"
     ]
    }
   ],
   "source": [
    "def find_max_min(numbers):\n",
    "    if not numbers:\n",
    "        return None, None\n",
    "\n",
    "    max_num = numbers[0]\n",
    "    min_num = numbers[0]\n",
    "\n",
    "    for num in numbers:\n",
    "        if num > max_num:\n",
    "            max_num = num\n",
    "        if num < min_num:\n",
    "            min_num = num\n",
    "\n",
    "    return max_num, min_num\n",
    "\n",
    "# Example usage\n",
    "numbers = [4, 7, 1, 9, 2, 5, 8, 3, 6]\n",
    "max_num, min_num = find_max_min(numbers)\n",
    "\n",
    "if max_num is not None and min_num is not None:\n",
    "    print(f\"Maximum number: {max_num}\")\n",
    "    print(f\"Minimum number: {min_num}\")\n",
    "else:\n",
    "    print(\"List is empty.\")\n"
   ]
  },
  {
   "cell_type": "markdown",
   "id": "0409991b",
   "metadata": {},
   "source": [
    "# 11. Write a Python Program to print out the number of seconds in 30 day month 30 days, 24 hours in a day, 60 mins per day, 60 second per min."
   ]
  },
  {
   "cell_type": "code",
   "execution_count": 46,
   "id": "31d5fb03",
   "metadata": {},
   "outputs": [
    {
     "name": "stdout",
     "output_type": "stream",
     "text": [
      "The number of seconds in a 30-day month is: 2592000 seconds.\n"
     ]
    }
   ],
   "source": [
    "# Define constants\n",
    "days_in_month = 30\n",
    "hours_in_day = 24\n",
    "minutes_in_hour = 60\n",
    "seconds_in_minute = 60\n",
    "\n",
    "# Calculate total seconds\n",
    "total_seconds = days_in_month * hours_in_day * minutes_in_hour * seconds_in_minute\n",
    "\n",
    "# Print the result\n",
    "print(f\"The number of seconds in a 30-day month is: {total_seconds} seconds.\")\n"
   ]
  },
  {
   "cell_type": "markdown",
   "id": "38e604de",
   "metadata": {},
   "source": [
    "# 12. Write a Python Program to print out the number of seconds in a year."
   ]
  },
  {
   "cell_type": "code",
   "execution_count": 47,
   "id": "7761eac2",
   "metadata": {},
   "outputs": [
    {
     "name": "stdout",
     "output_type": "stream",
     "text": [
      "There are approximately 31536000 seconds in a year.\n"
     ]
    }
   ],
   "source": [
    "def seconds_in_year():\n",
    "    days_in_year = 365\n",
    "    hours_in_day = 24\n",
    "    minutes_in_hour = 60\n",
    "    seconds_in_minute = 60\n",
    "\n",
    "    seconds_in_year = days_in_year * hours_in_day * minutes_in_hour * seconds_in_minute\n",
    "    return seconds_in_year\n",
    "\n",
    "# Call the function and print the result\n",
    "result = seconds_in_year()\n",
    "print(f\"There are approximately {result} seconds in a year.\")\n"
   ]
  },
  {
   "cell_type": "markdown",
   "id": "110aefc2",
   "metadata": {},
   "source": [
    "# 13. A high speed train can travel at an avg speed of 150 mph, how long will it take a train travelling at this speed to travel from Londen to Glasgow which is 414 miles away."
   ]
  },
  {
   "cell_type": "code",
   "execution_count": 48,
   "id": "6aa75f51",
   "metadata": {},
   "outputs": [
    {
     "name": "stdout",
     "output_type": "stream",
     "text": [
      "It will take approximately 2.76 hours to travel from London to Glasgow.\n"
     ]
    }
   ],
   "source": [
    "def travel_time(distance, speed):\n",
    "    time = distance / speed\n",
    "    return time\n",
    "\n",
    "distance = 414  # miles\n",
    "speed = 150  # mph\n",
    "\n",
    "time_taken = travel_time(distance, speed)\n",
    "\n",
    "print(f\"It will take approximately {time_taken:.2f} hours to travel from London to Glasgow.\")\n"
   ]
  },
  {
   "cell_type": "markdown",
   "id": "786a3756",
   "metadata": {},
   "source": [
    "# 14.Write a Python Program that defines a variable called days_in_each_school_year and assign 192 to variable. The program should then print out the total hours that you spend in school from year 7 to year 11. if each day you spend 6 hours in school day_in_each_school_year = 192."
   ]
  },
  {
   "cell_type": "code",
   "execution_count": 49,
   "id": "6dabe1cb",
   "metadata": {},
   "outputs": [
    {
     "name": "stdout",
     "output_type": "stream",
     "text": [
      "Total hours spent in school from year 7 to year 11: 5760\n"
     ]
    }
   ],
   "source": [
    "# Define the variable days_in_each_school_year\n",
    "days_in_each_school_year = 192\n",
    "\n",
    "# Define the number of years\n",
    "start_year = 7\n",
    "end_year = 11\n",
    "\n",
    "# Define the number of hours spent in school each day\n",
    "hours_per_day = 6\n",
    "\n",
    "# Calculate the total hours spent in school\n",
    "total_hours = (end_year - start_year + 1) * days_in_each_school_year * hours_per_day\n",
    "\n",
    "# Print the total hours\n",
    "print(f\"Total hours spent in school from year {start_year} to year {end_year}: {total_hours}\")\n"
   ]
  },
  {
   "cell_type": "markdown",
   "id": "d855c332",
   "metadata": {},
   "source": [
    "# 15. If the ages of Ram, Sam and Khan are input through the keyboard, write a python program to determine the eldest and the youngest of the three."
   ]
  },
  {
   "cell_type": "code",
   "execution_count": 50,
   "id": "c698c884",
   "metadata": {},
   "outputs": [
    {
     "name": "stdout",
     "output_type": "stream",
     "text": [
      "Enter Ram's age: 36\n",
      "Enter Sam's age: 22\n",
      "Enter Khan's age: 45\n",
      "The eldest person is Khan with age 45.\n",
      "The youngest person is Sam with age 22.\n"
     ]
    }
   ],
   "source": [
    "# Function to find the eldest and youngest among three ages\n",
    "def find_elder_and_younger(ram_age, sam_age, khan_age):\n",
    "    ages = {'Ram': ram_age, 'Sam': sam_age, 'Khan': khan_age}\n",
    "\n",
    "    eldest = max(ages, key=ages.get)\n",
    "    youngest = min(ages, key=ages.get)\n",
    "\n",
    "    return eldest, youngest\n",
    "\n",
    "# Taking input from the user\n",
    "ram_age = int(input(\"Enter Ram's age: \"))\n",
    "sam_age = int(input(\"Enter Sam's age: \"))\n",
    "khan_age = int(input(\"Enter Khan's age: \"))\n",
    "\n",
    "# Finding the eldest and youngest\n",
    "eldest, youngest = find_elder_and_younger(ram_age, sam_age, khan_age)\n",
    "\n",
    "# Printing the results\n",
    "print(f\"The eldest person is {eldest} with age {globals()[f'{eldest.lower()}_age']}.\")\n",
    "print(f\"The youngest person is {youngest} with age {globals()[f'{youngest.lower()}_age']}.\")\n"
   ]
  },
  {
   "cell_type": "markdown",
   "id": "a77e7f97",
   "metadata": {},
   "source": [
    "# 1. Write a python program to find the first N prime Numbers"
   ]
  },
  {
   "cell_type": "code",
   "execution_count": 52,
   "id": "80a95547",
   "metadata": {},
   "outputs": [
    {
     "name": "stdout",
     "output_type": "stream",
     "text": [
      "Enter the number of primes to find: 10\n",
      "The first 10 prime numbers are:\n",
      "[2, 3, 5, 7, 11, 13, 17, 19, 23, 29]\n"
     ]
    }
   ],
   "source": [
    "def is_prime(num):\n",
    "    if num < 2:\n",
    "        return False\n",
    "    for i in range(2, int(num**0.5) + 1):\n",
    "        if num % i == 0:\n",
    "            return False\n",
    "    return True\n",
    "\n",
    "def find_primes(n):\n",
    "    primes = []\n",
    "    num = 2\n",
    "    while len(primes) < n:\n",
    "        if is_prime(num):\n",
    "            primes.append(num)\n",
    "        num += 1\n",
    "    return primes\n",
    "\n",
    "# Get user input for the number of primes to find\n",
    "N = int(input(\"Enter the number of primes to find: \"))\n",
    "\n",
    "# Find the first N prime numbers\n",
    "prime_numbers = find_primes(N)\n",
    "\n",
    "# Print the first N prime numbers\n",
    "print(f\"The first {N} prime numbers are:\")\n",
    "print(prime_numbers)\n"
   ]
  },
  {
   "cell_type": "code",
   "execution_count": null,
   "id": "618990d7",
   "metadata": {},
   "outputs": [],
   "source": []
  }
 ],
 "metadata": {
  "kernelspec": {
   "display_name": "Python 3 (ipykernel)",
   "language": "python",
   "name": "python3"
  },
  "language_info": {
   "codemirror_mode": {
    "name": "ipython",
    "version": 3
   },
   "file_extension": ".py",
   "mimetype": "text/x-python",
   "name": "python",
   "nbconvert_exporter": "python",
   "pygments_lexer": "ipython3",
   "version": "3.10.9"
  }
 },
 "nbformat": 4,
 "nbformat_minor": 5
}
