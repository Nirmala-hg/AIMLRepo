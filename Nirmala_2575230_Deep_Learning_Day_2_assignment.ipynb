{
  "nbformat": 4,
  "nbformat_minor": 0,
  "metadata": {
    "colab": {
      "provenance": []
    },
    "kernelspec": {
      "name": "python3",
      "display_name": "Python 3"
    },
    "language_info": {
      "name": "python"
    }
  },
  "cells": [
    {
      "cell_type": "code",
      "execution_count": null,
      "metadata": {
        "id": "wuxvDnjj8kxH"
      },
      "outputs": [],
      "source": [
        "#2 CIFAR100 Digit classification model"
      ]
    },
    {
      "cell_type": "code",
      "source": [
        "from __future__ import absolute_import, division, print_function\n",
        "import tensorflow as tf\n",
        "from tensorflow.keras import Model, layers\n",
        "import numpy as np\n"
      ],
      "metadata": {
        "id": "rIZujcoTD0qG"
      },
      "execution_count": null,
      "outputs": []
    },
    {
      "cell_type": "markdown",
      "source": [],
      "metadata": {
        "id": "JFtRRfzQ--ud"
      }
    },
    {
      "cell_type": "code",
      "execution_count": null,
      "metadata": {
        "id": "stfAOmxk-y9u"
      },
      "outputs": [],
      "source": [
        "num_classes = 10 # total classes (0-9 digits).\n",
        "num_features = 784 # data features (img shape: 28*28).\n",
        "# Training parameters.\n",
        "learning_rate = 0.1\n",
        "training_steps = 2000\n",
        "batch_size = 256\n",
        "display_step = 100\n",
        "# Network parameters.\n",
        "n_hidden_1 = 128 # 1st layer number of neurons.\n",
        "n_hidden_2 = 256 # 2nd layer number of neurons."
      ]
    },
    {
      "cell_type": "code",
      "source": [
        "import tensorflow as tf\n",
        "from tensorflow.keras import layers, models\n",
        "from tensorflow.keras.datasets import cifar100\n",
        "from tensorflow.keras.utils import to_categorical\n",
        "\n",
        "# Load CIFAR-100 dataset\n",
        "(x_train, y_train), (x_test, y_test) = cifar100.load_data()\n",
        "\n",
        "# Normalize pixel values to be between 0 and 1\n",
        "x_train, x_test = x_train / 255.0, x_test / 255.0\n",
        "\n",
        "# Convert class vectors to one-hot encoded labels\n",
        "y_train = to_categorical(y_train, 100)\n",
        "y_test = to_categorical(y_test, 100)\n",
        "\n",
        "# Define the model\n",
        "model = models.Sequential([\n",
        "    layers.Conv2D(32, (3, 3), activation='relu', input_shape=(32, 32, 3)),\n",
        "    layers.MaxPooling2D((2, 2)),\n",
        "    layers.Conv2D(64, (3, 3), activation='relu'),\n",
        "    layers.MaxPooling2D((2, 2)),\n",
        "    layers.Conv2D(64, (3, 3), activation='relu'),\n",
        "    layers.Flatten(),\n",
        "    layers.Dense(64, activation='relu'),\n",
        "    layers.Dense(100, activation='softmax')\n",
        "])\n",
        "\n",
        "# Compile the model\n",
        "model.compile(optimizer='adam',\n",
        "              loss='categorical_crossentropy',\n",
        "              metrics=['accuracy'])\n",
        "\n",
        "# Train the model\n",
        "model.fit(x_train, y_train, epochs=2, validation_data=(x_test, y_test))\n",
        "\n",
        "# Evaluate the model on the test set\n",
        "test_loss, test_acc = model.evaluate(x_test, y_test, verbose=2)\n",
        "print(f\"\\nTest accuracy: {test_acc}\")"
      ],
      "metadata": {
        "colab": {
          "base_uri": "https://localhost:8080/"
        },
        "id": "V1kw0MBo-o9v",
        "outputId": "531dbc72-2205-4235-f1ff-bcc47f6e0cef"
      },
      "execution_count": null,
      "outputs": [
        {
          "output_type": "stream",
          "name": "stdout",
          "text": [
            "Downloading data from https://www.cs.toronto.edu/~kriz/cifar-100-python.tar.gz\n",
            "169001437/169001437 [==============================] - 5s 0us/step\n",
            "Epoch 1/2\n",
            "1563/1563 [==============================] - 71s 45ms/step - loss: 4.0446 - accuracy: 0.0775 - val_loss: 3.6014 - val_accuracy: 0.1484\n",
            "Epoch 2/2\n",
            "1563/1563 [==============================] - 69s 44ms/step - loss: 3.3897 - accuracy: 0.1859 - val_loss: 3.2546 - val_accuracy: 0.2116\n",
            "313/313 - 3s - loss: 3.2546 - accuracy: 0.2116 - 3s/epoch - 10ms/step\n",
            "\n",
            "Test accuracy: 0.21160000562667847\n"
          ]
        }
      ]
    },
    {
      "cell_type": "code",
      "source": [
        "train_data = tf.data.Dataset.from_tensor_slices((x_train, y_train))\n",
        "train_data = train_data.repeat().shuffle(5000).batch(batch_size).prefetch(1)"
      ],
      "metadata": {
        "id": "fx58dc6x-pAz"
      },
      "execution_count": null,
      "outputs": []
    },
    {
      "cell_type": "code",
      "source": [
        "import tensorflow as tf\n",
        "from tensorflow.keras import layers, models\n",
        "\n",
        "# Assuming n_hidden_1, n_hidden_2, num_classes are defined earlier in your code\n",
        "\n",
        "class NeuralNet(tf.keras.Model):\n",
        "    # Set Layers.\n",
        "    def __init__(self):\n",
        "        super(NeuralNet, self).__init__()\n",
        "\n",
        "        # First fully-connected hidden Layer.\n",
        "        self.fc1 = layers.Dense(n_hidden_1, activation=tf.nn.relu)\n",
        "\n",
        "        # Second fully-connected hidden Layer.\n",
        "        self.fc2 = layers.Dense(n_hidden_2, activation=tf.nn.relu)\n",
        "\n",
        "        # Output layer.\n",
        "        self.out = layers.Dense(num_classes, activation=tf.nn.softmax)\n",
        "\n",
        "    # Set forward pass.\n",
        "    def call(self, x, is_training=False):\n",
        "        x = self.fc1(x)\n",
        "        x = self.fc2(x)\n",
        "        x = self.out(x)\n",
        "\n",
        "        if not is_training:\n",
        "            # tf cross entropy expects logits without softmax,\n",
        "            # so only apply softmax when not training.\n",
        "            x = tf.nn.softmax(x)\n",
        "\n",
        "        return x\n",
        "\n",
        "# Build neural network model.\n",
        "neural_net = NeuralNet()"
      ],
      "metadata": {
        "id": "-7HfTUB58lT7"
      },
      "execution_count": null,
      "outputs": []
    },
    {
      "cell_type": "code",
      "source": [
        "# Cross-Entropy Loss.\n",
        "# Note that this will apply 'softmax' to the logits.\n",
        "import tensorflow as tf\n",
        "\n",
        "# Cross-Entropy Loss\n",
        "def cross_entropy_loss(x, y):\n",
        "    # Convert labels to int64 for tf cross-entropy function.\n",
        "    y = tf.cast(y, tf.int64)\n",
        "\n",
        "    # Apply softmax to logits and compute cross-entropy.\n",
        "    loss = tf.nn.sparse_softmax_cross_entropy_with_logits(labels=y, logits=x)\n",
        "\n",
        "    # Average loss across the batch.\n",
        "    return tf.reduce_mean(loss)\n",
        "\n",
        "# Accuracy Metric\n",
        "def accuracy(y_pred, y_true):\n",
        "    # Predicted class is the index of the highest score in the prediction vector.\n",
        "    correct_prediction = tf.equal(tf.argmax(y_pred, 1), tf.cast(y_true, tf.int64))\n",
        "    return tf.reduce_mean(tf.cast(correct_prediction, tf.float32), axis=-1)\n",
        "\n",
        "# Stochastic Gradient Descent Optimizer\n",
        "optimizer = tf.optimizers.SGD(learning_rate)"
      ],
      "metadata": {
        "id": "y7Y2OfuvAoam"
      },
      "execution_count": null,
      "outputs": []
    },
    {
      "cell_type": "code",
      "source": [
        "def run_optimization(x, y):\n",
        "    # Wrap computation inside a GradientTape for automatic differentiation\n",
        "    with tf.GradientTape() as g:\n",
        "        # Forward pass\n",
        "        pred = neural_net(x, is_training=True)\n",
        "\n",
        "        # Compute Loss\n",
        "        loss = cross_entropy_loss(pred, y)\n",
        "\n",
        "    # Variables to update, i.e., trainable variables\n",
        "    trainable_variables = neural_net.trainable_variables\n",
        "\n",
        "    # Compute gradients\n",
        "    gradients = g.gradient(loss, trainable_variables)\n",
        "\n",
        "    # Update W and b following gradients\n",
        "    optimizer.apply_gradients(zip(gradients, trainable_variables))"
      ],
      "metadata": {
        "id": "HrooYbtuAod_"
      },
      "execution_count": null,
      "outputs": []
    },
    {
      "cell_type": "code",
      "source": [
        "import matplotlib.pyplot as plt\n",
        "import numpy as np\n",
        "\n",
        "# Assuming you have a neural network model named 'neural_net' and the test set 'x_test'\n",
        "n_images = 5\n",
        "test_images = x_test[:n_images]\n",
        "true_labels = y_test[:n_images]\n",
        "\n",
        "# Predictions from the model\n",
        "predictions = neural_net(test_images)\n",
        "\n",
        "# Display images and model predictions\n",
        "for i in range(n_images):\n",
        "    plt.imshow(np.reshape(test_images[i], [32, 32, 3]), cmap='gray')\n",
        "\n",
        "\n",
        "\n",
        "    plt.title(f'True Label: {np.argmax(true_labels[i])}, Predicted Label: {np.argmax(predictions[i].numpy())}')\n",
        "    plt.show()"
      ],
      "metadata": {
        "colab": {
          "base_uri": "https://localhost:8080/",
          "height": 1000
        },
        "id": "pJOloLaqAohU",
        "outputId": "424897d0-5597-4d00-d2c0-9fb102d7c28b"
      },
      "execution_count": null,
      "outputs": [
        {
          "output_type": "display_data",
          "data": {
            "text/plain": [
              "<Figure size 640x480 with 1 Axes>"
            ],
            "image/png": "[encoded data removed]"
          },
          "metadata": {}
        },
        {
          "output_type": "display_data",
          "data": {
            "text/plain": [
              "<Figure size 640x480 with 1 Axes>"
            ],
            "image/png": "[encoded data removed]"
          },
          "metadata": {}
        },
        {
          "output_type": "display_data",
          "data": {
            "text/plain": [
              "<Figure size 640x480 with 1 Axes>"
            ],
            "image/png": "[encoded data removed]"
          },
          "metadata": {}
        },
        {
          "output_type": "display_data",
          "data": {
            "text/plain": [
              "<Figure size 640x480 with 1 Axes>"
            ],
            "image/png": "[encoded data removed]"
          },
          "metadata": {}
        },
        {
          "output_type": "display_data",
          "data": {
            "text/plain": [
              "<Figure size 640x480 with 1 Axes>"
            ],
            "image/png": "[encoded data removed]"
          },
          "metadata": {}
        }
      ]
    },
    {
      "cell_type": "code",
      "source": [
        "# 2.3 Keras Sequential API for Fashion_MNIST digit classification\n",
        "from keras.datasets import fashion_mnist\n",
        "from keras.models import Sequential\n",
        "from keras.layers import Dense,Dropout\n",
        "from keras.optimizers import RMSprop\n",
        "batch_size=128\n",
        "num_classes=10\n",
        "epochs=20\n",
        "(xtrain,ytrain),(xtest,ytest)=fashion_mnist.load_data()\n",
        "print('Shape-x:\\t',xtrain.shape)\n",
        "print('Shape-y:\\t',ytrain.shape)\n",
        "xtrain=xtrain.reshape(60000,784)\n",
        "xtest=xtest.reshape(10000,784)\n",
        "print('Shape-x-train:\\t',xtrain.shape)\n",
        "print('Shape-x-Test:\\t',xtest.shape)\n",
        "\n",
        "\n",
        "xtrain=xtrain/255.\n",
        "xtest=xtest/255.\n",
        "print(xtrain.shape[0],'train samples')\n",
        "print(xtest.shape[0],'test samples')\n"
      ],
      "metadata": {
        "id": "cYwMzeGcBi19"
      },
      "execution_count": null,
      "outputs": []
    },
    {
      "cell_type": "code",
      "source": [
        "2.3 Keras sequential API for fashion_MNIST digit Classification"
      ],
      "metadata": {
        "id": "IBGkYpj-Ekig"
      },
      "execution_count": null,
      "outputs": []
    },
    {
      "cell_type": "code",
      "source": [
        "from keras.datasets import fashion_mnist\n",
        "from keras.models import Sequential\n",
        "from keras.layers import Dense,Dropout\n",
        "from keras.optimizers import RMSprop"
      ],
      "metadata": {
        "id": "CSjULCy5A_jV"
      },
      "execution_count": null,
      "outputs": []
    },
    {
      "cell_type": "code",
      "source": [
        "batch_size=128\n",
        "num_classes=10\n",
        "epochs=20"
      ],
      "metadata": {
        "id": "Af5XBI06BiO-"
      },
      "execution_count": null,
      "outputs": []
    },
    {
      "cell_type": "code",
      "source": [
        "(xtrain,ytrain),(xtest,ytest)=fashion_mnist.load_data()\n",
        "print('Shape-x:\\t',xtrain.shape)\n",
        "print('Shape-y:\\t',ytrain.shape)"
      ],
      "metadata": {
        "colab": {
          "base_uri": "https://localhost:8080/"
        },
        "id": "5tPr-zFmBFua",
        "outputId": "a536b634-4205-4dd5-e79f-53b82dcb030c"
      },
      "execution_count": null,
      "outputs": [
        {
          "output_type": "stream",
          "name": "stdout",
          "text": [
            "Downloading data from https://storage.googleapis.com/tensorflow/tf-keras-datasets/train-labels-idx1-ubyte.gz\n",
            "29515/29515 [==============================] - 0s 0us/step\n",
            "Downloading data from https://storage.googleapis.com/tensorflow/tf-keras-datasets/train-images-idx3-ubyte.gz\n",
            "26421880/26421880 [==============================] - 0s 0us/step\n",
            "Downloading data from https://storage.googleapis.com/tensorflow/tf-keras-datasets/t10k-labels-idx1-ubyte.gz\n",
            "5148/5148 [==============================] - 0s 0us/step\n",
            "Downloading data from https://storage.googleapis.com/tensorflow/tf-keras-datasets/t10k-images-idx3-ubyte.gz\n",
            "4422102/4422102 [==============================] - 0s 0us/step\n",
            "Shape-x:\t (60000, 28, 28)\n",
            "Shape-y:\t (60000,)\n"
          ]
        }
      ]
    },
    {
      "cell_type": "code",
      "source": [
        "xtrain=xtrain.reshape(60000,784)\n",
        "xtest=xtest.reshape(10000,784)\n",
        "print('Shape-x-train:\\t',xtrain.shape)\n",
        "print('Shape-x-Test:\\t',xtest.shape)"
      ],
      "metadata": {
        "colab": {
          "base_uri": "https://localhost:8080/"
        },
        "id": "52HLxfnKBFyB",
        "outputId": "5fd93959-cdb4-4396-b85a-232ef2e97fb2"
      },
      "execution_count": null,
      "outputs": [
        {
          "output_type": "stream",
          "name": "stdout",
          "text": [
            "Shape-x-train:\t (60000, 784)\n",
            "Shape-x-Test:\t (10000, 784)\n"
          ]
        }
      ]
    },
    {
      "cell_type": "code",
      "source": [
        "xtrain=xtrain/255.\n",
        "xtest=xtest/255."
      ],
      "metadata": {
        "id": "UaCEP9P7BF1F"
      },
      "execution_count": null,
      "outputs": []
    },
    {
      "cell_type": "code",
      "source": [
        "print(xtrain.shape[0],'train samples')\n",
        "print(xtest.shape[0],'test samples')\n"
      ],
      "metadata": {
        "colab": {
          "base_uri": "https://localhost:8080/"
        },
        "id": "DzgCt0uSA_nP",
        "outputId": "b78a2279-941b-4482-9fa2-32e7dee0dac8"
      },
      "execution_count": null,
      "outputs": [
        {
          "output_type": "stream",
          "name": "stdout",
          "text": [
            "60000 train samples\n",
            "10000 test samples\n"
          ]
        }
      ]
    },
    {
      "cell_type": "code",
      "source": [
        "Convert class vectors to binary class matrices"
      ],
      "metadata": {
        "id": "Gx7-yHdIB08o"
      },
      "execution_count": null,
      "outputs": []
    },
    {
      "cell_type": "code",
      "source": [
        "import keras\n",
        "ytrain=keras.utils.to_categorical(ytrain,num_classes)\n",
        "ytest=keras.utils.to_categorical(ytest,num_classes)\n"
      ],
      "metadata": {
        "id": "Hy3lOVSSB0_u"
      },
      "execution_count": null,
      "outputs": []
    },
    {
      "cell_type": "code",
      "source": [
        "ytrain.shape"
      ],
      "metadata": {
        "colab": {
          "base_uri": "https://localhost:8080/"
        },
        "id": "XyxH_QR5B9f9",
        "outputId": "d605fe53-364f-4b7a-920a-db245eea7824"
      },
      "execution_count": null,
      "outputs": [
        {
          "output_type": "execute_result",
          "data": {
            "text/plain": [
              "(60000, 10)"
            ]
          },
          "metadata": {},
          "execution_count": 17
        }
      ]
    },
    {
      "cell_type": "code",
      "source": [
        "Sequential Model"
      ],
      "metadata": {
        "id": "N_uq6FDXB9i2"
      },
      "execution_count": null,
      "outputs": []
    },
    {
      "cell_type": "code",
      "source": [
        "model=Sequential()\n",
        "model.add(Dense(512,activation='relu',input_shape=(784,)))\n",
        "model.add(Dense(512,activation='relu'))\n",
        "model.add(Dense(num_classes,activation='softmax'))\n",
        "model.summary()"
      ],
      "metadata": {
        "colab": {
          "base_uri": "https://localhost:8080/"
        },
        "id": "WpOxSjhQB9ol",
        "outputId": "73cc9559-7370-425b-84f1-15e8ebe8c9f0"
      },
      "execution_count": null,
      "outputs": [
        {
          "output_type": "stream",
          "name": "stdout",
          "text": [
            "Model: \"sequential_1\"\n",
            "_________________________________________________________________\n",
            " Layer (type)                Output Shape              Param #   \n",
            "=================================================================\n",
            " dense_8 (Dense)             (None, 512)               401920    \n",
            "                                                                 \n",
            " dense_9 (Dense)             (None, 512)               262656    \n",
            "                                                                 \n",
            " dense_10 (Dense)            (None, 10)                5130      \n",
            "                                                                 \n",
            "=================================================================\n",
            "Total params: 669706 (2.55 MB)\n",
            "Trainable params: 669706 (2.55 MB)\n",
            "Non-trainable params: 0 (0.00 Byte)\n",
            "_________________________________________________________________\n"
          ]
        }
      ]
    },
    {
      "cell_type": "code",
      "source": [
        "Compile the Model"
      ],
      "metadata": {
        "id": "w3aXbdEKE4WO"
      },
      "execution_count": null,
      "outputs": []
    },
    {
      "cell_type": "code",
      "source": [
        "model.compile(loss='categorical_crossentropy',optimizer=RMSprop(),metrics=['accuracy'])"
      ],
      "metadata": {
        "id": "qld3LXAvB9rt"
      },
      "execution_count": null,
      "outputs": []
    },
    {
      "cell_type": "code",
      "source": [
        "# Fit the model\n"
      ],
      "metadata": {
        "id": "J3jL0-fxB9um"
      },
      "execution_count": null,
      "outputs": []
    },
    {
      "cell_type": "code",
      "source": [
        "histroy=model.fit(xtrain,ytrain,\n",
        " batch_size=batch_size,\n",
        " epochs=epochs,\n",
        " verbose=2,\n",
        " validation_data=(xtest,ytest))\n",
        "score=model.evaluate(xtest,ytest,verbose=1)"
      ],
      "metadata": {
        "colab": {
          "base_uri": "https://localhost:8080/"
        },
        "id": "TTvp2MfxCUMG",
        "outputId": "bb28c813-fbbd-4357-8ef9-91827bc214d2"
      },
      "execution_count": null,
      "outputs": [
        {
          "output_type": "stream",
          "name": "stdout",
          "text": [
            "Epoch 1/20\n",
            "469/469 - 9s - loss: 0.5373 - accuracy: 0.8039 - val_loss: 0.4448 - val_accuracy: 0.8389 - 9s/epoch - 19ms/step\n",
            "Epoch 2/20\n",
            "469/469 - 7s - loss: 0.3752 - accuracy: 0.8608 - val_loss: 0.4064 - val_accuracy: 0.8576 - 7s/epoch - 15ms/step\n",
            "Epoch 3/20\n",
            "469/469 - 9s - loss: 0.3330 - accuracy: 0.8765 - val_loss: 0.3634 - val_accuracy: 0.8673 - 9s/epoch - 18ms/step\n",
            "Epoch 4/20\n",
            "469/469 - 8s - loss: 0.3055 - accuracy: 0.8867 - val_loss: 0.4008 - val_accuracy: 0.8576 - 8s/epoch - 16ms/step\n",
            "Epoch 5/20\n",
            "469/469 - 7s - loss: 0.2822 - accuracy: 0.8943 - val_loss: 0.3490 - val_accuracy: 0.8763 - 7s/epoch - 15ms/step\n",
            "Epoch 6/20\n",
            "469/469 - 7s - loss: 0.2688 - accuracy: 0.8987 - val_loss: 0.3370 - val_accuracy: 0.8820 - 7s/epoch - 15ms/step\n",
            "Epoch 7/20\n",
            "469/469 - 8s - loss: 0.2575 - accuracy: 0.9024 - val_loss: 0.3703 - val_accuracy: 0.8710 - 8s/epoch - 17ms/step\n",
            "Epoch 8/20\n",
            "469/469 - 8s - loss: 0.2438 - accuracy: 0.9086 - val_loss: 0.3424 - val_accuracy: 0.8791 - 8s/epoch - 17ms/step\n",
            "Epoch 9/20\n",
            "469/469 - 6s - loss: 0.2351 - accuracy: 0.9108 - val_loss: 0.3900 - val_accuracy: 0.8779 - 6s/epoch - 13ms/step\n",
            "Epoch 10/20\n",
            "469/469 - 8s - loss: 0.2257 - accuracy: 0.9148 - val_loss: 0.3802 - val_accuracy: 0.8738 - 8s/epoch - 17ms/step\n",
            "Epoch 11/20\n",
            "469/469 - 8s - loss: 0.2193 - accuracy: 0.9179 - val_loss: 0.3984 - val_accuracy: 0.8781 - 8s/epoch - 16ms/step\n",
            "Epoch 12/20\n",
            "469/469 - 8s - loss: 0.2104 - accuracy: 0.9210 - val_loss: 0.3721 - val_accuracy: 0.8831 - 8s/epoch - 17ms/step\n",
            "Epoch 13/20\n",
            "469/469 - 7s - loss: 0.2051 - accuracy: 0.9212 - val_loss: 0.3681 - val_accuracy: 0.8866 - 7s/epoch - 15ms/step\n",
            "Epoch 14/20\n",
            "469/469 - 8s - loss: 0.1978 - accuracy: 0.9255 - val_loss: 0.3830 - val_accuracy: 0.8848 - 8s/epoch - 18ms/step\n",
            "Epoch 15/20\n",
            "469/469 - 7s - loss: 0.1932 - accuracy: 0.9272 - val_loss: 0.3722 - val_accuracy: 0.8834 - 7s/epoch - 15ms/step\n",
            "Epoch 16/20\n",
            "469/469 - 8s - loss: 0.1886 - accuracy: 0.9294 - val_loss: 0.3722 - val_accuracy: 0.8897 - 8s/epoch - 17ms/step\n",
            "Epoch 17/20\n",
            "469/469 - 8s - loss: 0.1803 - accuracy: 0.9317 - val_loss: 0.4207 - val_accuracy: 0.8916 - 8s/epoch - 17ms/step\n",
            "Epoch 18/20\n",
            "469/469 - 7s - loss: 0.1799 - accuracy: 0.9319 - val_loss: 0.4415 - val_accuracy: 0.8800 - 7s/epoch - 15ms/step\n",
            "Epoch 19/20\n",
            "469/469 - 7s - loss: 0.1735 - accuracy: 0.9347 - val_loss: 0.4622 - val_accuracy: 0.8871 - 7s/epoch - 15ms/step\n",
            "Epoch 20/20\n",
            "469/469 - 7s - loss: 0.1719 - accuracy: 0.9362 - val_loss: 0.4880 - val_accuracy: 0.8861 - 7s/epoch - 15ms/step\n",
            "313/313 [==============================] - 1s 3ms/step - loss: 0.4880 - accuracy: 0.8861\n"
          ]
        }
      ]
    },
    {
      "cell_type": "code",
      "source": [
        "print('Test Loss:\\t',score[0])\n",
        "print('Test Accuracy:\\t',score[1])\n"
      ],
      "metadata": {
        "colab": {
          "base_uri": "https://localhost:8080/"
        },
        "id": "9EXbyIfpCUPs",
        "outputId": "1404d778-d49b-4e0a-aec8-9d9a578056cd"
      },
      "execution_count": null,
      "outputs": [
        {
          "output_type": "stream",
          "name": "stdout",
          "text": [
            "Test Loss:\t 0.48796895146369934\n",
            "Test Accuracy:\t 0.8860999941825867\n"
          ]
        }
      ]
    },
    {
      "cell_type": "code",
      "source": [],
      "metadata": {
        "id": "3wUOkqWPDu2a"
      },
      "execution_count": null,
      "outputs": []
    },
    {
      "cell_type": "code",
      "source": [],
      "metadata": {
        "id": "ZdK7unElCUTA"
      },
      "execution_count": null,
      "outputs": []
    }
  ]
}