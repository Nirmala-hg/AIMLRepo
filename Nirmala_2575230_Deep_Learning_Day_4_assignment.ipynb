{
  "nbformat": 4,
  "nbformat_minor": 0,
  "metadata": {
    "colab": {
      "provenance": []
    },
    "kernelspec": {
      "name": "python3",
      "display_name": "Python 3"
    },
    "language_info": {
      "name": "python"
    }
  },
  "cells": [
    {
      "cell_type": "code",
      "execution_count": null,
      "metadata": {
        "colab": {
          "base_uri": "https://localhost:8080/"
        },
        "id": "1RmYXRSaHWJS",
        "outputId": "a5b65e2b-1a31-478d-826a-4cfcc85da7c4"
      },
      "outputs": [
        {
          "output_type": "stream",
          "name": "stdout",
          "text": [
            "Requirement already satisfied: torch in /usr/local/lib/python3.10/dist-packages (2.1.0+cu118)\n",
            "Requirement already satisfied: torchvision in /usr/local/lib/python3.10/dist-packages (0.16.0+cu118)\n",
            "Requirement already satisfied: torchaudio in /usr/local/lib/python3.10/dist-packages (2.1.0+cu118)\n",
            "Requirement already satisfied: filelock in /usr/local/lib/python3.10/dist-packages (from torch) (3.13.1)\n",
            "Requirement already satisfied: typing-extensions in /usr/local/lib/python3.10/dist-packages (from torch) (4.5.0)\n",
            "Requirement already satisfied: sympy in /usr/local/lib/python3.10/dist-packages (from torch) (1.12)\n",
            "Requirement already satisfied: networkx in /usr/local/lib/python3.10/dist-packages (from torch) (3.2.1)\n",
            "Requirement already satisfied: jinja2 in /usr/local/lib/python3.10/dist-packages (from torch) (3.1.2)\n",
            "Requirement already satisfied: fsspec in /usr/local/lib/python3.10/dist-packages (from torch) (2023.6.0)\n",
            "Requirement already satisfied: triton==2.1.0 in /usr/local/lib/python3.10/dist-packages (from torch) (2.1.0)\n",
            "Requirement already satisfied: numpy in /usr/local/lib/python3.10/dist-packages (from torchvision) (1.23.5)\n",
            "Requirement already satisfied: requests in /usr/local/lib/python3.10/dist-packages (from torchvision) (2.31.0)\n",
            "Requirement already satisfied: pillow!=8.3.*,>=5.3.0 in /usr/local/lib/python3.10/dist-packages (from torchvision) (9.4.0)\n",
            "Requirement already satisfied: MarkupSafe>=2.0 in /usr/local/lib/python3.10/dist-packages (from jinja2->torch) (2.1.3)\n",
            "Requirement already satisfied: charset-normalizer<4,>=2 in /usr/local/lib/python3.10/dist-packages (from requests->torchvision) (3.3.2)\n",
            "Requirement already satisfied: idna<4,>=2.5 in /usr/local/lib/python3.10/dist-packages (from requests->torchvision) (3.4)\n",
            "Requirement already satisfied: urllib3<3,>=1.21.1 in /usr/local/lib/python3.10/dist-packages (from requests->torchvision) (2.0.7)\n",
            "Requirement already satisfied: certifi>=2017.4.17 in /usr/local/lib/python3.10/dist-packages (from requests->torchvision) (2023.7.22)\n",
            "Requirement already satisfied: mpmath>=0.19 in /usr/local/lib/python3.10/dist-packages (from sympy->torch) (1.3.0)\n"
          ]
        }
      ],
      "source": [
        "pip install torch torchvision torchaudio"
      ]
    },
    {
      "cell_type": "code",
      "source": [
        "!pip install keras_tuner -q"
      ],
      "metadata": {
        "colab": {
          "base_uri": "https://localhost:8080/"
        },
        "id": "56tPycaqHWys",
        "outputId": "10eadddf-b058-4137-d326-1d8075b0ffaf"
      },
      "execution_count": null,
      "outputs": [
        {
          "output_type": "stream",
          "name": "stdout",
          "text": [
            "\u001b[?25l     \u001b[90m━━━━━━━━━━━━━━━━━━━━━━━━━━━━━━━━━━━━━━━━\u001b[0m \u001b[32m0.0/128.9 kB\u001b[0m \u001b[31m?\u001b[0m eta \u001b[36m-:--:--\u001b[0m\r\u001b[2K     \u001b[91m━━━━━━━━━━━━━━━━━━━\u001b[0m\u001b[90m╺\u001b[0m\u001b[90m━━━━━━━━━━━━━━━━━━━━\u001b[0m \u001b[32m61.4/128.9 kB\u001b[0m \u001b[31m1.7 MB/s\u001b[0m eta \u001b[36m0:00:01\u001b[0m\r\u001b[2K     \u001b[90m━━━━━━━━━━━━━━━━━━━━━━━━━━━━━━━━━━━━━━━━\u001b[0m \u001b[32m128.9/128.9 kB\u001b[0m \u001b[31m2.6 MB/s\u001b[0m eta \u001b[36m0:00:00\u001b[0m\n",
            "\u001b[?25h"
          ]
        }
      ]
    },
    {
      "cell_type": "code",
      "source": [
        "# Build a Neural network with Hyper-parameter fine tuning model"
      ],
      "metadata": {
        "id": "pbY-pGc1HW2J"
      },
      "execution_count": null,
      "outputs": []
    },
    {
      "cell_type": "code",
      "source": [
        "import numpy as np\n",
        "from tensorflow import keras\n",
        "from tensorflow.keras.utils import to_categorical\n",
        "from tensorflow.keras.optimizers import Adam\n",
        "from tensorflow.keras import layers\n",
        "from tensorflow.keras.datasets import fashion_mnist\n",
        "from keras_tuner import RandomSearch"
      ],
      "metadata": {
        "id": "V7DtGosMHW5R"
      },
      "execution_count": null,
      "outputs": []
    },
    {
      "cell_type": "code",
      "source": [
        "Trails=2\n",
        "epochs=2"
      ],
      "metadata": {
        "id": "XB7GKIJkHjWS"
      },
      "execution_count": null,
      "outputs": []
    },
    {
      "cell_type": "code",
      "source": [
        "(xtrain,ytrain),(xval,yval)=fashion_mnist.load_data()\n",
        "xtrain=np.expand_dims(xtrain.astype('float32')/255.,-1)\n",
        "xval=np.expand_dims(xval.astype('float32')/255.,-1)\n",
        "ytrain=to_categorical(ytrain,10)\n",
        "yval=to_categorical(yval,10)"
      ],
      "metadata": {
        "colab": {
          "base_uri": "https://localhost:8080/"
        },
        "id": "iItfCj0mHjZK",
        "outputId": "ef2f1cbe-181a-4ef5-d411-0ffda7b249ae"
      },
      "execution_count": null,
      "outputs": [
        {
          "output_type": "stream",
          "name": "stdout",
          "text": [
            "Downloading data from https://storage.googleapis.com/tensorflow/tf-keras-datasets/train-labels-idx1-ubyte.gz\n",
            "29515/29515 [==============================] - 0s 0us/step\n",
            "Downloading data from https://storage.googleapis.com/tensorflow/tf-keras-datasets/train-images-idx3-ubyte.gz\n",
            "26421880/26421880 [==============================] - 0s 0us/step\n",
            "Downloading data from https://storage.googleapis.com/tensorflow/tf-keras-datasets/t10k-labels-idx1-ubyte.gz\n",
            "5148/5148 [==============================] - 0s 0us/step\n",
            "Downloading data from https://storage.googleapis.com/tensorflow/tf-keras-datasets/t10k-images-idx3-ubyte.gz\n",
            "4422102/4422102 [==============================] - 0s 0us/step\n"
          ]
        }
      ]
    },
    {
      "cell_type": "code",
      "source": [
        "def build_model(hp):\n",
        "    \"\"\"\n",
        "    Function to build a TF model based on hyperparameter values\n",
        "\n",
        "    Args:\n",
        "    hp (hyperparameter): values\n",
        "\n",
        "    Returns:\n",
        "    Model: compiled model\n",
        "    \"\"\"\n",
        "    num_layers = hp.Int('num_layers', 2, 8, default=6)\n",
        "    lr = hp.Choice('learning_rate', [0.0001, 0.05])\n",
        "    inputs = layers.Input(shape=(28, 28, 1))\n",
        "    x = inputs\n",
        "    for idx in range(num_layers):\n",
        "        idx_str = str(idx)\n",
        "        filters = hp.Int('filters_' + idx_str, 32, 256, step=32, default=64)\n",
        "        x = layers.Conv2D(filters=filters, kernel_size=3, padding='same', activation='relu')(x)\n",
        "\n",
        "        if x.shape[1] >= 8:\n",
        "            pool_type = hp.Choice('pool_' + idx_str, values=['max', 'avg'])\n",
        "            if pool_type == 'max':\n",
        "                x = layers.MaxPooling2D(2)(x)\n",
        "            elif pool_type == 'avg':\n",
        "                x = layers.AveragePooling2D(2)(x)\n",
        "\n",
        "    x = layers.Flatten()(x)\n",
        "    outputs = layers.Dense(10, activation='softmax')(x)\n",
        "\n",
        "    # Build model\n",
        "    model = keras.Model(inputs, outputs)\n",
        "    model.compile(optimizer=Adam(lr), loss='categorical_crossentropy', metrics=['accuracy'])\n",
        "    return model"
      ],
      "metadata": {
        "id": "gi_JQFsNHjcY"
      },
      "execution_count": null,
      "outputs": []
    },
    {
      "cell_type": "code",
      "source": [
        "tuner=RandomSearch(build_model,objective='val_accuracy',max_trials=Trails,\n",
        " project_name='Fashion_MNIST_results')\n"
      ],
      "metadata": {
        "id": "wZCM0LcxHjff"
      },
      "execution_count": null,
      "outputs": []
    },
    {
      "cell_type": "code",
      "source": [
        "tuner.search_space_summary()"
      ],
      "metadata": {
        "colab": {
          "base_uri": "https://localhost:8080/"
        },
        "id": "7oT9LkkDH79p",
        "outputId": "f255d390-357f-4213-e99d-61ad460209aa"
      },
      "execution_count": null,
      "outputs": [
        {
          "output_type": "stream",
          "name": "stdout",
          "text": [
            "Search space summary\n",
            "Default search space size: 10\n",
            "num_layers (Int)\n",
            "{'default': 6, 'conditions': [], 'min_value': 2, 'max_value': 8, 'step': 1, 'sampling': 'linear'}\n",
            "learning_rate (Choice)\n",
            "{'default': 0.0001, 'conditions': [], 'values': [0.0001, 0.05], 'ordered': True}\n",
            "filters_0 (Int)\n",
            "{'default': 64, 'conditions': [], 'min_value': 32, 'max_value': 256, 'step': 32, 'sampling': 'linear'}\n",
            "pool_0 (Choice)\n",
            "{'default': 'max', 'conditions': [], 'values': ['max', 'avg'], 'ordered': False}\n",
            "filters_1 (Int)\n",
            "{'default': 64, 'conditions': [], 'min_value': 32, 'max_value': 256, 'step': 32, 'sampling': 'linear'}\n",
            "pool_1 (Choice)\n",
            "{'default': 'max', 'conditions': [], 'values': ['max', 'avg'], 'ordered': False}\n",
            "filters_2 (Int)\n",
            "{'default': 64, 'conditions': [], 'min_value': 32, 'max_value': 256, 'step': 32, 'sampling': 'linear'}\n",
            "filters_3 (Int)\n",
            "{'default': 64, 'conditions': [], 'min_value': 32, 'max_value': 256, 'step': 32, 'sampling': 'linear'}\n",
            "filters_4 (Int)\n",
            "{'default': 64, 'conditions': [], 'min_value': 32, 'max_value': 256, 'step': 32, 'sampling': 'linear'}\n",
            "filters_5 (Int)\n",
            "{'default': 64, 'conditions': [], 'min_value': 32, 'max_value': 256, 'step': 32, 'sampling': 'linear'}\n"
          ]
        }
      ]
    },
    {
      "cell_type": "code",
      "source": [
        "tuner.search(xtrain,ytrain,batch_size=128,epochs=2,validation_data=(xval,yval))"
      ],
      "metadata": {
        "colab": {
          "base_uri": "https://localhost:8080/"
        },
        "id": "sD4jCKcoH8Be",
        "outputId": "7b3a0715-9c75-40b9-8e5d-4c4093449033"
      },
      "execution_count": 18,
      "outputs": [
        {
          "output_type": "stream",
          "name": "stdout",
          "text": [
            "Trial 2 Complete [00h 30m 41s]\n",
            "val_accuracy: 0.8138999938964844\n",
            "\n",
            "Best val_accuracy So Far: 0.8467000126838684\n",
            "Total elapsed time: 00h 54m 05s\n"
          ]
        }
      ]
    },
    {
      "cell_type": "code",
      "source": [
        "tuner.results_summary()"
      ],
      "metadata": {
        "id": "uk6Pt5SfIJC9",
        "colab": {
          "base_uri": "https://localhost:8080/"
        },
        "outputId": "47153048-65fd-49b0-bb63-5dc6034d470f"
      },
      "execution_count": 10,
      "outputs": [
        {
          "output_type": "stream",
          "name": "stdout",
          "text": [
            "Results summary\n",
            "Results in ./Fashion_MNIST_results\n",
            "Showing 10 best trials\n",
            "Objective(name=\"val_accuracy\", direction=\"max\")\n",
            "\n",
            "Trial 0 summary\n",
            "Hyperparameters:\n",
            "num_layers: 5\n",
            "learning_rate: 0.0001\n",
            "filters_0: 256\n",
            "pool_0: avg\n",
            "filters_1: 64\n",
            "pool_1: max\n",
            "filters_2: 160\n",
            "filters_3: 192\n",
            "filters_4: 160\n",
            "filters_5: 224\n",
            "Score: 0.8467000126838684\n",
            "\n",
            "Trial 1 summary\n",
            "Hyperparameters:\n",
            "num_layers: 6\n",
            "learning_rate: 0.0001\n",
            "filters_0: 128\n",
            "pool_0: avg\n",
            "filters_1: 96\n",
            "pool_1: avg\n",
            "filters_2: 32\n",
            "filters_3: 96\n",
            "filters_4: 32\n",
            "filters_5: 192\n"
          ]
        }
      ]
    },
    {
      "cell_type": "code",
      "source": [
        "best_model=tuner.get_best_models(num_models=1)[0]\n",
        "best_model.summary()"
      ],
      "metadata": {
        "id": "T97plIVrIJGq",
        "colab": {
          "base_uri": "https://localhost:8080/"
        },
        "outputId": "f4d65cfb-a14f-403d-8461-4ec06e5d0858"
      },
      "execution_count": 11,
      "outputs": [
        {
          "output_type": "stream",
          "name": "stdout",
          "text": [
            "Model: \"model\"\n",
            "_________________________________________________________________\n",
            " Layer (type)                Output Shape              Param #   \n",
            "=================================================================\n",
            " input_1 (InputLayer)        [(None, 28, 28, 1)]       0         \n",
            "                                                                 \n",
            " conv2d (Conv2D)             (None, 28, 28, 256)       2560      \n",
            "                                                                 \n",
            " average_pooling2d (Average  (None, 14, 14, 256)       0         \n",
            " Pooling2D)                                                      \n",
            "                                                                 \n",
            " conv2d_1 (Conv2D)           (None, 14, 14, 64)        147520    \n",
            "                                                                 \n",
            " max_pooling2d (MaxPooling2  (None, 7, 7, 64)          0         \n",
            " D)                                                              \n",
            "                                                                 \n",
            " conv2d_2 (Conv2D)           (None, 7, 7, 160)         92320     \n",
            "                                                                 \n",
            " conv2d_3 (Conv2D)           (None, 7, 7, 192)         276672    \n",
            "                                                                 \n",
            " conv2d_4 (Conv2D)           (None, 7, 7, 160)         276640    \n",
            "                                                                 \n",
            " flatten (Flatten)           (None, 7840)              0         \n",
            "                                                                 \n",
            " dense (Dense)               (None, 10)                78410     \n",
            "                                                                 \n",
            "=================================================================\n",
            "Total params: 874122 (3.33 MB)\n",
            "Trainable params: 874122 (3.33 MB)\n",
            "Non-trainable params: 0 (0.00 Byte)\n",
            "_________________________________________________________________\n"
          ]
        }
      ]
    },
    {
      "cell_type": "code",
      "source": [
        "Build a image classifier with PyTorch"
      ],
      "metadata": {
        "id": "3vSbAabNVYc0"
      },
      "execution_count": null,
      "outputs": []
    },
    {
      "cell_type": "code",
      "source": [
        "import torch\n",
        "import torchvision\n",
        "import torchvision.transforms as transforms"
      ],
      "metadata": {
        "id": "qAqhkmSJId4V"
      },
      "execution_count": 12,
      "outputs": []
    },
    {
      "cell_type": "code",
      "source": [
        "transform = transforms.Compose([\n",
        "    transforms.ToTensor(),\n",
        "    transforms.Normalize((0.5, 0.5, 0.5), (0.5, 0.5, 0.5))\n",
        "])\n",
        "\n",
        "batch_size = 4\n",
        "trainset = torchvision.datasets.SVHN(root='./data', split='train',\n",
        "                                     download=True, transform=transform)\n",
        "trainloader = torch.utils.data.DataLoader(trainset, batch_size=batch_size,\n",
        "                                          shuffle=True, num_workers=2)\n",
        "\n",
        "testset = torchvision.datasets.SVHN(root='./data', split='test',\n",
        "                                    download=True, transform=transform)\n",
        "testloader = torch.utils.data.DataLoader(testset, batch_size=batch_size,\n",
        "                                         shuffle=False, num_workers=2)\n",
        "\n",
        "classes = tuple(str(i) for i in range(10))\n"
      ],
      "metadata": {
        "id": "fX4aN5OrId7a",
        "colab": {
          "base_uri": "https://localhost:8080/"
        },
        "outputId": "5dd94c6f-232d-40e9-9442-0c4cc421788a"
      },
      "execution_count": 13,
      "outputs": [
        {
          "output_type": "stream",
          "name": "stdout",
          "text": [
            "Downloading http://ufldl.stanford.edu/housenumbers/train_32x32.mat to ./data/train_32x32.mat\n"
          ]
        },
        {
          "output_type": "stream",
          "name": "stderr",
          "text": [
            "100%|██████████| 182040794/182040794 [00:26<00:00, 6931398.73it/s] \n"
          ]
        },
        {
          "output_type": "stream",
          "name": "stdout",
          "text": [
            "Downloading http://ufldl.stanford.edu/housenumbers/test_32x32.mat to ./data/test_32x32.mat\n"
          ]
        },
        {
          "output_type": "stream",
          "name": "stderr",
          "text": [
            "100%|██████████| 64275384/64275384 [00:15<00:00, 4063573.35it/s]\n"
          ]
        }
      ]
    },
    {
      "cell_type": "code",
      "source": [
        "import matplotlib.pyplot as plt\n",
        "import numpy as np\n",
        "\n",
        "def imshow(img):\n",
        "    img = img / 2 + 0.5\n",
        "    npimg = img.numpy()\n",
        "    plt.imshow(np.transpose(npimg, (1, 2, 0)))\n",
        "    plt.show()\n",
        "\n",
        "dataiter = iter(trainloader)\n",
        "images, labels = next(dataiter)\n",
        "\n",
        "imshow(torchvision.utils.make_grid(images))\n",
        "\n",
        "print(' '.join(f'{classes[labels[j]]:5s}' for j in range(batch_size)))\n"
      ],
      "metadata": {
        "id": "SJR1B328Id-h",
        "colab": {
          "base_uri": "https://localhost:8080/",
          "height": 210
        },
        "outputId": "7fc4b156-c46d-40aa-bd04-d435c0214d6b"
      },
      "execution_count": 14,
      "outputs": [
        {
          "output_type": "display_data",
          "data": {
            "text/plain": [
              "<Figure size 640x480 with 1 Axes>"
            ],
            "image/png": "[encoded data removed]"
          },
          "metadata": {}
        },
        {
          "output_type": "stream",
          "name": "stdout",
          "text": [
            "2     5     7     5    \n"
          ]
        }
      ]
    },
    {
      "cell_type": "code",
      "source": [
        "import torch.nn as nn\n",
        "import torch.nn.functional as F\n",
        "\n",
        "class Net(nn.Module):\n",
        "    def __init__(self):\n",
        "        super().__init__()\n",
        "        self.conv1 = nn.Conv2d(3, 6, 5)\n",
        "        self.pool = nn.MaxPool2d(2, 2)\n",
        "        self.conv2 = nn.Conv2d(6, 16, 5)\n",
        "        self.fc1 = nn.Linear(16 * 5 * 5, 120)\n",
        "        self.fc2 = nn.Linear(120, 84)\n",
        "        self.fc3 = nn.Linear(84, 10)\n",
        "\n",
        "    def forward(self, x):\n",
        "        x = self.pool(F.relu(self.conv1(x)))\n",
        "        x = self.pool(F.relu(self.conv2(x)))\n",
        "        x = torch.flatten(x, 1)\n",
        "        x = F.relu(self.fc1(x))\n",
        "        x = F.relu(self.fc2(x))\n",
        "        x = self.fc3(x)\n",
        "        return x\n",
        "\n",
        "net = Net()"
      ],
      "metadata": {
        "id": "vbbziDJPIeBP"
      },
      "execution_count": 15,
      "outputs": []
    },
    {
      "cell_type": "code",
      "source": [
        "import torch.optim as optim\n",
        "criterion = nn.CrossEntropyLoss()\n",
        "optimizer = optim.SGD(net.parameters(), lr=0.001, momentum=0.9)"
      ],
      "metadata": {
        "id": "IcSvZ96bIeEi"
      },
      "execution_count": 16,
      "outputs": []
    },
    {
      "cell_type": "code",
      "source": [
        "for epoch in range(2):\n",
        "    running_loss = 0.0\n",
        "    for i, data in enumerate(trainloader, 0):\n",
        "\n",
        "        inputs, labels = data\n",
        "\n",
        "        optimizer.zero_grad()\n",
        "\n",
        "        outputs = net(inputs)\n",
        "        loss = criterion(outputs, labels)\n",
        "        loss.backward()\n",
        "        optimizer.step()\n",
        "\n",
        "        running_loss += loss.item()\n",
        "        if i % 2000 == 1999:\n",
        "            print(f'[{epoch + 1}, {i + 1:5d}] loss: {running_loss / 2000:.3f}')\n",
        "            running_loss = 0.0\n",
        "\n",
        "print('Finished Training')"
      ],
      "metadata": {
        "id": "OOKojJ00IeHs",
        "colab": {
          "base_uri": "https://localhost:8080/"
        },
        "outputId": "845e0a27-f629-4c36-f0a0-ef831a180213"
      },
      "execution_count": 17,
      "outputs": [
        {
          "output_type": "stream",
          "name": "stdout",
          "text": [
            "[1,  2000] loss: 2.245\n",
            "[1,  4000] loss: 2.237\n",
            "[1,  6000] loss: 2.227\n",
            "[1,  8000] loss: 2.178\n",
            "[1, 10000] loss: 1.335\n",
            "[1, 12000] loss: 0.845\n",
            "[1, 14000] loss: 0.703\n",
            "[1, 16000] loss: 0.665\n",
            "[1, 18000] loss: 0.604\n",
            "[2,  2000] loss: 0.518\n",
            "[2,  4000] loss: 0.530\n",
            "[2,  6000] loss: 0.516\n",
            "[2,  8000] loss: 0.501\n",
            "[2, 10000] loss: 0.476\n",
            "[2, 12000] loss: 0.469\n",
            "[2, 14000] loss: 0.467\n",
            "[2, 16000] loss: 0.442\n",
            "[2, 18000] loss: 0.467\n",
            "Finished Training\n"
          ]
        }
      ]
    },
    {
      "cell_type": "code",
      "source": [
        "PATH = './svhn_net.pth'\n",
        "torch.save(net.state_dict(), PATH)"
      ],
      "metadata": {
        "id": "xDecOgcsIdWh"
      },
      "execution_count": 19,
      "outputs": []
    },
    {
      "cell_type": "code",
      "source": [
        "dataiter = iter(testloader)\n",
        "images, labels = next(dataiter)\n",
        "# print images\n",
        "imshow(torchvision.utils.make_grid(images))\n",
        "print('GroundTruth: ', ' '.join(f'{classes[labels[j]]:5s}' for j in range(len(labels))))"
      ],
      "metadata": {
        "id": "era0Rt5EIdZh",
        "colab": {
          "base_uri": "https://localhost:8080/",
          "height": 210
        },
        "outputId": "da387776-8245-4bee-cbe6-766bfdafdcd7"
      },
      "execution_count": 20,
      "outputs": [
        {
          "output_type": "display_data",
          "data": {
            "text/plain": [
              "<Figure size 640x480 with 1 Axes>"
            ],
            "image/png": "[encoded data removed]"
          },
          "metadata": {}
        },
        {
          "output_type": "stream",
          "name": "stdout",
          "text": [
            "GroundTruth:  5     2     1     0    \n"
          ]
        }
      ]
    },
    {
      "cell_type": "code",
      "source": [
        "net = Net()\n",
        "net.load_state_dict(torch.load(PATH))"
      ],
      "metadata": {
        "id": "2HfgDcgjIJJ4",
        "colab": {
          "base_uri": "https://localhost:8080/"
        },
        "outputId": "aee23d26-232e-4c99-a1d3-ffd236f7198e"
      },
      "execution_count": 21,
      "outputs": [
        {
          "output_type": "execute_result",
          "data": {
            "text/plain": [
              "<All keys matched successfully>"
            ]
          },
          "metadata": {},
          "execution_count": 21
        }
      ]
    },
    {
      "cell_type": "code",
      "source": [
        "outputs = net(images)"
      ],
      "metadata": {
        "id": "ZTuLIxYuS-_R"
      },
      "execution_count": 22,
      "outputs": []
    },
    {
      "cell_type": "code",
      "source": [
        "_, predicted = torch.max(outputs, 1)\n",
        "print('Predicted: ', ' '.join(f'{classes[predicted[j]]:5s}'\n",
        " for j in range(3)))"
      ],
      "metadata": {
        "colab": {
          "base_uri": "https://localhost:8080/"
        },
        "id": "nMpAPuFzS_CT",
        "outputId": "9907f852-3bf5-4109-8c23-c50be9f7a888"
      },
      "execution_count": 23,
      "outputs": [
        {
          "output_type": "stream",
          "name": "stdout",
          "text": [
            "Predicted:  5     2     1    \n"
          ]
        }
      ]
    },
    {
      "cell_type": "code",
      "source": [
        "correct = 0\n",
        "total = 0\n",
        "\n",
        "with torch.no_grad():\n",
        "    for data in testloader:\n",
        "        images, labels = data\n",
        "\n",
        "        outputs = net(images)\n",
        "\n",
        "        _, predicted = torch.max(outputs.data, 1)\n",
        "        total += labels.size(0)\n",
        "        correct += (predicted == labels).sum().item()\n",
        "\n",
        "print(f'Accuracy of the network on the 10000 test images: {100 * correct / total}%')\n"
      ],
      "metadata": {
        "colab": {
          "base_uri": "https://localhost:8080/"
        },
        "id": "p_6Zsi8DS_Fw",
        "outputId": "aa3e61b2-9b14-45cc-f359-44e433baca2d"
      },
      "execution_count": 24,
      "outputs": [
        {
          "output_type": "stream",
          "name": "stdout",
          "text": [
            "Accuracy of the network on the 10000 test images: 85.4640442532268%\n"
          ]
        }
      ]
    },
    {
      "cell_type": "code",
      "source": [
        "correct_pred = {classname: 0 for classname in classes}\n",
        "total_pred = {classname: 0 for classname in classes}\n",
        "\n",
        "with torch.no_grad():\n",
        "    for data in testloader:\n",
        "        images, labels = data\n",
        "        outputs = net(images)\n",
        "        _, predictions = torch.max(outputs, 1)\n",
        "\n",
        "        for label, prediction in zip(labels, predictions):\n",
        "            if label == prediction:\n",
        "                correct_pred[classes[label]] += 1\n",
        "            total_pred[classes[label]] += 1\n",
        "\n",
        "for classname, correct_count in correct_pred.items():\n",
        "    accuracy = 100 * float(correct_count) / total_pred[classname]\n",
        "    print(f'Accuracy for class: {classname:5s} is {accuracy:.1f}%')\n"
      ],
      "metadata": {
        "colab": {
          "base_uri": "https://localhost:8080/"
        },
        "id": "Xjrtwx6TTNMQ",
        "outputId": "ae260a91-3b37-402c-b8b8-b94b71589ce7"
      },
      "execution_count": 25,
      "outputs": [
        {
          "output_type": "stream",
          "name": "stdout",
          "text": [
            "Accuracy for class: 0     is 82.3%\n",
            "Accuracy for class: 1     is 90.7%\n",
            "Accuracy for class: 2     is 91.2%\n",
            "Accuracy for class: 3     is 81.4%\n",
            "Accuracy for class: 4     is 89.5%\n",
            "Accuracy for class: 5     is 83.1%\n",
            "Accuracy for class: 6     is 78.5%\n",
            "Accuracy for class: 7     is 87.7%\n",
            "Accuracy for class: 8     is 69.6%\n",
            "Accuracy for class: 9     is 84.2%\n"
          ]
        }
      ]
    }
  ]
}