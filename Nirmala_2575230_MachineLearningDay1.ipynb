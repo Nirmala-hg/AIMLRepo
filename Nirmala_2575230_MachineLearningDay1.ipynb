{
 "cells": [
  {
   "cell_type": "markdown",
   "metadata": {},
   "source": [
    "# Predicting House Prices"
   ]
  },
  {
   "cell_type": "code",
   "execution_count": null,
   "metadata": {},
   "outputs": [],
   "source": [
    "You are working for a real estate company, and your goal is to build a predictive model to estimate house prices based on \n",
    "various features. \n",
    "You have a dataset containing information about houses, such as square footage, number of bedrooms, number of bathrooms, \n",
    "and other relevant attributes. \n",
    "\n",
    "You are tasked with the following:\n",
    "\n",
    "Dataset: You can choose/download the dataset from Kaggle/ UCI Repository or any other medium."
   ]
  },
  {
   "cell_type": "markdown",
   "metadata": {},
   "source": [
    "# 1. Data Preparation:\n",
    "\n",
    "a. Load the dataset using pandas.\n",
    "\n",
    "b. Explore and clean the data. Handle missing values and outliers\n",
    "\n",
    "c. Split the dataset into training and testing sets."
   ]
  },
  {
   "cell_type": "code",
   "execution_count": 1,
   "metadata": {},
   "outputs": [],
   "source": [
    "import pandas as pd\n",
    "df = pd.read_csv('Housing.csv')"
   ]
  },
  {
   "cell_type": "code",
   "execution_count": 2,
   "metadata": {},
   "outputs": [
    {
     "data": {
      "text/html": [
       "<div>\n",
       "<style scoped>\n",
       "    .dataframe tbody tr th:only-of-type {\n",
       "        vertical-align: middle;\n",
       "    }\n",
       "\n",
       "    .dataframe tbody tr th {\n",
       "        vertical-align: top;\n",
       "    }\n",
       "\n",
       "    .dataframe thead th {\n",
       "        text-align: right;\n",
       "    }\n",
       "</style>\n",
       "<table border=\"1\" class=\"dataframe\">\n",
       "  <thead>\n",
       "    <tr style=\"text-align: right;\">\n",
       "      <th></th>\n",
       "      <th>price</th>\n",
       "      <th>area</th>\n",
       "      <th>bedrooms</th>\n",
       "      <th>bathrooms</th>\n",
       "      <th>stories</th>\n",
       "      <th>mainroad</th>\n",
       "      <th>guestroom</th>\n",
       "      <th>basement</th>\n",
       "      <th>hotwaterheating</th>\n",
       "      <th>airconditioning</th>\n",
       "      <th>parking</th>\n",
       "      <th>prefarea</th>\n",
       "      <th>furnishingstatus</th>\n",
       "    </tr>\n",
       "  </thead>\n",
       "  <tbody>\n",
       "    <tr>\n",
       "      <th>0</th>\n",
       "      <td>13300000</td>\n",
       "      <td>7420</td>\n",
       "      <td>4</td>\n",
       "      <td>2</td>\n",
       "      <td>3</td>\n",
       "      <td>yes</td>\n",
       "      <td>no</td>\n",
       "      <td>no</td>\n",
       "      <td>no</td>\n",
       "      <td>yes</td>\n",
       "      <td>2</td>\n",
       "      <td>yes</td>\n",
       "      <td>furnished</td>\n",
       "    </tr>\n",
       "    <tr>\n",
       "      <th>1</th>\n",
       "      <td>12250000</td>\n",
       "      <td>8960</td>\n",
       "      <td>4</td>\n",
       "      <td>4</td>\n",
       "      <td>4</td>\n",
       "      <td>yes</td>\n",
       "      <td>no</td>\n",
       "      <td>no</td>\n",
       "      <td>no</td>\n",
       "      <td>yes</td>\n",
       "      <td>3</td>\n",
       "      <td>no</td>\n",
       "      <td>furnished</td>\n",
       "    </tr>\n",
       "    <tr>\n",
       "      <th>2</th>\n",
       "      <td>12250000</td>\n",
       "      <td>9960</td>\n",
       "      <td>3</td>\n",
       "      <td>2</td>\n",
       "      <td>2</td>\n",
       "      <td>yes</td>\n",
       "      <td>no</td>\n",
       "      <td>yes</td>\n",
       "      <td>no</td>\n",
       "      <td>no</td>\n",
       "      <td>2</td>\n",
       "      <td>yes</td>\n",
       "      <td>semi-furnished</td>\n",
       "    </tr>\n",
       "    <tr>\n",
       "      <th>3</th>\n",
       "      <td>12215000</td>\n",
       "      <td>7500</td>\n",
       "      <td>4</td>\n",
       "      <td>2</td>\n",
       "      <td>2</td>\n",
       "      <td>yes</td>\n",
       "      <td>no</td>\n",
       "      <td>yes</td>\n",
       "      <td>no</td>\n",
       "      <td>yes</td>\n",
       "      <td>3</td>\n",
       "      <td>yes</td>\n",
       "      <td>furnished</td>\n",
       "    </tr>\n",
       "    <tr>\n",
       "      <th>4</th>\n",
       "      <td>11410000</td>\n",
       "      <td>7420</td>\n",
       "      <td>4</td>\n",
       "      <td>1</td>\n",
       "      <td>2</td>\n",
       "      <td>yes</td>\n",
       "      <td>yes</td>\n",
       "      <td>yes</td>\n",
       "      <td>no</td>\n",
       "      <td>yes</td>\n",
       "      <td>2</td>\n",
       "      <td>no</td>\n",
       "      <td>furnished</td>\n",
       "    </tr>\n",
       "  </tbody>\n",
       "</table>\n",
       "</div>"
      ],
      "text/plain": [
       "      price  area  bedrooms  bathrooms  stories mainroad guestroom basement  \\\n",
       "0  13300000  7420         4          2        3      yes        no       no   \n",
       "1  12250000  8960         4          4        4      yes        no       no   \n",
       "2  12250000  9960         3          2        2      yes        no      yes   \n",
       "3  12215000  7500         4          2        2      yes        no      yes   \n",
       "4  11410000  7420         4          1        2      yes       yes      yes   \n",
       "\n",
       "  hotwaterheating airconditioning  parking prefarea furnishingstatus  \n",
       "0              no             yes        2      yes        furnished  \n",
       "1              no             yes        3       no        furnished  \n",
       "2              no              no        2      yes   semi-furnished  \n",
       "3              no             yes        3      yes        furnished  \n",
       "4              no             yes        2       no        furnished  "
      ]
     },
     "execution_count": 2,
     "metadata": {},
     "output_type": "execute_result"
    }
   ],
   "source": [
    "df.head()"
   ]
  },
  {
   "cell_type": "code",
   "execution_count": 3,
   "metadata": {},
   "outputs": [
    {
     "data": {
      "text/html": [
       "<div>\n",
       "<style scoped>\n",
       "    .dataframe tbody tr th:only-of-type {\n",
       "        vertical-align: middle;\n",
       "    }\n",
       "\n",
       "    .dataframe tbody tr th {\n",
       "        vertical-align: top;\n",
       "    }\n",
       "\n",
       "    .dataframe thead th {\n",
       "        text-align: right;\n",
       "    }\n",
       "</style>\n",
       "<table border=\"1\" class=\"dataframe\">\n",
       "  <thead>\n",
       "    <tr style=\"text-align: right;\">\n",
       "      <th></th>\n",
       "      <th>price</th>\n",
       "      <th>area</th>\n",
       "      <th>bedrooms</th>\n",
       "      <th>bathrooms</th>\n",
       "      <th>stories</th>\n",
       "      <th>parking</th>\n",
       "    </tr>\n",
       "  </thead>\n",
       "  <tbody>\n",
       "    <tr>\n",
       "      <th>count</th>\n",
       "      <td>5.450000e+02</td>\n",
       "      <td>545.000000</td>\n",
       "      <td>545.000000</td>\n",
       "      <td>545.000000</td>\n",
       "      <td>545.000000</td>\n",
       "      <td>545.000000</td>\n",
       "    </tr>\n",
       "    <tr>\n",
       "      <th>mean</th>\n",
       "      <td>4.766729e+06</td>\n",
       "      <td>5150.541284</td>\n",
       "      <td>2.965138</td>\n",
       "      <td>1.286239</td>\n",
       "      <td>1.805505</td>\n",
       "      <td>0.693578</td>\n",
       "    </tr>\n",
       "    <tr>\n",
       "      <th>std</th>\n",
       "      <td>1.870440e+06</td>\n",
       "      <td>2170.141023</td>\n",
       "      <td>0.738064</td>\n",
       "      <td>0.502470</td>\n",
       "      <td>0.867492</td>\n",
       "      <td>0.861586</td>\n",
       "    </tr>\n",
       "    <tr>\n",
       "      <th>min</th>\n",
       "      <td>1.750000e+06</td>\n",
       "      <td>1650.000000</td>\n",
       "      <td>1.000000</td>\n",
       "      <td>1.000000</td>\n",
       "      <td>1.000000</td>\n",
       "      <td>0.000000</td>\n",
       "    </tr>\n",
       "    <tr>\n",
       "      <th>25%</th>\n",
       "      <td>3.430000e+06</td>\n",
       "      <td>3600.000000</td>\n",
       "      <td>2.000000</td>\n",
       "      <td>1.000000</td>\n",
       "      <td>1.000000</td>\n",
       "      <td>0.000000</td>\n",
       "    </tr>\n",
       "    <tr>\n",
       "      <th>50%</th>\n",
       "      <td>4.340000e+06</td>\n",
       "      <td>4600.000000</td>\n",
       "      <td>3.000000</td>\n",
       "      <td>1.000000</td>\n",
       "      <td>2.000000</td>\n",
       "      <td>0.000000</td>\n",
       "    </tr>\n",
       "    <tr>\n",
       "      <th>75%</th>\n",
       "      <td>5.740000e+06</td>\n",
       "      <td>6360.000000</td>\n",
       "      <td>3.000000</td>\n",
       "      <td>2.000000</td>\n",
       "      <td>2.000000</td>\n",
       "      <td>1.000000</td>\n",
       "    </tr>\n",
       "    <tr>\n",
       "      <th>max</th>\n",
       "      <td>1.330000e+07</td>\n",
       "      <td>16200.000000</td>\n",
       "      <td>6.000000</td>\n",
       "      <td>4.000000</td>\n",
       "      <td>4.000000</td>\n",
       "      <td>3.000000</td>\n",
       "    </tr>\n",
       "  </tbody>\n",
       "</table>\n",
       "</div>"
      ],
      "text/plain": [
       "              price          area    bedrooms   bathrooms     stories  \\\n",
       "count  5.450000e+02    545.000000  545.000000  545.000000  545.000000   \n",
       "mean   4.766729e+06   5150.541284    2.965138    1.286239    1.805505   \n",
       "std    1.870440e+06   2170.141023    0.738064    0.502470    0.867492   \n",
       "min    1.750000e+06   1650.000000    1.000000    1.000000    1.000000   \n",
       "25%    3.430000e+06   3600.000000    2.000000    1.000000    1.000000   \n",
       "50%    4.340000e+06   4600.000000    3.000000    1.000000    2.000000   \n",
       "75%    5.740000e+06   6360.000000    3.000000    2.000000    2.000000   \n",
       "max    1.330000e+07  16200.000000    6.000000    4.000000    4.000000   \n",
       "\n",
       "          parking  \n",
       "count  545.000000  \n",
       "mean     0.693578  \n",
       "std      0.861586  \n",
       "min      0.000000  \n",
       "25%      0.000000  \n",
       "50%      0.000000  \n",
       "75%      1.000000  \n",
       "max      3.000000  "
      ]
     },
     "execution_count": 3,
     "metadata": {},
     "output_type": "execute_result"
    }
   ],
   "source": [
    "df.describe()"
   ]
  },
  {
   "cell_type": "code",
   "execution_count": 4,
   "metadata": {},
   "outputs": [],
   "source": [
    "import pandas as pd\n",
    "data = pd.read_csv('Housing.csv')"
   ]
  },
  {
   "cell_type": "code",
   "execution_count": 5,
   "metadata": {},
   "outputs": [],
   "source": [
    "from sklearn.model_selection import train_test_split\n",
    "X = data['price'] \n",
    "y = data['price']\n",
    "X_train, X_test, y_train, y_test = train_test_split(X, y, test_size=0.2, random_state=17)"
   ]
  },
  {
   "cell_type": "code",
   "execution_count": 6,
   "metadata": {},
   "outputs": [
    {
     "data": {
      "text/plain": [
       "(545, 13)"
      ]
     },
     "execution_count": 6,
     "metadata": {},
     "output_type": "execute_result"
    }
   ],
   "source": [
    "data.shape"
   ]
  },
  {
   "cell_type": "markdown",
   "metadata": {},
   "source": [
    "# 2. Implement Simple Linear Regression:\n",
    "\n",
    "a. Choose a feature (e.g., square footage) as the independent variable (X) and house prices as the dependent variable (y).\n",
    "\n",
    "b. Implement a simple linear regression model using sklearn to predict house prices based on the selected feature.\n",
    "\n",
    "c. Visualize the data and the regression line."
   ]
  },
  {
   "cell_type": "code",
   "execution_count": 7,
   "metadata": {},
   "outputs": [
    {
     "data": {
      "image/png": "[encoded data removed]",
      "text/plain": [
       "<Figure size 432x288 with 1 Axes>"
      ]
     },
     "metadata": {
      "needs_background": "light"
     },
     "output_type": "display_data"
    }
   ],
   "source": [
    "# Import necessary libraries\n",
    "import numpy as np\n",
    "import matplotlib.pyplot as plt\n",
    "from sklearn.linear_model import LinearRegression\n",
    "from sklearn.model_selection import train_test_split\n",
    "import pandas as pd\n",
    "\n",
    "# Load the dataset from Housing.csv\n",
    "data = pd.read_csv('Housing.csv')\n",
    "\n",
    "# Extract the independent variable (X) and dependent variable (y)\n",
    "X = data['area'].values.reshape(-1, 1)\n",
    "y = data['price'].values\n",
    "\n",
    "# Split the data into training and testing sets\n",
    "X_train, X_test, y_train, y_test = train_test_split(X, y, test_size=0.2, random_state=0)\n",
    "\n",
    "# Create and train the linear regression model\n",
    "model = LinearRegression()\n",
    "model.fit(X_train, y_train)\n",
    "\n",
    "# Make predictions using the test set\n",
    "y_pred = model.predict(X_test)\n",
    "\n",
    "# Visualize the data and regression line\n",
    "plt.scatter(X, y, label='Data Points')\n",
    "plt.plot(X_test, y_pred, color='red', linewidth=2, label='Regression Line')\n",
    "plt.xlabel('area')\n",
    "plt.ylabel('prices')\n",
    "plt.legend()\n",
    "plt.title('Simple Linear Regression')\n",
    "plt.show()"
   ]
  },
  {
   "cell_type": "markdown",
   "metadata": {},
   "source": [
    "# 3. Evaluate the Simple Linear Regression Model:\n",
    "\n",
    "a. Use scikit-learn to calculate the R-squared value to assess the goodness of fit.\n",
    "\n",
    "b. Interpret the R-squared value and discuss the model's performance."
   ]
  },
  {
   "cell_type": "code",
   "execution_count": 8,
   "metadata": {},
   "outputs": [],
   "source": [
    "import pandas as pd\n",
    "data = pd.read_csv('Housing.csv')"
   ]
  },
  {
   "cell_type": "code",
   "execution_count": 9,
   "metadata": {},
   "outputs": [
    {
     "name": "stdout",
     "output_type": "stream",
     "text": [
      "R-squared value: 0.3067\n"
     ]
    }
   ],
   "source": [
    "from sklearn.metrics import r2_score\n",
    "\n",
    "# Assuming you have y_test and y_pred for the updated dataset\n",
    "r2 = r2_score(y_test, y_pred)\n",
    "print(f'R-squared value: {r2:.4f}')"
   ]
  },
  {
   "cell_type": "markdown",
   "metadata": {},
   "source": [
    "# 4. Implement Multiple Linear Regression:\n",
    "\n",
    "a. Select multiple features (e.g., square footage, number of bedrooms, number of bathrooms) as independent variables (X) and house prices as the dependent variable (y).\n",
    "\n",
    "b. Implement a multiple linear regression model using scikit-learn to predict house prices based on the selected features."
   ]
  },
  {
   "cell_type": "code",
   "execution_count": 10,
   "metadata": {},
   "outputs": [
    {
     "name": "stdout",
     "output_type": "stream",
     "text": [
      "Mean Squared Error (MSE): 1997672371756.09\n",
      "R-squared value: 0.3067\n"
     ]
    }
   ],
   "source": [
    "import numpy as np\n",
    "import pandas as pd\n",
    "from sklearn.model_selection import train_test_split\n",
    "from sklearn.linear_model import LinearRegression\n",
    "from sklearn.metrics import mean_squared_error, r2_score\n",
    "\n",
    "data = pd.read_csv('Housing.csv')\n",
    "\n",
    "X = data[['area']].values\n",
    "y = data['price'].values\n",
    "\n",
    "# Split the data into training and testing sets\n",
    "X_train, X_test, y_train, y_test = train_test_split(X, y, test_size=0.2, random_state=0)\n",
    "\n",
    "# Create and train the multiple linear regression model\n",
    "model = LinearRegression()\n",
    "model.fit(X_train, y_train)\n",
    "\n",
    "# Make predictions using the test set\n",
    "y_pred = model.predict(X_test)\n",
    "\n",
    "# Evaluate the model (optional)\n",
    "mse = mean_squared_error(y_test, y_pred)\n",
    "r_squared = r2_score(y_test, y_pred)\n",
    "\n",
    "# Print the evaluation metrics (MSE and R-squared)\n",
    "print(f'Mean Squared Error (MSE): {mse:.2f}')\n",
    "print(f'R-squared value: {r_squared:.4f}')"
   ]
  },
  {
   "cell_type": "markdown",
   "metadata": {},
   "source": [
    "# 5. Evaluate the Multiple Linear Regression Model:\n",
    "\n",
    "a. Calculate the Mean Absolute Error (MAE), Mean Squared Error (MSE), and Root Mean Squared Error (RMSE) to assess the model's accuracy.\n",
    "\n",
    "b. Discuss the advantages of using multiple features in regression analysis."
   ]
  },
  {
   "cell_type": "code",
   "execution_count": 11,
   "metadata": {},
   "outputs": [
    {
     "name": "stdout",
     "output_type": "stream",
     "text": [
      "Mean Absolute Error (MAE): 1026553.77\n",
      "Mean Squared Error (MSE): 1997672371756.09\n",
      "Root Mean Squared Error (RMSE): 1413390.38\n"
     ]
    }
   ],
   "source": [
    "from sklearn.metrics import mean_absolute_error, mean_squared_error\n",
    "import numpy as np\n",
    "\n",
    "# Calculate MAE\n",
    "mae = mean_absolute_error(y_test, y_pred)\n",
    "\n",
    "# Calculate MSE\n",
    "mse = mean_squared_error(y_test, y_pred)\n",
    "\n",
    "# Calculate RMSE (by taking the square root of MSE)\n",
    "rmse = np.sqrt(mse)\n",
    "\n",
    "# Print the evaluation metrics\n",
    "print(f'Mean Absolute Error (MAE): {mae:.2f}')\n",
    "print(f'Mean Squared Error (MSE): {mse:.2f}')\n",
    "print(f'Root Mean Squared Error (RMSE): {rmse:.2f}')"
   ]
  },
  {
   "cell_type": "markdown",
   "metadata": {},
   "source": [
    "# 6. Model Comparison:\n",
    "\n",
    "a. Compare the results of the simple linear regression and multiple linear regression models.\n",
    "\n",
    "b. Discuss the advantages and limitations of each model. "
   ]
  },
  {
   "cell_type": "code",
   "execution_count": 12,
   "metadata": {},
   "outputs": [
    {
     "name": "stdout",
     "output_type": "stream",
     "text": [
      "Simple Linear Regression (SLR) Results:\n",
      "R-squared value (SLR): 0.3067\n",
      "Mean Absolute Error (MAE) (SLR): 1026553.77\n",
      "Mean Squared Error (MSE) (SLR): 1997672371756.09\n",
      "Root Mean Squared Error (RMSE) (SLR): 1413390.38\n",
      "\n",
      "Multiple Linear Regression (MLR) Results:\n",
      "R-squared value (MLR): 0.4774\n",
      "Mean Absolute Error (MAE) (MLR): 898431.90\n",
      "Mean Squared Error (MSE) (MLR): 1505858701048.00\n",
      "Root Mean Squared Error (RMSE) (MLR): 1227134.35\n",
      "\n",
      "Advantages and Limitations:\n",
      "Advantages of SLR:\n",
      "- Simplicity and ease of interpretation.\n",
      "- Suitable for clear linear relationships.\n",
      "- Less complex and computationally efficient.\n",
      "\n",
      "Limitations of SLR:\n",
      "- Limited to capturing single-variable relationships.\n",
      "- May not perform well in cases with complex, multi-variable dependencies.\n",
      "\n",
      "Advantages of MLR:\n",
      "- Increased accuracy through the consideration of multiple features.\n",
      "- Ability to capture complex, multi-variable relationships.\n",
      "- Flexibility in modeling real-world scenarios.\n",
      "\n",
      "Limitations of MLR:\n",
      "- Risk of overfitting if irrelevant features are included.\n",
      "- Increased model complexity and reduced interpretability.\n"
     ]
    }
   ],
   "source": [
    "import numpy as np\n",
    "import pandas as pd\n",
    "from sklearn.model_selection import train_test_split\n",
    "from sklearn.linear_model import LinearRegression\n",
    "from sklearn.metrics import mean_absolute_error, mean_squared_error, r2_score\n",
    "\n",
    "# Load your dataset from a CSV file (replace 'Housing.csv' with your dataset file)\n",
    "data = pd.read_csv('Housing.csv')\n",
    "\n",
    "# Simple Linear Regression (SLR) using 'area'\n",
    "X_slr = data[['area']].values\n",
    "y_slr = data['price'].values\n",
    "\n",
    "# Split the data into training and testing sets for SLR\n",
    "X_slr_train, X_slr_test, y_slr_train, y_slr_test = train_test_split(X_slr, y_slr, test_size=0.2, random_state=0)\n",
    "\n",
    "# Multiple Linear Regression (MLR) using 'area', 'bedrooms', and 'bathrooms'\n",
    "X_mlr = data[['area', 'bedrooms', 'bathrooms']].values\n",
    "y_mlr = data['price'].values\n",
    "\n",
    "# Split the data into training and testing sets for MLR\n",
    "X_mlr_train, X_mlr_test, y_mlr_train, y_mlr_test = train_test_split(X_mlr, y_mlr, test_size=0.2, random_state=0)\n",
    "\n",
    "# Create and train the SLR model\n",
    "slr_model = LinearRegression()\n",
    "slr_model.fit(X_slr_train, y_slr_train)\n",
    "y_slr_pred = slr_model.predict(X_slr_test)\n",
    "\n",
    "# Create and train the MLR model\n",
    "mlr_model = LinearRegression()\n",
    "mlr_model.fit(X_mlr_train, y_mlr_train)\n",
    "y_mlr_pred = mlr_model.predict(X_mlr_test)\n",
    "\n",
    "# Calculate evaluation metrics for SLR\n",
    "slr_r_squared = r2_score(y_slr_test, y_slr_pred)\n",
    "slr_mae = mean_absolute_error(y_slr_test, y_slr_pred)\n",
    "slr_mse = mean_squared_error(y_slr_test, y_slr_pred)\n",
    "slr_rmse = np.sqrt(slr_mse)\n",
    "\n",
    "# Calculate evaluation metrics for MLR\n",
    "mlr_r_squared = r2_score(y_mlr_test, y_mlr_pred)\n",
    "mlr_mae = mean_absolute_error(y_mlr_test, y_mlr_pred)\n",
    "mlr_mse = mean_squared_error(y_mlr_test, y_mlr_pred)\n",
    "mlr_rmse = np.sqrt(mlr_mse)\n",
    "\n",
    "# Print the evaluation metrics for both models\n",
    "print(\"Simple Linear Regression (SLR) Results:\")\n",
    "print(f'R-squared value (SLR): {slr_r_squared:.4f}')\n",
    "print(f'Mean Absolute Error (MAE) (SLR): {slr_mae:.2f}')\n",
    "print(f'Mean Squared Error (MSE) (SLR): {slr_mse:.2f}')\n",
    "print(f'Root Mean Squared Error (RMSE) (SLR): {slr_rmse:.2f}')\n",
    "print(\"\\nMultiple Linear Regression (MLR) Results:\")\n",
    "print(f'R-squared value (MLR): {mlr_r_squared:.4f}')\n",
    "print(f'Mean Absolute Error (MAE) (MLR): {mlr_mae:.2f}')\n",
    "print(f'Mean Squared Error (MSE) (MLR): {mlr_mse:.2f}')\n",
    "print(f'Root Mean Squared Error (RMSE) (MLR): {mlr_rmse:.2f}')\n",
    "\n",
    "# Discuss the advantages and limitations of each model\n",
    "print(\"\\nAdvantages and Limitations:\")\n",
    "print(\"Advantages of SLR:\")\n",
    "print(\"- Simplicity and ease of interpretation.\")\n",
    "print(\"- Suitable for clear linear relationships.\")\n",
    "print(\"- Less complex and computationally efficient.\")\n",
    "print(\"\\nLimitations of SLR:\")\n",
    "print(\"- Limited to capturing single-variable relationships.\")\n",
    "print(\"- May not perform well in cases with complex, multi-variable dependencies.\")\n",
    "\n",
    "print(\"\\nAdvantages of MLR:\")\n",
    "print(\"- Increased accuracy through the consideration of multiple features.\")\n",
    "print(\"- Ability to capture complex, multi-variable relationships.\")\n",
    "print(\"- Flexibility in modeling real-world scenarios.\")\n",
    "print(\"\\nLimitations of MLR:\")\n",
    "print(\"- Risk of overfitting if irrelevant features are included.\")\n",
    "print(\"- Increased model complexity and reduced interpretability.\")"
   ]
  },
  {
   "cell_type": "markdown",
   "metadata": {},
   "source": [
    "# 8. Conclusion:\n",
    "\n",
    "Summarize the findings and provide insights into how this predictive model can be used to assist the real estate company in estimating house prices."
   ]
  },
  {
   "cell_type": "code",
   "execution_count": 13,
   "metadata": {},
   "outputs": [
    {
     "name": "stdout",
     "output_type": "stream",
     "text": [
      "Summary of Findings:\n",
      "R-squared value: 0.3067\n",
      "Mean Absolute Error (MAE): 1026553.77\n",
      "Mean Squared Error (MSE): 1997672371756.09\n",
      "Root Mean Squared Error (RMSE): 1413390.38\n",
      "\n",
      "Insights:\n",
      "1. The predictive model has an R-squared value of 0.3067292122216637 indicating that it can explain a significant portion of the variance in house prices based on the selected features.\n",
      "2. The RMSE value of 1413390.381938439 suggests that, on average, the model's predictions are accurate within this range of house prices.\n",
      "3. The MAE value of 1026553.7662016952 indicates the average absolute difference between predicted and actual prices.\n",
      "4. This predictive model can be used by the real estate company to estimate house prices for properties using 'area,' 'bedrooms,' and 'bathrooms' as input features.\n",
      "5. It provides a valuable tool for pricing properties, assisting buyers and sellers in making informed decisions, and optimizing the company's real estate operations.\n"
     ]
    }
   ],
   "source": [
    "print(\"Summary of Findings:\")\n",
    "print(f'R-squared value: {r_squared:.4f}')\n",
    "print(f'Mean Absolute Error (MAE): {mae:.2f}')\n",
    "print(f'Mean Squared Error (MSE): {mse:.2f}')\n",
    "print(f'Root Mean Squared Error (RMSE): {rmse:.2f}')\n",
    "\n",
    "# Provide insights\n",
    "print(\"\\nInsights:\")\n",
    "print(\"1. The predictive model has an R-squared value of\", r_squared, \"indicating that it can explain a significant portion of the variance in house prices based on the selected features.\")\n",
    "print(\"2. The RMSE value of\", rmse, \"suggests that, on average, the model's predictions are accurate within this range of house prices.\")\n",
    "print(\"3. The MAE value of\", mae, \"indicates the average absolute difference between predicted and actual prices.\")\n",
    "print(\"4. This predictive model can be used by the real estate company to estimate house prices for properties using 'area,' 'bedrooms,' and 'bathrooms' as input features.\")\n",
    "print(\"5. It provides a valuable tool for pricing properties, assisting buyers and sellers in making informed decisions, and optimizing the company's real estate operations.\")"
   ]
  }
 ],
 "metadata": {
  "kernelspec": {
   "display_name": "Python 3",
   "language": "python",
   "name": "python3"
  },
  "language_info": {
   "codemirror_mode": {
    "name": "ipython",
    "version": 3
   },
   "file_extension": ".py",
   "mimetype": "text/x-python",
   "name": "python",
   "nbconvert_exporter": "python",
   "pygments_lexer": "ipython3",
   "version": "3.8.5"
  }
 },
 "nbformat": 4,
 "nbformat_minor": 4
}
