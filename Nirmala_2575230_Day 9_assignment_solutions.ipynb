{
 "cells": [
  {
   "cell_type": "markdown",
   "metadata": {},
   "source": [
    "# 1. Create a 3x3x3 array with random values."
   ]
  },
  {
   "cell_type": "code",
   "execution_count": 1,
   "metadata": {},
   "outputs": [
    {
     "name": "stdout",
     "output_type": "stream",
     "text": [
      "[[[0.9396838  0.4660209  0.2737508 ]\n",
      "  [0.53417871 0.87148865 0.87065091]\n",
      "  [0.87446435 0.3587777  0.90899988]]\n",
      "\n",
      " [[0.44054102 0.06640648 0.89922796]\n",
      "  [0.7112502  0.98884859 0.32114963]\n",
      "  [0.04872252 0.9202188  0.55374118]]\n",
      "\n",
      " [[0.08935243 0.62482715 0.10757629]\n",
      "  [0.5576349  0.082017   0.15679268]\n",
      "  [0.13626825 0.23886754 0.42519526]]]\n"
     ]
    }
   ],
   "source": [
    "import numpy as np\n",
    "\n",
    "# Create a 3x3x3 array with random values between 0 and 1\n",
    "random_array = np.random.rand(3, 3, 3)\n",
    "\n",
    "print(random_array)"
   ]
  },
  {
   "cell_type": "markdown",
   "metadata": {},
   "source": [
    "# 2. Create a 5x5 matrix with values 1,2,3,4 just below the diagonal"
   ]
  },
  {
   "cell_type": "code",
   "execution_count": 2,
   "metadata": {},
   "outputs": [
    {
     "name": "stdout",
     "output_type": "stream",
     "text": [
      "[[0. 0. 0. 0. 0.]\n",
      " [1. 0. 0. 0. 0.]\n",
      " [0. 2. 0. 0. 0.]\n",
      " [0. 0. 3. 0. 0.]\n",
      " [0. 0. 0. 4. 0.]]\n"
     ]
    }
   ],
   "source": [
    "import numpy as np\n",
    "\n",
    "# Create a 5x5 matrix filled with zeros\n",
    "matrix = np.zeros((5, 5))\n",
    "\n",
    "# Fill the values 1, 2, 3, 4 just below the diagonal\n",
    "np.fill_diagonal(matrix[1:], [1, 2, 3, 4])\n",
    "\n",
    "print(matrix)"
   ]
  },
  {
   "cell_type": "markdown",
   "metadata": {},
   "source": [
    "# 3. Create a 8x8 matrix and fill it with a checkerboard pattern"
   ]
  },
  {
   "cell_type": "code",
   "execution_count": 3,
   "metadata": {},
   "outputs": [
    {
     "name": "stdout",
     "output_type": "stream",
     "text": [
      "0 1 0 1 0 1 0 1\n",
      "1 0 1 0 1 0 1 0\n",
      "0 1 0 1 0 1 0 1\n",
      "1 0 1 0 1 0 1 0\n",
      "0 1 0 1 0 1 0 1\n",
      "1 0 1 0 1 0 1 0\n",
      "0 1 0 1 0 1 0 1\n",
      "1 0 1 0 1 0 1 0\n"
     ]
    }
   ],
   "source": [
    "import numpy as np\n",
    "\n",
    "# Create an 8x8 matrix filled with zeros\n",
    "matrix = np.zeros((8, 8), dtype=int)\n",
    "\n",
    "# Fill the matrix with the checkerboard pattern\n",
    "matrix[1::2, ::2] = 1  # Rows 2, 4, 6 (indexing starts from 0) and alternate columns\n",
    "matrix[::2, 1::2] = 1  # Rows 1, 3, 5 and alternate columns\n",
    "\n",
    "# Print the checkerboard pattern\n",
    "for row in matrix:\n",
    "    print(\" \".join(map(str, row)))"
   ]
  },
  {
   "cell_type": "markdown",
   "metadata": {},
   "source": [
    "# 4. Normalize a 5x5 random matrix"
   ]
  },
  {
   "cell_type": "code",
   "execution_count": 4,
   "metadata": {},
   "outputs": [
    {
     "name": "stdout",
     "output_type": "stream",
     "text": [
      "Original Matrix:\n",
      "[[0.40301597 0.91658224 0.8695411  0.04167214 0.15667189]\n",
      " [0.52012076 0.68455123 0.3544044  0.77541043 0.02568465]\n",
      " [0.57606354 0.34401363 0.82299998 0.33329301 0.28546371]\n",
      " [0.19940117 0.27440799 0.14694591 0.00185364 0.74955479]\n",
      " [0.30795661 0.32363823 0.22803072 0.93185443 0.19660557]]\n",
      "\n",
      "Normalized Matrix:\n",
      "[[-0.05516244  1.74085644  1.57634643 -1.31883643 -0.91666493]\n",
      " [ 0.35437069  0.92940892 -0.22516446  1.24715726 -1.37474711]\n",
      " [ 0.55001104 -0.26150257  1.41358513 -0.29899417 -0.46626049]\n",
      " [-0.7672342  -0.504924   -0.95067818 -1.45808777  1.1567362 ]\n",
      " [-0.38759941 -0.33275839 -0.66711233  1.79426559 -0.77701084]]\n"
     ]
    }
   ],
   "source": [
    "import numpy as np\n",
    "\n",
    "# Create a 5x5 random matrix\n",
    "random_matrix = np.random.rand(5, 5)\n",
    "\n",
    "# Normalize the matrix\n",
    "normalized_matrix = (random_matrix - np.mean(random_matrix)) / np.std(random_matrix)\n",
    "\n",
    "print(\"Original Matrix:\")\n",
    "print(random_matrix)\n",
    "\n",
    "print(\"\\nNormalized Matrix:\")\n",
    "print(normalized_matrix)"
   ]
  },
  {
   "cell_type": "markdown",
   "metadata": {},
   "source": [
    "# 5. How to find common values between two arrays?"
   ]
  },
  {
   "cell_type": "code",
   "execution_count": 5,
   "metadata": {},
   "outputs": [
    {
     "name": "stdout",
     "output_type": "stream",
     "text": [
      "[3 4 5]\n"
     ]
    }
   ],
   "source": [
    "import numpy as np\n",
    "\n",
    "# Create two arrays\n",
    "array1 = np.array([1, 2, 3, 4, 5])\n",
    "array2 = np.array([3, 4, 5, 6, 7])\n",
    "\n",
    "# Find common values between the two arrays\n",
    "common_values = np.intersect1d(array1, array2)\n",
    "\n",
    "print(common_values)\n"
   ]
  },
  {
   "cell_type": "markdown",
   "metadata": {},
   "source": [
    "# 6. How to get the dates of yesterday, today and tomorrow?"
   ]
  },
  {
   "cell_type": "code",
   "execution_count": 6,
   "metadata": {},
   "outputs": [
    {
     "name": "stdout",
     "output_type": "stream",
     "text": [
      "Yesterday: 2023-09-20\n",
      "Today: 2023-09-21\n",
      "Tomorrow: 2023-09-22\n"
     ]
    }
   ],
   "source": [
    "from datetime import datetime, timedelta\n",
    "\n",
    "# Get today's date\n",
    "today = datetime.now()\n",
    "\n",
    "# Calculate yesterday's date by subtracting one day\n",
    "yesterday = today - timedelta(days=1)\n",
    "\n",
    "# Calculate tomorrow's date by adding one day\n",
    "tomorrow = today + timedelta(days=1)\n",
    "\n",
    "# Format the dates as strings (optional)\n",
    "today_str = today.strftime('%Y-%m-%d')\n",
    "yesterday_str = yesterday.strftime('%Y-%m-%d')\n",
    "tomorrow_str = tomorrow.strftime('%Y-%m-%d')\n",
    "\n",
    "# Print the dates\n",
    "print(\"Yesterday:\", yesterday_str)\n",
    "print(\"Today:\", today_str)\n",
    "print(\"Tomorrow:\", tomorrow_str)\n"
   ]
  },
  {
   "cell_type": "markdown",
   "metadata": {},
   "source": [
    "# 7. Consider two random array A and B, check if they are equal"
   ]
  },
  {
   "cell_type": "code",
   "execution_count": 7,
   "metadata": {},
   "outputs": [
    {
     "name": "stdout",
     "output_type": "stream",
     "text": [
      "Arrays A and B are not equal element-wise.\n"
     ]
    }
   ],
   "source": [
    "import numpy as np\n",
    "\n",
    "# Create two random arrays A and B\n",
    "A = np.random.rand(5, 5)\n",
    "B = np.random.rand(5, 5)\n",
    "\n",
    "# Check if the arrays are equal element-wise\n",
    "elementwise_equal = (A == B).all()\n",
    "\n",
    "if elementwise_equal:\n",
    "    print(\"Arrays A and B are equal element-wise.\")\n",
    "else:\n",
    "    print(\"Arrays A and B are not equal element-wise.\")\n"
   ]
  },
  {
   "cell_type": "markdown",
   "metadata": {},
   "source": [
    "# 8. Create random vector of size 10 and replace the maximum value by 0"
   ]
  },
  {
   "cell_type": "code",
   "execution_count": 8,
   "metadata": {},
   "outputs": [
    {
     "name": "stdout",
     "output_type": "stream",
     "text": [
      "Original random vector:\n",
      "[0.46119612 0.41752701 0.         0.40620961 0.29274052 0.06429424\n",
      " 0.28399008 0.31558109 0.69935787 0.65551941]\n"
     ]
    }
   ],
   "source": [
    "import numpy as np\n",
    "\n",
    "# Create a random vector of size 10\n",
    "random_vector = np.random.rand(10)\n",
    "\n",
    "# Find the index of the maximum value in the vector\n",
    "max_index = np.argmax(random_vector)\n",
    "\n",
    "# Replace the maximum value with 0\n",
    "random_vector[max_index] = 0\n",
    "\n",
    "print(\"Original random vector:\")\n",
    "print(random_vector)"
   ]
  },
  {
   "cell_type": "markdown",
   "metadata": {},
   "source": [
    "# 9. How to print all the values of an array?"
   ]
  },
  {
   "cell_type": "code",
   "execution_count": 9,
   "metadata": {},
   "outputs": [
    {
     "name": "stdout",
     "output_type": "stream",
     "text": [
      "1\n",
      "2\n",
      "3\n",
      "4\n",
      "5\n"
     ]
    }
   ],
   "source": [
    "#List:\n",
    "\n",
    "my_list = [1, 2, 3, 4, 5]\n",
    "\n",
    "for value in my_list:\n",
    "    print(value)\n"
   ]
  },
  {
   "cell_type": "code",
   "execution_count": 10,
   "metadata": {},
   "outputs": [
    {
     "name": "stdout",
     "output_type": "stream",
     "text": [
      "1\n",
      "2\n",
      "3\n",
      "4\n",
      "5\n"
     ]
    },
    {
     "data": {
      "text/plain": [
       "[None, None, None, None, None]"
      ]
     },
     "execution_count": 10,
     "metadata": {},
     "output_type": "execute_result"
    }
   ],
   "source": [
    "#Using a list comprehension:\n",
    "\n",
    "my_list = [1, 2, 3, 4, 5]\n",
    "[print(value) for value in my_list]\n"
   ]
  },
  {
   "cell_type": "code",
   "execution_count": 11,
   "metadata": {},
   "outputs": [
    {
     "name": "stdout",
     "output_type": "stream",
     "text": [
      "[1 2 3 4 5]\n"
     ]
    }
   ],
   "source": [
    "#NumPy Array:\n",
    "import numpy as np\n",
    "\n",
    "my_array = np.array([1, 2, 3, 4, 5])\n",
    "print(my_array)"
   ]
  },
  {
   "cell_type": "code",
   "execution_count": 12,
   "metadata": {},
   "outputs": [
    {
     "name": "stdout",
     "output_type": "stream",
     "text": [
      "0    1\n",
      "1    2\n",
      "2    3\n",
      "3    4\n",
      "4    5\n",
      "dtype: int64\n"
     ]
    }
   ],
   "source": [
    "#Pandas Series:\n",
    "import pandas as pd\n",
    "\n",
    "my_series = pd.Series([1, 2, 3, 4, 5])\n",
    "print(my_series)"
   ]
  },
  {
   "cell_type": "markdown",
   "metadata": {},
   "source": [
    "# 10.Subtract the mean of each row of a matrix "
   ]
  },
  {
   "cell_type": "code",
   "execution_count": 13,
   "metadata": {},
   "outputs": [
    {
     "name": "stdout",
     "output_type": "stream",
     "text": [
      "Original Matrix:\n",
      "[[1 2 3]\n",
      " [4 5 6]\n",
      " [7 8 9]]\n",
      "\n",
      "Matrix with Row Means Subtracted:\n",
      "[[-1.  0.  1.]\n",
      " [-1.  0.  1.]\n",
      " [-1.  0.  1.]]\n"
     ]
    }
   ],
   "source": [
    "import numpy as np\n",
    "\n",
    "# Create a sample matrix (replace this with your own matrix)\n",
    "matrix = np.array([[1, 2, 3],\n",
    "                  [4, 5, 6],\n",
    "                  [7, 8, 9]])\n",
    "\n",
    "# Calculate the mean of each row\n",
    "row_means = np.mean(matrix, axis=1, keepdims=True)\n",
    "\n",
    "# Subtract the row means from the original matrix\n",
    "normalized_matrix = matrix - row_means\n",
    "\n",
    "print(\"Original Matrix:\")\n",
    "print(matrix)\n",
    "\n",
    "print(\"\\nMatrix with Row Means Subtracted:\")\n",
    "print(normalized_matrix)"
   ]
  },
  {
   "cell_type": "markdown",
   "metadata": {},
   "source": [
    "# 11. Consider a given vector, how to add 1 to each element indexed by a second vector (be careful with repeated indices)?"
   ]
  },
  {
   "cell_type": "code",
   "execution_count": 14,
   "metadata": {},
   "outputs": [
    {
     "name": "stdout",
     "output_type": "stream",
     "text": [
      "[2 2 4 5 5]\n"
     ]
    }
   ],
   "source": [
    "import numpy as np\n",
    "\n",
    "# Your initial vector\n",
    "initial_vector = np.array([1, 2, 3, 4, 5])\n",
    "\n",
    "# Second vector containing indices\n",
    "indices = np.array([0, 2, 3])\n",
    "\n",
    "# Create a new vector to store the results\n",
    "result_vector = initial_vector.copy()\n",
    "\n",
    "# Add one to each element at the specified indices\n",
    "result_vector[indices] += 1\n",
    "\n",
    "print(result_vector)"
   ]
  },
  {
   "cell_type": "markdown",
   "metadata": {},
   "source": [
    "# 12.How to get the diagonal of a dot product?"
   ]
  },
  {
   "cell_type": "code",
   "execution_count": 15,
   "metadata": {},
   "outputs": [
    {
     "name": "stdout",
     "output_type": "stream",
     "text": [
      "[30 69 90]\n"
     ]
    }
   ],
   "source": [
    "import numpy as np\n",
    "\n",
    "# Create two matrices A and B\n",
    "A = np.array([[1, 2, 3],\n",
    "              [4, 5, 6],\n",
    "              [7, 8, 9]])\n",
    "\n",
    "B = np.array([[9, 8, 7],\n",
    "              [6, 5, 4],\n",
    "              [3, 2, 1]])\n",
    "\n",
    "# Calculate the dot product of A and B\n",
    "dot_product = np.dot(A, B)\n",
    "\n",
    "# Get the diagonal elements of the dot product\n",
    "diagonal = np.diagonal(dot_product)\n",
    "\n",
    "print(diagonal)"
   ]
  },
  {
   "cell_type": "markdown",
   "metadata": {},
   "source": [
    "# 13. How to find the most frequent value in an array?"
   ]
  },
  {
   "cell_type": "code",
   "execution_count": 16,
   "metadata": {},
   "outputs": [
    {
     "name": "stdout",
     "output_type": "stream",
     "text": [
      "The most frequent value is 4 with 4 occurrences.\n"
     ]
    }
   ],
   "source": [
    "import numpy as np\n",
    "\n",
    "# Sample array\n",
    "my_array = np.array([1, 2, 2, 3, 3, 3, 4, 4, 4, 4, 5])\n",
    "\n",
    "# Use the `unique` function to get unique values and their counts\n",
    "unique_values, counts = np.unique(my_array, return_counts=True)\n",
    "\n",
    "# Find the index of the maximum count, which corresponds to the most frequent value\n",
    "most_frequent_index = np.argmax(counts)\n",
    "\n",
    "# Get the most frequent value\n",
    "most_frequent_value = unique_values[most_frequent_index]\n",
    "\n",
    "print(f\"The most frequent value is {most_frequent_value} with {counts[most_frequent_index]} occurrences.\")"
   ]
  },
  {
   "cell_type": "markdown",
   "metadata": {},
   "source": [
    "# 14. How to get the n largest values of an array"
   ]
  },
  {
   "cell_type": "code",
   "execution_count": 17,
   "metadata": {},
   "outputs": [
    {
     "name": "stdout",
     "output_type": "stream",
     "text": [
      "[5 7 8]\n"
     ]
    }
   ],
   "source": [
    "import numpy as np\n",
    "\n",
    "# Create an example array\n",
    "arr = np.array([5, 2, 8, 1, 7, 3])\n",
    "\n",
    "# Set the value of 'n' to get the n-largest values\n",
    "n = 3\n",
    "\n",
    "# Use partition to get the n-largest values\n",
    "n_largest = np.partition(arr, -n)[-n:]\n",
    "\n",
    "print(n_largest)"
   ]
  },
  {
   "cell_type": "markdown",
   "metadata": {},
   "source": [
    "# 15. How to create a record array from a regular array?"
   ]
  },
  {
   "cell_type": "code",
   "execution_count": 18,
   "metadata": {},
   "outputs": [
    {
     "name": "stdout",
     "output_type": "stream",
     "text": [
      "((1, 'Alice', 25), (2, 'Bob', 30), (3, 'Charlie', 22))\n"
     ]
    }
   ],
   "source": [
    "import numpy as np\n",
    "\n",
    "# Create a regular array with data\n",
    "regular_array = np.array([(1, 'Alice', 25),\n",
    "                           (2, 'Bob', 30),\n",
    "                           (3, 'Charlie', 22)],\n",
    "                          dtype=[('ID', int), ('Name', 'U10'), ('Age', int)])\n",
    "\n",
    "# Create a record array\n",
    "record_array = np.rec.fromarrays(regular_array.T, names=regular_array.dtype.names)\n",
    "\n",
    "# Print the record array\n",
    "print(record_array)"
   ]
  },
  {
   "cell_type": "markdown",
   "metadata": {},
   "source": [
    "# 16. How to swap two rows of an array?"
   ]
  },
  {
   "cell_type": "code",
   "execution_count": 19,
   "metadata": {},
   "outputs": [
    {
     "name": "stdout",
     "output_type": "stream",
     "text": [
      "[[7 8 9]\n",
      " [4 5 6]\n",
      " [1 2 3]]\n"
     ]
    }
   ],
   "source": [
    "import numpy as np\n",
    "\n",
    "# Create a sample 2D NumPy array\n",
    "array = np.array([[1, 2, 3],\n",
    "                  [4, 5, 6],\n",
    "                  [7, 8, 9]])\n",
    "\n",
    "# Swap rows (for example, swapping rows 0 and 2)\n",
    "array[[0, 2]] = array[[2, 0]]\n",
    "\n",
    "# Now, 'array' will have rows 0 and 2 swapped\n",
    "print(array)"
   ]
  },
  {
   "cell_type": "markdown",
   "metadata": {},
   "source": [
    "# 17. Write python code to reshape to the next dimension of numpy array?"
   ]
  },
  {
   "cell_type": "code",
   "execution_count": 20,
   "metadata": {},
   "outputs": [
    {
     "name": "stdout",
     "output_type": "stream",
     "text": [
      "Original Array:\n",
      "[[1 2]\n",
      " [3 4]\n",
      " [5 6]]\n",
      "\n",
      "Reshaped Array:\n",
      "[[1 2 3]\n",
      " [4 5 6]]\n"
     ]
    }
   ],
   "source": [
    "import numpy as np\n",
    "\n",
    "# Create a NumPy array\n",
    "original_array = np.array([[1, 2], [3, 4], [5, 6]])\n",
    "\n",
    "# Reshape the array to the next dimension\n",
    "reshaped_array = original_array.reshape(-1, original_array.shape[0])\n",
    "\n",
    "# Print the original and reshaped arrays\n",
    "print(\"Original Array:\")\n",
    "print(original_array)\n",
    "\n",
    "print(\"\\nReshaped Array:\")\n",
    "print(reshaped_array)"
   ]
  }
 ],
 "metadata": {
  "kernelspec": {
   "display_name": "Python 3",
   "language": "python",
   "name": "python3"
  },
  "language_info": {
   "codemirror_mode": {
    "name": "ipython",
    "version": 3
   },
   "file_extension": ".py",
   "mimetype": "text/x-python",
   "name": "python",
   "nbconvert_exporter": "python",
   "pygments_lexer": "ipython3",
   "version": "3.8.5"
  }
 },
 "nbformat": 4,
 "nbformat_minor": 4
}
